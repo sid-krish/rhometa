{
 "cells": [
  {
   "cell_type": "markdown",
   "source": [
    "#### Test file parameters: rho_10_theta_0.01 sample_size_20 depth_4 genome_size_5000 seed_1\n",
    "#### The steps that follow the generation of a pairwise table:\n"
   ],
   "metadata": {
    "collapsed": false
   }
  },
  {
   "cell_type": "code",
   "execution_count": 11,
   "metadata": {
    "collapsed": true
   },
   "outputs": [],
   "source": [
    "#!/usr/bin/env python\n",
    "\n",
    "import numpy as np\n",
    "import pandas as pd\n",
    "from ldpop import rhos_from_string\n",
    "\n",
    "import m_isolate_by_depth\n",
    "import m_biallelic_filter_pairwise_table\n",
    "import m_pairwise_lookup_format_pyrho\n",
    "import m_custom_hap_sets_and_merge\n",
    "import m_pij_grid_vectorised\n",
    "import m_pairwise_rho_estimator_intp_rect_biv\n",
    "\n",
    "depth = 10 # Change to try different depths. Needs appropriate lookup tables though\n",
    "\n",
    "recom_tract_len = 1000\n",
    "depth_range = \"3,200\"\n",
    "n_resamples = 50\n",
    "lookup_table_rho_range = \"101,100\"\n",
    "pairwise_table_file = \"../Recom_Est_Output/pairwise_table.pkl\"\n",
    "num_cores = 4\n",
    "lookup_table_rho_vals = rhos_from_string(lookup_table_rho_range)\n",
    "lookup_table = f\"/Volumes/Backup/Lookup_tables/Lookup_tables_m_0.01_r_0-100/lk_downsampled_{depth}.csv\""
   ]
  },
  {
   "cell_type": "markdown",
   "source": [
    "#### Load pairwise table"
   ],
   "metadata": {
    "collapsed": false,
    "pycharm": {
     "name": "#%% md\n"
    }
   }
  },
  {
   "cell_type": "code",
   "execution_count": 12,
   "outputs": [
    {
     "data": {
      "text/plain": "              AA  AC  AG  AT  CA  CC  CG  CT  GA  GC  GG  GT  TA  TC  TG  TT\n(30, 79)       0   0   0   0   0   0   0   3   0   0   4   3   0   0   0   0\n(30, 100)      0   0   0   0   0   0   3   0   0   0   7   0   0   0   0   0\n(30, 118)      0   0   0   0   1   0   2   0   0   0   7   0   0   0   0   0\n(30, 126)      0   0   0   0   0   0   0   3   0   0   5   2   0   0   0   0\n(30, 168)      0   0   0   0   0   0   0   1   0   0   6   0   0   0   0   0\n...           ..  ..  ..  ..  ..  ..  ..  ..  ..  ..  ..  ..  ..  ..  ..  ..\n(4833, 4909)   0   0   0   6   1   0   0   0  15   0   0   2   0   0   0   0\n(4833, 4935)   0   0   0   5   0   0   0   1   0   2   0  12   0   0   0   0\n(4854, 4909)   8   0   0   0   0   0   0   0   9   0   0   9   0   0   0   0\n(4854, 4935)   0   0   0   6   0   0   0   0   0   2   0  14   0   0   0   0\n(4909, 4935)   0   0   0  14   0   0   0   0   0   0   0   0   0   2   0   6\n\n[2514 rows x 16 columns]",
      "text/html": "<div>\n<style scoped>\n    .dataframe tbody tr th:only-of-type {\n        vertical-align: middle;\n    }\n\n    .dataframe tbody tr th {\n        vertical-align: top;\n    }\n\n    .dataframe thead th {\n        text-align: right;\n    }\n</style>\n<table border=\"1\" class=\"dataframe\">\n  <thead>\n    <tr style=\"text-align: right;\">\n      <th></th>\n      <th>AA</th>\n      <th>AC</th>\n      <th>AG</th>\n      <th>AT</th>\n      <th>CA</th>\n      <th>CC</th>\n      <th>CG</th>\n      <th>CT</th>\n      <th>GA</th>\n      <th>GC</th>\n      <th>GG</th>\n      <th>GT</th>\n      <th>TA</th>\n      <th>TC</th>\n      <th>TG</th>\n      <th>TT</th>\n    </tr>\n  </thead>\n  <tbody>\n    <tr>\n      <th>(30, 79)</th>\n      <td>0</td>\n      <td>0</td>\n      <td>0</td>\n      <td>0</td>\n      <td>0</td>\n      <td>0</td>\n      <td>0</td>\n      <td>3</td>\n      <td>0</td>\n      <td>0</td>\n      <td>4</td>\n      <td>3</td>\n      <td>0</td>\n      <td>0</td>\n      <td>0</td>\n      <td>0</td>\n    </tr>\n    <tr>\n      <th>(30, 100)</th>\n      <td>0</td>\n      <td>0</td>\n      <td>0</td>\n      <td>0</td>\n      <td>0</td>\n      <td>0</td>\n      <td>3</td>\n      <td>0</td>\n      <td>0</td>\n      <td>0</td>\n      <td>7</td>\n      <td>0</td>\n      <td>0</td>\n      <td>0</td>\n      <td>0</td>\n      <td>0</td>\n    </tr>\n    <tr>\n      <th>(30, 118)</th>\n      <td>0</td>\n      <td>0</td>\n      <td>0</td>\n      <td>0</td>\n      <td>1</td>\n      <td>0</td>\n      <td>2</td>\n      <td>0</td>\n      <td>0</td>\n      <td>0</td>\n      <td>7</td>\n      <td>0</td>\n      <td>0</td>\n      <td>0</td>\n      <td>0</td>\n      <td>0</td>\n    </tr>\n    <tr>\n      <th>(30, 126)</th>\n      <td>0</td>\n      <td>0</td>\n      <td>0</td>\n      <td>0</td>\n      <td>0</td>\n      <td>0</td>\n      <td>0</td>\n      <td>3</td>\n      <td>0</td>\n      <td>0</td>\n      <td>5</td>\n      <td>2</td>\n      <td>0</td>\n      <td>0</td>\n      <td>0</td>\n      <td>0</td>\n    </tr>\n    <tr>\n      <th>(30, 168)</th>\n      <td>0</td>\n      <td>0</td>\n      <td>0</td>\n      <td>0</td>\n      <td>0</td>\n      <td>0</td>\n      <td>0</td>\n      <td>1</td>\n      <td>0</td>\n      <td>0</td>\n      <td>6</td>\n      <td>0</td>\n      <td>0</td>\n      <td>0</td>\n      <td>0</td>\n      <td>0</td>\n    </tr>\n    <tr>\n      <th>...</th>\n      <td>...</td>\n      <td>...</td>\n      <td>...</td>\n      <td>...</td>\n      <td>...</td>\n      <td>...</td>\n      <td>...</td>\n      <td>...</td>\n      <td>...</td>\n      <td>...</td>\n      <td>...</td>\n      <td>...</td>\n      <td>...</td>\n      <td>...</td>\n      <td>...</td>\n      <td>...</td>\n    </tr>\n    <tr>\n      <th>(4833, 4909)</th>\n      <td>0</td>\n      <td>0</td>\n      <td>0</td>\n      <td>6</td>\n      <td>1</td>\n      <td>0</td>\n      <td>0</td>\n      <td>0</td>\n      <td>15</td>\n      <td>0</td>\n      <td>0</td>\n      <td>2</td>\n      <td>0</td>\n      <td>0</td>\n      <td>0</td>\n      <td>0</td>\n    </tr>\n    <tr>\n      <th>(4833, 4935)</th>\n      <td>0</td>\n      <td>0</td>\n      <td>0</td>\n      <td>5</td>\n      <td>0</td>\n      <td>0</td>\n      <td>0</td>\n      <td>1</td>\n      <td>0</td>\n      <td>2</td>\n      <td>0</td>\n      <td>12</td>\n      <td>0</td>\n      <td>0</td>\n      <td>0</td>\n      <td>0</td>\n    </tr>\n    <tr>\n      <th>(4854, 4909)</th>\n      <td>8</td>\n      <td>0</td>\n      <td>0</td>\n      <td>0</td>\n      <td>0</td>\n      <td>0</td>\n      <td>0</td>\n      <td>0</td>\n      <td>9</td>\n      <td>0</td>\n      <td>0</td>\n      <td>9</td>\n      <td>0</td>\n      <td>0</td>\n      <td>0</td>\n      <td>0</td>\n    </tr>\n    <tr>\n      <th>(4854, 4935)</th>\n      <td>0</td>\n      <td>0</td>\n      <td>0</td>\n      <td>6</td>\n      <td>0</td>\n      <td>0</td>\n      <td>0</td>\n      <td>0</td>\n      <td>0</td>\n      <td>2</td>\n      <td>0</td>\n      <td>14</td>\n      <td>0</td>\n      <td>0</td>\n      <td>0</td>\n      <td>0</td>\n    </tr>\n    <tr>\n      <th>(4909, 4935)</th>\n      <td>0</td>\n      <td>0</td>\n      <td>0</td>\n      <td>14</td>\n      <td>0</td>\n      <td>0</td>\n      <td>0</td>\n      <td>0</td>\n      <td>0</td>\n      <td>0</td>\n      <td>0</td>\n      <td>0</td>\n      <td>0</td>\n      <td>2</td>\n      <td>0</td>\n      <td>6</td>\n    </tr>\n  </tbody>\n</table>\n<p>2514 rows × 16 columns</p>\n</div>"
     },
     "execution_count": 12,
     "metadata": {},
     "output_type": "execute_result"
    }
   ],
   "source": [
    "pairwise_table = pd.read_pickle(pairwise_table_file)\n",
    "pairwise_table"
   ],
   "metadata": {
    "collapsed": false,
    "pycharm": {
     "name": "#%%\n"
    }
   }
  },
  {
   "cell_type": "markdown",
   "source": [
    "#### Isolate a single depth for testing"
   ],
   "metadata": {
    "collapsed": false
   }
  },
  {
   "cell_type": "code",
   "execution_count": 13,
   "outputs": [
    {
     "data": {
      "text/plain": "              AA  AC  AG  AT  CA  CC  CG  CT  GA  GC  GG  GT  TA  TC  TG  TT\n(30, 79)       0   0   0   0   0   0   0   3   0   0   4   3   0   0   0   0\n(30, 100)      0   0   0   0   0   0   3   0   0   0   7   0   0   0   0   0\n(30, 118)      0   0   0   0   1   0   2   0   0   0   7   0   0   0   0   0\n(30, 126)      0   0   0   0   0   0   0   3   0   0   5   2   0   0   0   0\n(30, 258)      0   0   0   0   0   0   0   3   7   0   0   0   0   0   0   0\n(79, 353)      0   0   0   0   0   0   0   0   0   0   2   1   0   0   7   0\n(118, 384)     0   2   0   0   0   0   0   0   0   8   0   0   0   0   0   0\n(1188, 1457)   0   0   0   0   0   0   5   0   0   1   4   0   0   0   0   0\n(2586, 2862)   4   0   0   0   3   0   3   0   0   0   0   0   0   0   0   0\n(2586, 2864)   0   2   2   0   0   0   6   0   0   0   0   0   0   0   0   0\n(2691, 2952)   0   0   0   0   5   0   0   0   3   0   2   0   0   0   0   0\n(2691, 2955)   0   0   0   0   5   0   0   0   2   0   0   3   0   0   0   0\n(2883, 3139)   0   0   0   0   0   1   0   0   0   8   0   1   0   0   0   0\n(3084, 3351)   0   9   0   0   0   0   0   0   0   0   0   1   0   0   0   0\n(3506, 3734)   0   1   0   0   0   0   0   0   0   0   0   0   7   2   0   0\n(3668, 3915)   0   0   0   0   0   0   0   0   0   0   0   0   0   2   0   8\n(3734, 4000)   0   4   0   1   0   5   0   0   0   0   0   0   0   0   0   0\n(3734, 4006)   1   4   0   0   0   5   0   0   0   0   0   0   0   0   0   0\n(4000, 4269)   0   0   0   0   2   8   0   0   0   0   0   0   0   0   0   0",
      "text/html": "<div>\n<style scoped>\n    .dataframe tbody tr th:only-of-type {\n        vertical-align: middle;\n    }\n\n    .dataframe tbody tr th {\n        vertical-align: top;\n    }\n\n    .dataframe thead th {\n        text-align: right;\n    }\n</style>\n<table border=\"1\" class=\"dataframe\">\n  <thead>\n    <tr style=\"text-align: right;\">\n      <th></th>\n      <th>AA</th>\n      <th>AC</th>\n      <th>AG</th>\n      <th>AT</th>\n      <th>CA</th>\n      <th>CC</th>\n      <th>CG</th>\n      <th>CT</th>\n      <th>GA</th>\n      <th>GC</th>\n      <th>GG</th>\n      <th>GT</th>\n      <th>TA</th>\n      <th>TC</th>\n      <th>TG</th>\n      <th>TT</th>\n    </tr>\n  </thead>\n  <tbody>\n    <tr>\n      <th>(30, 79)</th>\n      <td>0</td>\n      <td>0</td>\n      <td>0</td>\n      <td>0</td>\n      <td>0</td>\n      <td>0</td>\n      <td>0</td>\n      <td>3</td>\n      <td>0</td>\n      <td>0</td>\n      <td>4</td>\n      <td>3</td>\n      <td>0</td>\n      <td>0</td>\n      <td>0</td>\n      <td>0</td>\n    </tr>\n    <tr>\n      <th>(30, 100)</th>\n      <td>0</td>\n      <td>0</td>\n      <td>0</td>\n      <td>0</td>\n      <td>0</td>\n      <td>0</td>\n      <td>3</td>\n      <td>0</td>\n      <td>0</td>\n      <td>0</td>\n      <td>7</td>\n      <td>0</td>\n      <td>0</td>\n      <td>0</td>\n      <td>0</td>\n      <td>0</td>\n    </tr>\n    <tr>\n      <th>(30, 118)</th>\n      <td>0</td>\n      <td>0</td>\n      <td>0</td>\n      <td>0</td>\n      <td>1</td>\n      <td>0</td>\n      <td>2</td>\n      <td>0</td>\n      <td>0</td>\n      <td>0</td>\n      <td>7</td>\n      <td>0</td>\n      <td>0</td>\n      <td>0</td>\n      <td>0</td>\n      <td>0</td>\n    </tr>\n    <tr>\n      <th>(30, 126)</th>\n      <td>0</td>\n      <td>0</td>\n      <td>0</td>\n      <td>0</td>\n      <td>0</td>\n      <td>0</td>\n      <td>0</td>\n      <td>3</td>\n      <td>0</td>\n      <td>0</td>\n      <td>5</td>\n      <td>2</td>\n      <td>0</td>\n      <td>0</td>\n      <td>0</td>\n      <td>0</td>\n    </tr>\n    <tr>\n      <th>(30, 258)</th>\n      <td>0</td>\n      <td>0</td>\n      <td>0</td>\n      <td>0</td>\n      <td>0</td>\n      <td>0</td>\n      <td>0</td>\n      <td>3</td>\n      <td>7</td>\n      <td>0</td>\n      <td>0</td>\n      <td>0</td>\n      <td>0</td>\n      <td>0</td>\n      <td>0</td>\n      <td>0</td>\n    </tr>\n    <tr>\n      <th>(79, 353)</th>\n      <td>0</td>\n      <td>0</td>\n      <td>0</td>\n      <td>0</td>\n      <td>0</td>\n      <td>0</td>\n      <td>0</td>\n      <td>0</td>\n      <td>0</td>\n      <td>0</td>\n      <td>2</td>\n      <td>1</td>\n      <td>0</td>\n      <td>0</td>\n      <td>7</td>\n      <td>0</td>\n    </tr>\n    <tr>\n      <th>(118, 384)</th>\n      <td>0</td>\n      <td>2</td>\n      <td>0</td>\n      <td>0</td>\n      <td>0</td>\n      <td>0</td>\n      <td>0</td>\n      <td>0</td>\n      <td>0</td>\n      <td>8</td>\n      <td>0</td>\n      <td>0</td>\n      <td>0</td>\n      <td>0</td>\n      <td>0</td>\n      <td>0</td>\n    </tr>\n    <tr>\n      <th>(1188, 1457)</th>\n      <td>0</td>\n      <td>0</td>\n      <td>0</td>\n      <td>0</td>\n      <td>0</td>\n      <td>0</td>\n      <td>5</td>\n      <td>0</td>\n      <td>0</td>\n      <td>1</td>\n      <td>4</td>\n      <td>0</td>\n      <td>0</td>\n      <td>0</td>\n      <td>0</td>\n      <td>0</td>\n    </tr>\n    <tr>\n      <th>(2586, 2862)</th>\n      <td>4</td>\n      <td>0</td>\n      <td>0</td>\n      <td>0</td>\n      <td>3</td>\n      <td>0</td>\n      <td>3</td>\n      <td>0</td>\n      <td>0</td>\n      <td>0</td>\n      <td>0</td>\n      <td>0</td>\n      <td>0</td>\n      <td>0</td>\n      <td>0</td>\n      <td>0</td>\n    </tr>\n    <tr>\n      <th>(2586, 2864)</th>\n      <td>0</td>\n      <td>2</td>\n      <td>2</td>\n      <td>0</td>\n      <td>0</td>\n      <td>0</td>\n      <td>6</td>\n      <td>0</td>\n      <td>0</td>\n      <td>0</td>\n      <td>0</td>\n      <td>0</td>\n      <td>0</td>\n      <td>0</td>\n      <td>0</td>\n      <td>0</td>\n    </tr>\n    <tr>\n      <th>(2691, 2952)</th>\n      <td>0</td>\n      <td>0</td>\n      <td>0</td>\n      <td>0</td>\n      <td>5</td>\n      <td>0</td>\n      <td>0</td>\n      <td>0</td>\n      <td>3</td>\n      <td>0</td>\n      <td>2</td>\n      <td>0</td>\n      <td>0</td>\n      <td>0</td>\n      <td>0</td>\n      <td>0</td>\n    </tr>\n    <tr>\n      <th>(2691, 2955)</th>\n      <td>0</td>\n      <td>0</td>\n      <td>0</td>\n      <td>0</td>\n      <td>5</td>\n      <td>0</td>\n      <td>0</td>\n      <td>0</td>\n      <td>2</td>\n      <td>0</td>\n      <td>0</td>\n      <td>3</td>\n      <td>0</td>\n      <td>0</td>\n      <td>0</td>\n      <td>0</td>\n    </tr>\n    <tr>\n      <th>(2883, 3139)</th>\n      <td>0</td>\n      <td>0</td>\n      <td>0</td>\n      <td>0</td>\n      <td>0</td>\n      <td>1</td>\n      <td>0</td>\n      <td>0</td>\n      <td>0</td>\n      <td>8</td>\n      <td>0</td>\n      <td>1</td>\n      <td>0</td>\n      <td>0</td>\n      <td>0</td>\n      <td>0</td>\n    </tr>\n    <tr>\n      <th>(3084, 3351)</th>\n      <td>0</td>\n      <td>9</td>\n      <td>0</td>\n      <td>0</td>\n      <td>0</td>\n      <td>0</td>\n      <td>0</td>\n      <td>0</td>\n      <td>0</td>\n      <td>0</td>\n      <td>0</td>\n      <td>1</td>\n      <td>0</td>\n      <td>0</td>\n      <td>0</td>\n      <td>0</td>\n    </tr>\n    <tr>\n      <th>(3506, 3734)</th>\n      <td>0</td>\n      <td>1</td>\n      <td>0</td>\n      <td>0</td>\n      <td>0</td>\n      <td>0</td>\n      <td>0</td>\n      <td>0</td>\n      <td>0</td>\n      <td>0</td>\n      <td>0</td>\n      <td>0</td>\n      <td>7</td>\n      <td>2</td>\n      <td>0</td>\n      <td>0</td>\n    </tr>\n    <tr>\n      <th>(3668, 3915)</th>\n      <td>0</td>\n      <td>0</td>\n      <td>0</td>\n      <td>0</td>\n      <td>0</td>\n      <td>0</td>\n      <td>0</td>\n      <td>0</td>\n      <td>0</td>\n      <td>0</td>\n      <td>0</td>\n      <td>0</td>\n      <td>0</td>\n      <td>2</td>\n      <td>0</td>\n      <td>8</td>\n    </tr>\n    <tr>\n      <th>(3734, 4000)</th>\n      <td>0</td>\n      <td>4</td>\n      <td>0</td>\n      <td>1</td>\n      <td>0</td>\n      <td>5</td>\n      <td>0</td>\n      <td>0</td>\n      <td>0</td>\n      <td>0</td>\n      <td>0</td>\n      <td>0</td>\n      <td>0</td>\n      <td>0</td>\n      <td>0</td>\n      <td>0</td>\n    </tr>\n    <tr>\n      <th>(3734, 4006)</th>\n      <td>1</td>\n      <td>4</td>\n      <td>0</td>\n      <td>0</td>\n      <td>0</td>\n      <td>5</td>\n      <td>0</td>\n      <td>0</td>\n      <td>0</td>\n      <td>0</td>\n      <td>0</td>\n      <td>0</td>\n      <td>0</td>\n      <td>0</td>\n      <td>0</td>\n      <td>0</td>\n    </tr>\n    <tr>\n      <th>(4000, 4269)</th>\n      <td>0</td>\n      <td>0</td>\n      <td>0</td>\n      <td>0</td>\n      <td>2</td>\n      <td>8</td>\n      <td>0</td>\n      <td>0</td>\n      <td>0</td>\n      <td>0</td>\n      <td>0</td>\n      <td>0</td>\n      <td>0</td>\n      <td>0</td>\n      <td>0</td>\n      <td>0</td>\n    </tr>\n  </tbody>\n</table>\n</div>"
     },
     "execution_count": 13,
     "metadata": {},
     "output_type": "execute_result"
    }
   ],
   "source": [
    "pairwise_table_slice = m_isolate_by_depth.main(pairwise_table, depth)\n",
    "pairwise_table_slice"
   ],
   "metadata": {
    "collapsed": false,
    "pycharm": {
     "name": "#%%\n"
    }
   }
  },
  {
   "cell_type": "markdown",
   "source": [
    "#### Perform bi-allelic filtering"
   ],
   "metadata": {
    "collapsed": false
   }
  },
  {
   "cell_type": "code",
   "execution_count": 14,
   "outputs": [
    {
     "data": {
      "text/plain": "              AA  AC  AG  AT  CA  CC  CG  CT  GA  GC  GG  GT  TA  TC  TG  TT\n(30, 79)       0   0   0   0   0   0   0   3   0   0   4   3   0   0   0   0\n(30, 118)      0   0   0   0   1   0   2   0   0   0   7   0   0   0   0   0\n(30, 126)      0   0   0   0   0   0   0   3   0   0   5   2   0   0   0   0\n(30, 258)      0   0   0   0   0   0   0   3   7   0   0   0   0   0   0   0\n(79, 353)      0   0   0   0   0   0   0   0   0   0   2   1   0   0   7   0\n(1188, 1457)   0   0   0   0   0   0   5   0   0   1   4   0   0   0   0   0\n(2586, 2862)   4   0   0   0   3   0   3   0   0   0   0   0   0   0   0   0\n(2586, 2864)   0   2   2   0   0   0   6   0   0   0   0   0   0   0   0   0\n(2691, 2952)   0   0   0   0   5   0   0   0   3   0   2   0   0   0   0   0\n(2691, 2955)   0   0   0   0   5   0   0   0   2   0   0   3   0   0   0   0\n(2883, 3139)   0   0   0   0   0   1   0   0   0   8   0   1   0   0   0   0\n(3084, 3351)   0   9   0   0   0   0   0   0   0   0   0   1   0   0   0   0\n(3506, 3734)   0   1   0   0   0   0   0   0   0   0   0   0   7   2   0   0\n(3734, 4000)   0   4   0   1   0   5   0   0   0   0   0   0   0   0   0   0\n(3734, 4006)   1   4   0   0   0   5   0   0   0   0   0   0   0   0   0   0",
      "text/html": "<div>\n<style scoped>\n    .dataframe tbody tr th:only-of-type {\n        vertical-align: middle;\n    }\n\n    .dataframe tbody tr th {\n        vertical-align: top;\n    }\n\n    .dataframe thead th {\n        text-align: right;\n    }\n</style>\n<table border=\"1\" class=\"dataframe\">\n  <thead>\n    <tr style=\"text-align: right;\">\n      <th></th>\n      <th>AA</th>\n      <th>AC</th>\n      <th>AG</th>\n      <th>AT</th>\n      <th>CA</th>\n      <th>CC</th>\n      <th>CG</th>\n      <th>CT</th>\n      <th>GA</th>\n      <th>GC</th>\n      <th>GG</th>\n      <th>GT</th>\n      <th>TA</th>\n      <th>TC</th>\n      <th>TG</th>\n      <th>TT</th>\n    </tr>\n  </thead>\n  <tbody>\n    <tr>\n      <th>(30, 79)</th>\n      <td>0</td>\n      <td>0</td>\n      <td>0</td>\n      <td>0</td>\n      <td>0</td>\n      <td>0</td>\n      <td>0</td>\n      <td>3</td>\n      <td>0</td>\n      <td>0</td>\n      <td>4</td>\n      <td>3</td>\n      <td>0</td>\n      <td>0</td>\n      <td>0</td>\n      <td>0</td>\n    </tr>\n    <tr>\n      <th>(30, 118)</th>\n      <td>0</td>\n      <td>0</td>\n      <td>0</td>\n      <td>0</td>\n      <td>1</td>\n      <td>0</td>\n      <td>2</td>\n      <td>0</td>\n      <td>0</td>\n      <td>0</td>\n      <td>7</td>\n      <td>0</td>\n      <td>0</td>\n      <td>0</td>\n      <td>0</td>\n      <td>0</td>\n    </tr>\n    <tr>\n      <th>(30, 126)</th>\n      <td>0</td>\n      <td>0</td>\n      <td>0</td>\n      <td>0</td>\n      <td>0</td>\n      <td>0</td>\n      <td>0</td>\n      <td>3</td>\n      <td>0</td>\n      <td>0</td>\n      <td>5</td>\n      <td>2</td>\n      <td>0</td>\n      <td>0</td>\n      <td>0</td>\n      <td>0</td>\n    </tr>\n    <tr>\n      <th>(30, 258)</th>\n      <td>0</td>\n      <td>0</td>\n      <td>0</td>\n      <td>0</td>\n      <td>0</td>\n      <td>0</td>\n      <td>0</td>\n      <td>3</td>\n      <td>7</td>\n      <td>0</td>\n      <td>0</td>\n      <td>0</td>\n      <td>0</td>\n      <td>0</td>\n      <td>0</td>\n      <td>0</td>\n    </tr>\n    <tr>\n      <th>(79, 353)</th>\n      <td>0</td>\n      <td>0</td>\n      <td>0</td>\n      <td>0</td>\n      <td>0</td>\n      <td>0</td>\n      <td>0</td>\n      <td>0</td>\n      <td>0</td>\n      <td>0</td>\n      <td>2</td>\n      <td>1</td>\n      <td>0</td>\n      <td>0</td>\n      <td>7</td>\n      <td>0</td>\n    </tr>\n    <tr>\n      <th>(1188, 1457)</th>\n      <td>0</td>\n      <td>0</td>\n      <td>0</td>\n      <td>0</td>\n      <td>0</td>\n      <td>0</td>\n      <td>5</td>\n      <td>0</td>\n      <td>0</td>\n      <td>1</td>\n      <td>4</td>\n      <td>0</td>\n      <td>0</td>\n      <td>0</td>\n      <td>0</td>\n      <td>0</td>\n    </tr>\n    <tr>\n      <th>(2586, 2862)</th>\n      <td>4</td>\n      <td>0</td>\n      <td>0</td>\n      <td>0</td>\n      <td>3</td>\n      <td>0</td>\n      <td>3</td>\n      <td>0</td>\n      <td>0</td>\n      <td>0</td>\n      <td>0</td>\n      <td>0</td>\n      <td>0</td>\n      <td>0</td>\n      <td>0</td>\n      <td>0</td>\n    </tr>\n    <tr>\n      <th>(2586, 2864)</th>\n      <td>0</td>\n      <td>2</td>\n      <td>2</td>\n      <td>0</td>\n      <td>0</td>\n      <td>0</td>\n      <td>6</td>\n      <td>0</td>\n      <td>0</td>\n      <td>0</td>\n      <td>0</td>\n      <td>0</td>\n      <td>0</td>\n      <td>0</td>\n      <td>0</td>\n      <td>0</td>\n    </tr>\n    <tr>\n      <th>(2691, 2952)</th>\n      <td>0</td>\n      <td>0</td>\n      <td>0</td>\n      <td>0</td>\n      <td>5</td>\n      <td>0</td>\n      <td>0</td>\n      <td>0</td>\n      <td>3</td>\n      <td>0</td>\n      <td>2</td>\n      <td>0</td>\n      <td>0</td>\n      <td>0</td>\n      <td>0</td>\n      <td>0</td>\n    </tr>\n    <tr>\n      <th>(2691, 2955)</th>\n      <td>0</td>\n      <td>0</td>\n      <td>0</td>\n      <td>0</td>\n      <td>5</td>\n      <td>0</td>\n      <td>0</td>\n      <td>0</td>\n      <td>2</td>\n      <td>0</td>\n      <td>0</td>\n      <td>3</td>\n      <td>0</td>\n      <td>0</td>\n      <td>0</td>\n      <td>0</td>\n    </tr>\n    <tr>\n      <th>(2883, 3139)</th>\n      <td>0</td>\n      <td>0</td>\n      <td>0</td>\n      <td>0</td>\n      <td>0</td>\n      <td>1</td>\n      <td>0</td>\n      <td>0</td>\n      <td>0</td>\n      <td>8</td>\n      <td>0</td>\n      <td>1</td>\n      <td>0</td>\n      <td>0</td>\n      <td>0</td>\n      <td>0</td>\n    </tr>\n    <tr>\n      <th>(3084, 3351)</th>\n      <td>0</td>\n      <td>9</td>\n      <td>0</td>\n      <td>0</td>\n      <td>0</td>\n      <td>0</td>\n      <td>0</td>\n      <td>0</td>\n      <td>0</td>\n      <td>0</td>\n      <td>0</td>\n      <td>1</td>\n      <td>0</td>\n      <td>0</td>\n      <td>0</td>\n      <td>0</td>\n    </tr>\n    <tr>\n      <th>(3506, 3734)</th>\n      <td>0</td>\n      <td>1</td>\n      <td>0</td>\n      <td>0</td>\n      <td>0</td>\n      <td>0</td>\n      <td>0</td>\n      <td>0</td>\n      <td>0</td>\n      <td>0</td>\n      <td>0</td>\n      <td>0</td>\n      <td>7</td>\n      <td>2</td>\n      <td>0</td>\n      <td>0</td>\n    </tr>\n    <tr>\n      <th>(3734, 4000)</th>\n      <td>0</td>\n      <td>4</td>\n      <td>0</td>\n      <td>1</td>\n      <td>0</td>\n      <td>5</td>\n      <td>0</td>\n      <td>0</td>\n      <td>0</td>\n      <td>0</td>\n      <td>0</td>\n      <td>0</td>\n      <td>0</td>\n      <td>0</td>\n      <td>0</td>\n      <td>0</td>\n    </tr>\n    <tr>\n      <th>(3734, 4006)</th>\n      <td>1</td>\n      <td>4</td>\n      <td>0</td>\n      <td>0</td>\n      <td>0</td>\n      <td>5</td>\n      <td>0</td>\n      <td>0</td>\n      <td>0</td>\n      <td>0</td>\n      <td>0</td>\n      <td>0</td>\n      <td>0</td>\n      <td>0</td>\n      <td>0</td>\n      <td>0</td>\n    </tr>\n  </tbody>\n</table>\n</div>"
     },
     "execution_count": 14,
     "metadata": {},
     "output_type": "execute_result"
    }
   ],
   "source": [
    "pairwise_biallelic_table = m_biallelic_filter_pairwise_table.main(pairwise_table_slice.copy())\n",
    "pairwise_biallelic_table"
   ],
   "metadata": {
    "collapsed": false,
    "pycharm": {
     "name": "#%%\n"
    }
   }
  },
  {
   "cell_type": "markdown",
   "source": [
    "#### Convert to lookup format to match against likelihood tables"
   ],
   "metadata": {
    "collapsed": false
   }
  },
  {
   "cell_type": "code",
   "execution_count": 15,
   "outputs": [
    {
     "data": {
      "text/plain": "               00   01   10   11\n(30, 79)      3.0  4.0  3.0  0.0\n(30, 118)     7.0  0.0  2.0  1.0\n(30, 126)     2.0  5.0  3.0  0.0\n(30, 258)     0.0  7.0  3.0  0.0\n(79, 353)     0.0  7.0  1.0  2.0\n(1188, 1457)  4.0  1.0  5.0  0.0\n(2586, 2862)  3.0  3.0  0.0  4.0\n(2586, 2864)  6.0  0.0  2.0  2.0\n(2691, 2952)  2.0  3.0  0.0  5.0\n(2691, 2955)  3.0  2.0  0.0  5.0\n(2883, 3139)  1.0  8.0  0.0  1.0\n(3084, 3351)  1.0  0.0  0.0  9.0\n(3506, 3734)  2.0  7.0  1.0  0.0\n(3734, 4000)  0.0  5.0  1.0  4.0\n(3734, 4006)  5.0  0.0  4.0  1.0",
      "text/html": "<div>\n<style scoped>\n    .dataframe tbody tr th:only-of-type {\n        vertical-align: middle;\n    }\n\n    .dataframe tbody tr th {\n        vertical-align: top;\n    }\n\n    .dataframe thead th {\n        text-align: right;\n    }\n</style>\n<table border=\"1\" class=\"dataframe\">\n  <thead>\n    <tr style=\"text-align: right;\">\n      <th></th>\n      <th>00</th>\n      <th>01</th>\n      <th>10</th>\n      <th>11</th>\n    </tr>\n  </thead>\n  <tbody>\n    <tr>\n      <th>(30, 79)</th>\n      <td>3.0</td>\n      <td>4.0</td>\n      <td>3.0</td>\n      <td>0.0</td>\n    </tr>\n    <tr>\n      <th>(30, 118)</th>\n      <td>7.0</td>\n      <td>0.0</td>\n      <td>2.0</td>\n      <td>1.0</td>\n    </tr>\n    <tr>\n      <th>(30, 126)</th>\n      <td>2.0</td>\n      <td>5.0</td>\n      <td>3.0</td>\n      <td>0.0</td>\n    </tr>\n    <tr>\n      <th>(30, 258)</th>\n      <td>0.0</td>\n      <td>7.0</td>\n      <td>3.0</td>\n      <td>0.0</td>\n    </tr>\n    <tr>\n      <th>(79, 353)</th>\n      <td>0.0</td>\n      <td>7.0</td>\n      <td>1.0</td>\n      <td>2.0</td>\n    </tr>\n    <tr>\n      <th>(1188, 1457)</th>\n      <td>4.0</td>\n      <td>1.0</td>\n      <td>5.0</td>\n      <td>0.0</td>\n    </tr>\n    <tr>\n      <th>(2586, 2862)</th>\n      <td>3.0</td>\n      <td>3.0</td>\n      <td>0.0</td>\n      <td>4.0</td>\n    </tr>\n    <tr>\n      <th>(2586, 2864)</th>\n      <td>6.0</td>\n      <td>0.0</td>\n      <td>2.0</td>\n      <td>2.0</td>\n    </tr>\n    <tr>\n      <th>(2691, 2952)</th>\n      <td>2.0</td>\n      <td>3.0</td>\n      <td>0.0</td>\n      <td>5.0</td>\n    </tr>\n    <tr>\n      <th>(2691, 2955)</th>\n      <td>3.0</td>\n      <td>2.0</td>\n      <td>0.0</td>\n      <td>5.0</td>\n    </tr>\n    <tr>\n      <th>(2883, 3139)</th>\n      <td>1.0</td>\n      <td>8.0</td>\n      <td>0.0</td>\n      <td>1.0</td>\n    </tr>\n    <tr>\n      <th>(3084, 3351)</th>\n      <td>1.0</td>\n      <td>0.0</td>\n      <td>0.0</td>\n      <td>9.0</td>\n    </tr>\n    <tr>\n      <th>(3506, 3734)</th>\n      <td>2.0</td>\n      <td>7.0</td>\n      <td>1.0</td>\n      <td>0.0</td>\n    </tr>\n    <tr>\n      <th>(3734, 4000)</th>\n      <td>0.0</td>\n      <td>5.0</td>\n      <td>1.0</td>\n      <td>4.0</td>\n    </tr>\n    <tr>\n      <th>(3734, 4006)</th>\n      <td>5.0</td>\n      <td>0.0</td>\n      <td>4.0</td>\n      <td>1.0</td>\n    </tr>\n  </tbody>\n</table>\n</div>"
     },
     "execution_count": 15,
     "metadata": {},
     "output_type": "execute_result"
    }
   ],
   "source": [
    "lookup_formatted_table = m_pairwise_lookup_format_pyrho.main(pairwise_biallelic_table.copy())\n",
    "lookup_formatted_table"
   ],
   "metadata": {
    "collapsed": false,
    "pycharm": {
     "name": "#%%\n"
    }
   }
  },
  {
   "cell_type": "markdown",
   "source": [
    "#### Merge lookup formatted table on likelihood table"
   ],
   "metadata": {
    "collapsed": false
   }
  },
  {
   "cell_type": "code",
   "execution_count": 16,
   "outputs": [
    {
     "data": {
      "text/plain": "          0.0        1.0        2.0        3.0        4.0        5.0  \\\n0  -21.455557 -21.365481 -21.377219 -21.412870 -21.454733 -21.497122   \n1  -18.462363 -18.342202 -18.316289 -18.312179 -18.314559 -18.318862   \n2  -21.152079 -20.981607 -21.010753 -21.077759 -21.151990 -21.224735   \n3  -15.929185 -16.651006 -17.152080 -17.532082 -17.835323 -18.085725   \n4  -18.462363 -18.342202 -18.316289 -18.312179 -18.314559 -18.318862   \n5  -19.391391 -19.335923 -19.312769 -19.300741 -19.293770 -19.289459   \n6  -21.455557 -21.365481 -21.377219 -21.412870 -21.454733 -21.497122   \n7  -20.242070 -20.089156 -20.095516 -20.133641 -20.178574 -20.223213   \n8  -20.765645 -20.679014 -20.677527 -20.696906 -20.722255 -20.748744   \n9  -21.152079 -20.981607 -21.010753 -21.077759 -21.151990 -21.224735   \n10 -15.160071 -15.140473 -15.126019 -15.115550 -15.107693 -15.101581   \n11 -13.142671 -13.571400 -13.824293 -13.993655 -14.116302 -14.210007   \n12 -18.462363 -18.342202 -18.316289 -18.312179 -18.314559 -18.318862   \n13 -19.391391 -19.335923 -19.312769 -19.300741 -19.293770 -19.289459   \n14 -19.391391 -19.335923 -19.312769 -19.300741 -19.293770 -19.289459   \n\n          6.0  7.000000000000001        8.0        9.0  ...       92.0  \\\n0  -21.537956         -21.576479 -21.612479 -21.645982  ... -22.236349   \n1  -18.323511         -18.327942 -18.331969 -18.335553  ... -18.368204   \n2  -21.293249         -21.356801 -21.415407 -21.469362  ... -22.379252   \n3  -18.297703         -18.480596 -18.640782 -18.782795  ... -21.050410   \n4  -18.323511         -18.327942 -18.331969 -18.335553  ... -18.368204   \n5  -19.286679         -19.284837 -19.283595 -19.282750  ... -19.283145   \n6  -21.537956         -21.576479 -21.612479 -21.645982  ... -22.236349   \n7  -20.265331         -20.304321 -20.340169 -20.373074  ... -20.950288   \n8  -20.774583         -20.799094 -20.822059 -20.843459  ... -21.237087   \n9  -21.293249         -21.356801 -21.415407 -21.469362  ... -22.379252   \n10 -15.096683         -15.092659 -15.089289 -15.086420  ... -15.054684   \n11 -14.284432         -14.345296 -14.396210 -14.439574  ... -14.948813   \n12 -18.323511         -18.327942 -18.331969 -18.335553  ... -18.368204   \n13 -19.286679         -19.284837 -19.283595 -19.282750  ... -19.283145   \n14 -19.286679         -19.284837 -19.283595 -19.282750  ... -19.283145   \n\n         93.0       94.0       95.0       96.0       97.0       98.0  \\\n0  -22.237772 -22.239167 -22.240535 -22.241877 -22.243194 -22.244487   \n1  -18.368225 -18.368245 -18.368265 -18.368284 -18.368302 -18.368320   \n2  -22.381442 -22.383590 -22.385697 -22.387764 -22.389793 -22.391784   \n3  -21.056500 -21.062479 -21.068349 -21.074113 -21.079774 -21.085335   \n4  -18.368225 -18.368245 -18.368265 -18.368284 -18.368302 -18.368320   \n5  -19.283151 -19.283157 -19.283162 -19.283167 -19.283172 -19.283178   \n6  -22.237772 -22.239167 -22.240535 -22.241877 -22.243194 -22.244487   \n7  -20.951894 -20.953471 -20.955021 -20.956544 -20.958041 -20.959512   \n8  -21.238155 -21.239204 -21.240235 -21.241246 -21.242240 -21.243217   \n9  -22.381442 -22.383590 -22.385697 -22.387764 -22.389793 -22.391784   \n10 -15.054629 -15.054576 -15.054524 -15.054473 -15.054424 -15.054375   \n11 -14.949811 -14.950789 -14.951748 -14.952689 -14.953612 -14.954517   \n12 -18.368225 -18.368245 -18.368265 -18.368284 -18.368302 -18.368320   \n13 -19.283151 -19.283157 -19.283162 -19.283167 -19.283172 -19.283178   \n14 -19.283151 -19.283157 -19.283162 -19.283167 -19.283172 -19.283178   \n\n         99.0      100.0  d_ij  \n0  -22.245756 -22.247001    49  \n1  -18.368338 -18.368355    88  \n2  -22.393739 -22.395658    96  \n3  -21.090799 -21.096168   228  \n4  -18.368338 -18.368355   274  \n5  -19.283182 -19.283187   269  \n6  -22.245756 -22.247001   276  \n7  -20.960958 -20.962380   278  \n8  -21.244176 -21.245119   261  \n9  -22.393739 -22.395658   264  \n10 -15.054327 -15.054280   256  \n11 -14.955406 -14.956278   267  \n12 -18.368338 -18.368355   228  \n13 -19.283182 -19.283187   266  \n14 -19.283182 -19.283187   272  \n\n[15 rows x 102 columns]",
      "text/html": "<div>\n<style scoped>\n    .dataframe tbody tr th:only-of-type {\n        vertical-align: middle;\n    }\n\n    .dataframe tbody tr th {\n        vertical-align: top;\n    }\n\n    .dataframe thead th {\n        text-align: right;\n    }\n</style>\n<table border=\"1\" class=\"dataframe\">\n  <thead>\n    <tr style=\"text-align: right;\">\n      <th></th>\n      <th>0.0</th>\n      <th>1.0</th>\n      <th>2.0</th>\n      <th>3.0</th>\n      <th>4.0</th>\n      <th>5.0</th>\n      <th>6.0</th>\n      <th>7.000000000000001</th>\n      <th>8.0</th>\n      <th>9.0</th>\n      <th>...</th>\n      <th>92.0</th>\n      <th>93.0</th>\n      <th>94.0</th>\n      <th>95.0</th>\n      <th>96.0</th>\n      <th>97.0</th>\n      <th>98.0</th>\n      <th>99.0</th>\n      <th>100.0</th>\n      <th>d_ij</th>\n    </tr>\n  </thead>\n  <tbody>\n    <tr>\n      <th>0</th>\n      <td>-21.455557</td>\n      <td>-21.365481</td>\n      <td>-21.377219</td>\n      <td>-21.412870</td>\n      <td>-21.454733</td>\n      <td>-21.497122</td>\n      <td>-21.537956</td>\n      <td>-21.576479</td>\n      <td>-21.612479</td>\n      <td>-21.645982</td>\n      <td>...</td>\n      <td>-22.236349</td>\n      <td>-22.237772</td>\n      <td>-22.239167</td>\n      <td>-22.240535</td>\n      <td>-22.241877</td>\n      <td>-22.243194</td>\n      <td>-22.244487</td>\n      <td>-22.245756</td>\n      <td>-22.247001</td>\n      <td>49</td>\n    </tr>\n    <tr>\n      <th>1</th>\n      <td>-18.462363</td>\n      <td>-18.342202</td>\n      <td>-18.316289</td>\n      <td>-18.312179</td>\n      <td>-18.314559</td>\n      <td>-18.318862</td>\n      <td>-18.323511</td>\n      <td>-18.327942</td>\n      <td>-18.331969</td>\n      <td>-18.335553</td>\n      <td>...</td>\n      <td>-18.368204</td>\n      <td>-18.368225</td>\n      <td>-18.368245</td>\n      <td>-18.368265</td>\n      <td>-18.368284</td>\n      <td>-18.368302</td>\n      <td>-18.368320</td>\n      <td>-18.368338</td>\n      <td>-18.368355</td>\n      <td>88</td>\n    </tr>\n    <tr>\n      <th>2</th>\n      <td>-21.152079</td>\n      <td>-20.981607</td>\n      <td>-21.010753</td>\n      <td>-21.077759</td>\n      <td>-21.151990</td>\n      <td>-21.224735</td>\n      <td>-21.293249</td>\n      <td>-21.356801</td>\n      <td>-21.415407</td>\n      <td>-21.469362</td>\n      <td>...</td>\n      <td>-22.379252</td>\n      <td>-22.381442</td>\n      <td>-22.383590</td>\n      <td>-22.385697</td>\n      <td>-22.387764</td>\n      <td>-22.389793</td>\n      <td>-22.391784</td>\n      <td>-22.393739</td>\n      <td>-22.395658</td>\n      <td>96</td>\n    </tr>\n    <tr>\n      <th>3</th>\n      <td>-15.929185</td>\n      <td>-16.651006</td>\n      <td>-17.152080</td>\n      <td>-17.532082</td>\n      <td>-17.835323</td>\n      <td>-18.085725</td>\n      <td>-18.297703</td>\n      <td>-18.480596</td>\n      <td>-18.640782</td>\n      <td>-18.782795</td>\n      <td>...</td>\n      <td>-21.050410</td>\n      <td>-21.056500</td>\n      <td>-21.062479</td>\n      <td>-21.068349</td>\n      <td>-21.074113</td>\n      <td>-21.079774</td>\n      <td>-21.085335</td>\n      <td>-21.090799</td>\n      <td>-21.096168</td>\n      <td>228</td>\n    </tr>\n    <tr>\n      <th>4</th>\n      <td>-18.462363</td>\n      <td>-18.342202</td>\n      <td>-18.316289</td>\n      <td>-18.312179</td>\n      <td>-18.314559</td>\n      <td>-18.318862</td>\n      <td>-18.323511</td>\n      <td>-18.327942</td>\n      <td>-18.331969</td>\n      <td>-18.335553</td>\n      <td>...</td>\n      <td>-18.368204</td>\n      <td>-18.368225</td>\n      <td>-18.368245</td>\n      <td>-18.368265</td>\n      <td>-18.368284</td>\n      <td>-18.368302</td>\n      <td>-18.368320</td>\n      <td>-18.368338</td>\n      <td>-18.368355</td>\n      <td>274</td>\n    </tr>\n    <tr>\n      <th>5</th>\n      <td>-19.391391</td>\n      <td>-19.335923</td>\n      <td>-19.312769</td>\n      <td>-19.300741</td>\n      <td>-19.293770</td>\n      <td>-19.289459</td>\n      <td>-19.286679</td>\n      <td>-19.284837</td>\n      <td>-19.283595</td>\n      <td>-19.282750</td>\n      <td>...</td>\n      <td>-19.283145</td>\n      <td>-19.283151</td>\n      <td>-19.283157</td>\n      <td>-19.283162</td>\n      <td>-19.283167</td>\n      <td>-19.283172</td>\n      <td>-19.283178</td>\n      <td>-19.283182</td>\n      <td>-19.283187</td>\n      <td>269</td>\n    </tr>\n    <tr>\n      <th>6</th>\n      <td>-21.455557</td>\n      <td>-21.365481</td>\n      <td>-21.377219</td>\n      <td>-21.412870</td>\n      <td>-21.454733</td>\n      <td>-21.497122</td>\n      <td>-21.537956</td>\n      <td>-21.576479</td>\n      <td>-21.612479</td>\n      <td>-21.645982</td>\n      <td>...</td>\n      <td>-22.236349</td>\n      <td>-22.237772</td>\n      <td>-22.239167</td>\n      <td>-22.240535</td>\n      <td>-22.241877</td>\n      <td>-22.243194</td>\n      <td>-22.244487</td>\n      <td>-22.245756</td>\n      <td>-22.247001</td>\n      <td>276</td>\n    </tr>\n    <tr>\n      <th>7</th>\n      <td>-20.242070</td>\n      <td>-20.089156</td>\n      <td>-20.095516</td>\n      <td>-20.133641</td>\n      <td>-20.178574</td>\n      <td>-20.223213</td>\n      <td>-20.265331</td>\n      <td>-20.304321</td>\n      <td>-20.340169</td>\n      <td>-20.373074</td>\n      <td>...</td>\n      <td>-20.950288</td>\n      <td>-20.951894</td>\n      <td>-20.953471</td>\n      <td>-20.955021</td>\n      <td>-20.956544</td>\n      <td>-20.958041</td>\n      <td>-20.959512</td>\n      <td>-20.960958</td>\n      <td>-20.962380</td>\n      <td>278</td>\n    </tr>\n    <tr>\n      <th>8</th>\n      <td>-20.765645</td>\n      <td>-20.679014</td>\n      <td>-20.677527</td>\n      <td>-20.696906</td>\n      <td>-20.722255</td>\n      <td>-20.748744</td>\n      <td>-20.774583</td>\n      <td>-20.799094</td>\n      <td>-20.822059</td>\n      <td>-20.843459</td>\n      <td>...</td>\n      <td>-21.237087</td>\n      <td>-21.238155</td>\n      <td>-21.239204</td>\n      <td>-21.240235</td>\n      <td>-21.241246</td>\n      <td>-21.242240</td>\n      <td>-21.243217</td>\n      <td>-21.244176</td>\n      <td>-21.245119</td>\n      <td>261</td>\n    </tr>\n    <tr>\n      <th>9</th>\n      <td>-21.152079</td>\n      <td>-20.981607</td>\n      <td>-21.010753</td>\n      <td>-21.077759</td>\n      <td>-21.151990</td>\n      <td>-21.224735</td>\n      <td>-21.293249</td>\n      <td>-21.356801</td>\n      <td>-21.415407</td>\n      <td>-21.469362</td>\n      <td>...</td>\n      <td>-22.379252</td>\n      <td>-22.381442</td>\n      <td>-22.383590</td>\n      <td>-22.385697</td>\n      <td>-22.387764</td>\n      <td>-22.389793</td>\n      <td>-22.391784</td>\n      <td>-22.393739</td>\n      <td>-22.395658</td>\n      <td>264</td>\n    </tr>\n    <tr>\n      <th>10</th>\n      <td>-15.160071</td>\n      <td>-15.140473</td>\n      <td>-15.126019</td>\n      <td>-15.115550</td>\n      <td>-15.107693</td>\n      <td>-15.101581</td>\n      <td>-15.096683</td>\n      <td>-15.092659</td>\n      <td>-15.089289</td>\n      <td>-15.086420</td>\n      <td>...</td>\n      <td>-15.054684</td>\n      <td>-15.054629</td>\n      <td>-15.054576</td>\n      <td>-15.054524</td>\n      <td>-15.054473</td>\n      <td>-15.054424</td>\n      <td>-15.054375</td>\n      <td>-15.054327</td>\n      <td>-15.054280</td>\n      <td>256</td>\n    </tr>\n    <tr>\n      <th>11</th>\n      <td>-13.142671</td>\n      <td>-13.571400</td>\n      <td>-13.824293</td>\n      <td>-13.993655</td>\n      <td>-14.116302</td>\n      <td>-14.210007</td>\n      <td>-14.284432</td>\n      <td>-14.345296</td>\n      <td>-14.396210</td>\n      <td>-14.439574</td>\n      <td>...</td>\n      <td>-14.948813</td>\n      <td>-14.949811</td>\n      <td>-14.950789</td>\n      <td>-14.951748</td>\n      <td>-14.952689</td>\n      <td>-14.953612</td>\n      <td>-14.954517</td>\n      <td>-14.955406</td>\n      <td>-14.956278</td>\n      <td>267</td>\n    </tr>\n    <tr>\n      <th>12</th>\n      <td>-18.462363</td>\n      <td>-18.342202</td>\n      <td>-18.316289</td>\n      <td>-18.312179</td>\n      <td>-18.314559</td>\n      <td>-18.318862</td>\n      <td>-18.323511</td>\n      <td>-18.327942</td>\n      <td>-18.331969</td>\n      <td>-18.335553</td>\n      <td>...</td>\n      <td>-18.368204</td>\n      <td>-18.368225</td>\n      <td>-18.368245</td>\n      <td>-18.368265</td>\n      <td>-18.368284</td>\n      <td>-18.368302</td>\n      <td>-18.368320</td>\n      <td>-18.368338</td>\n      <td>-18.368355</td>\n      <td>228</td>\n    </tr>\n    <tr>\n      <th>13</th>\n      <td>-19.391391</td>\n      <td>-19.335923</td>\n      <td>-19.312769</td>\n      <td>-19.300741</td>\n      <td>-19.293770</td>\n      <td>-19.289459</td>\n      <td>-19.286679</td>\n      <td>-19.284837</td>\n      <td>-19.283595</td>\n      <td>-19.282750</td>\n      <td>...</td>\n      <td>-19.283145</td>\n      <td>-19.283151</td>\n      <td>-19.283157</td>\n      <td>-19.283162</td>\n      <td>-19.283167</td>\n      <td>-19.283172</td>\n      <td>-19.283178</td>\n      <td>-19.283182</td>\n      <td>-19.283187</td>\n      <td>266</td>\n    </tr>\n    <tr>\n      <th>14</th>\n      <td>-19.391391</td>\n      <td>-19.335923</td>\n      <td>-19.312769</td>\n      <td>-19.300741</td>\n      <td>-19.293770</td>\n      <td>-19.289459</td>\n      <td>-19.286679</td>\n      <td>-19.284837</td>\n      <td>-19.283595</td>\n      <td>-19.282750</td>\n      <td>...</td>\n      <td>-19.283145</td>\n      <td>-19.283151</td>\n      <td>-19.283157</td>\n      <td>-19.283162</td>\n      <td>-19.283167</td>\n      <td>-19.283172</td>\n      <td>-19.283178</td>\n      <td>-19.283182</td>\n      <td>-19.283187</td>\n      <td>272</td>\n    </tr>\n  </tbody>\n</table>\n<p>15 rows × 102 columns</p>\n</div>"
     },
     "execution_count": 16,
     "metadata": {},
     "output_type": "execute_result"
    }
   ],
   "source": [
    "merged_eq3_table, table_ids_for_eq3 = m_custom_hap_sets_and_merge.main(pairwise_biallelic_table.copy(),\n",
    "                                                                           lookup_formatted_table.copy(),\n",
    "                                                                           lookup_table_rho_vals,\n",
    "                                                                           lookup_table)\n",
    "merged_eq3_table"
   ],
   "metadata": {
    "collapsed": false,
    "pycharm": {
     "name": "#%%\n"
    }
   }
  },
  {
   "cell_type": "markdown",
   "source": [
    "#### Calculate p_ij values for variant pairs"
   ],
   "metadata": {
    "collapsed": false
   }
  },
  {
   "cell_type": "code",
   "execution_count": 17,
   "outputs": [
    {
     "data": {
      "text/plain": "    0.0       1.0       2.0       3.0       4.0       5.0       6.0    \\\n0     0.0  0.095638  0.191275  0.286913  0.382551  0.478189  0.573826   \n1     0.0  0.168478  0.336956  0.505435  0.673913  0.842391  1.010869   \n2     0.0  0.183072  0.366144  0.549216  0.732288  0.915360  1.098432   \n3     0.0  0.407751  0.815503  1.223254  1.631006  2.038757  2.446509   \n4     0.0  0.479336  0.958672  1.438008  1.917343  2.396679  2.876015   \n5     0.0  0.471713  0.943427  1.415140  1.886854  2.358567  2.830281   \n6     0.0  0.482374  0.964748  1.447122  1.929497  2.411871  2.894245   \n7     0.0  0.485406  0.970813  1.456219  1.941625  2.427032  2.912438   \n8     0.0  0.459438  0.918876  1.378314  1.837753  2.297191  2.756629   \n9     0.0  0.464053  0.928106  1.392159  1.856212  2.320265  2.784318   \n10    0.0  0.451716  0.903432  1.355148  1.806864  2.258580  2.710296   \n11    0.0  0.468654  0.937308  1.405962  1.874615  2.343269  2.811923   \n12    0.0  0.407751  0.815503  1.223254  1.631006  2.038757  2.446509   \n13    0.0  0.467122  0.934243  1.401365  1.868487  2.335609  2.802730   \n14    0.0  0.476291  0.952583  1.428874  1.905166  2.381457  2.857749   \n\n       7.0       8.0       9.0    ...      91.0       92.0       93.0   \\\n0   0.669464  0.765102  0.860740  ...   8.703034   8.798672   8.894310   \n1   1.179348  1.347826  1.516304  ...  15.331520  15.499999  15.668477   \n2   1.281504  1.464576  1.647648  ...  16.659549  16.842621  17.025693   \n3   2.854260  3.262012  3.669763  ...  37.105385  37.513136  37.920888   \n4   3.355351  3.834687  4.314023  ...  43.619562  44.098898  44.578234   \n5   3.301994  3.773708  4.245421  ...  42.925927  43.397641  43.869354   \n6   3.376619  3.858993  4.341367  ...  43.896047  44.378421  44.860795   \n7   3.397844  3.883251  4.368657  ...  44.171978  44.657385  45.142791   \n8   3.216067  3.675505  4.134943  ...  41.808873  42.268311  42.727749   \n9   3.248370  3.712423  4.176476  ...  42.228816  42.692869  43.156922   \n10  3.162012  3.613728  4.065445  ...  41.106162  41.557878  42.009594   \n11  3.280577  3.749231  4.217885  ...  42.647501  43.116155  43.584809   \n12  2.854260  3.262012  3.669763  ...  37.105385  37.513136  37.920888   \n13  3.269852  3.736974  4.204096  ...  42.508079  42.975201  43.442322   \n14  3.334040  3.810332  4.286623  ...  43.342524  43.818816  44.295107   \n\n        94.0       95.0       96.0       97.0       98.0       99.0   \\\n0    8.989948   9.085585   9.181223   9.276861   9.372499   9.468136   \n1   15.836955  16.005433  16.173912  16.342390  16.510868  16.679346   \n2   17.208765  17.391837  17.574909  17.757981  17.941053  18.124125   \n3   38.328639  38.736391  39.144142  39.551894  39.959645  40.367397   \n4   45.057570  45.536906  46.016242  46.495577  46.974913  47.454249   \n5   44.341068  44.812781  45.284495  45.756208  46.227922  46.699635   \n6   45.343169  45.825543  46.307917  46.790291  47.272666  47.755040   \n7   45.628198  46.113604  46.599010  47.084417  47.569823  48.055229   \n8   43.187187  43.646625  44.106063  44.565502  45.024940  45.484378   \n9   43.620975  44.085027  44.549080  45.013133  45.477186  45.941239   \n10  42.461310  42.913026  43.364742  43.816458  44.268174  44.719890   \n11  44.053463  44.522116  44.990770  45.459424  45.928078  46.396732   \n12  38.328639  38.736391  39.144142  39.551894  39.959645  40.367397   \n13  43.909444  44.376566  44.843688  45.310809  45.777931  46.245053   \n14  44.771399  45.247690  45.723982  46.200273  46.676565  47.152856   \n\n        100.0  \n0    9.563774  \n1   16.847825  \n2   18.307197  \n3   40.775148  \n4   47.933585  \n5   47.171349  \n6   48.237414  \n7   48.540636  \n8   45.943816  \n9   46.405292  \n10  45.171606  \n11  46.865386  \n12  40.775148  \n13  46.712174  \n14  47.629148  \n\n[15 rows x 101 columns]",
      "text/html": "<div>\n<style scoped>\n    .dataframe tbody tr th:only-of-type {\n        vertical-align: middle;\n    }\n\n    .dataframe tbody tr th {\n        vertical-align: top;\n    }\n\n    .dataframe thead th {\n        text-align: right;\n    }\n</style>\n<table border=\"1\" class=\"dataframe\">\n  <thead>\n    <tr style=\"text-align: right;\">\n      <th></th>\n      <th>0.0</th>\n      <th>1.0</th>\n      <th>2.0</th>\n      <th>3.0</th>\n      <th>4.0</th>\n      <th>5.0</th>\n      <th>6.0</th>\n      <th>7.0</th>\n      <th>8.0</th>\n      <th>9.0</th>\n      <th>...</th>\n      <th>91.0</th>\n      <th>92.0</th>\n      <th>93.0</th>\n      <th>94.0</th>\n      <th>95.0</th>\n      <th>96.0</th>\n      <th>97.0</th>\n      <th>98.0</th>\n      <th>99.0</th>\n      <th>100.0</th>\n    </tr>\n  </thead>\n  <tbody>\n    <tr>\n      <th>0</th>\n      <td>0.0</td>\n      <td>0.095638</td>\n      <td>0.191275</td>\n      <td>0.286913</td>\n      <td>0.382551</td>\n      <td>0.478189</td>\n      <td>0.573826</td>\n      <td>0.669464</td>\n      <td>0.765102</td>\n      <td>0.860740</td>\n      <td>...</td>\n      <td>8.703034</td>\n      <td>8.798672</td>\n      <td>8.894310</td>\n      <td>8.989948</td>\n      <td>9.085585</td>\n      <td>9.181223</td>\n      <td>9.276861</td>\n      <td>9.372499</td>\n      <td>9.468136</td>\n      <td>9.563774</td>\n    </tr>\n    <tr>\n      <th>1</th>\n      <td>0.0</td>\n      <td>0.168478</td>\n      <td>0.336956</td>\n      <td>0.505435</td>\n      <td>0.673913</td>\n      <td>0.842391</td>\n      <td>1.010869</td>\n      <td>1.179348</td>\n      <td>1.347826</td>\n      <td>1.516304</td>\n      <td>...</td>\n      <td>15.331520</td>\n      <td>15.499999</td>\n      <td>15.668477</td>\n      <td>15.836955</td>\n      <td>16.005433</td>\n      <td>16.173912</td>\n      <td>16.342390</td>\n      <td>16.510868</td>\n      <td>16.679346</td>\n      <td>16.847825</td>\n    </tr>\n    <tr>\n      <th>2</th>\n      <td>0.0</td>\n      <td>0.183072</td>\n      <td>0.366144</td>\n      <td>0.549216</td>\n      <td>0.732288</td>\n      <td>0.915360</td>\n      <td>1.098432</td>\n      <td>1.281504</td>\n      <td>1.464576</td>\n      <td>1.647648</td>\n      <td>...</td>\n      <td>16.659549</td>\n      <td>16.842621</td>\n      <td>17.025693</td>\n      <td>17.208765</td>\n      <td>17.391837</td>\n      <td>17.574909</td>\n      <td>17.757981</td>\n      <td>17.941053</td>\n      <td>18.124125</td>\n      <td>18.307197</td>\n    </tr>\n    <tr>\n      <th>3</th>\n      <td>0.0</td>\n      <td>0.407751</td>\n      <td>0.815503</td>\n      <td>1.223254</td>\n      <td>1.631006</td>\n      <td>2.038757</td>\n      <td>2.446509</td>\n      <td>2.854260</td>\n      <td>3.262012</td>\n      <td>3.669763</td>\n      <td>...</td>\n      <td>37.105385</td>\n      <td>37.513136</td>\n      <td>37.920888</td>\n      <td>38.328639</td>\n      <td>38.736391</td>\n      <td>39.144142</td>\n      <td>39.551894</td>\n      <td>39.959645</td>\n      <td>40.367397</td>\n      <td>40.775148</td>\n    </tr>\n    <tr>\n      <th>4</th>\n      <td>0.0</td>\n      <td>0.479336</td>\n      <td>0.958672</td>\n      <td>1.438008</td>\n      <td>1.917343</td>\n      <td>2.396679</td>\n      <td>2.876015</td>\n      <td>3.355351</td>\n      <td>3.834687</td>\n      <td>4.314023</td>\n      <td>...</td>\n      <td>43.619562</td>\n      <td>44.098898</td>\n      <td>44.578234</td>\n      <td>45.057570</td>\n      <td>45.536906</td>\n      <td>46.016242</td>\n      <td>46.495577</td>\n      <td>46.974913</td>\n      <td>47.454249</td>\n      <td>47.933585</td>\n    </tr>\n    <tr>\n      <th>5</th>\n      <td>0.0</td>\n      <td>0.471713</td>\n      <td>0.943427</td>\n      <td>1.415140</td>\n      <td>1.886854</td>\n      <td>2.358567</td>\n      <td>2.830281</td>\n      <td>3.301994</td>\n      <td>3.773708</td>\n      <td>4.245421</td>\n      <td>...</td>\n      <td>42.925927</td>\n      <td>43.397641</td>\n      <td>43.869354</td>\n      <td>44.341068</td>\n      <td>44.812781</td>\n      <td>45.284495</td>\n      <td>45.756208</td>\n      <td>46.227922</td>\n      <td>46.699635</td>\n      <td>47.171349</td>\n    </tr>\n    <tr>\n      <th>6</th>\n      <td>0.0</td>\n      <td>0.482374</td>\n      <td>0.964748</td>\n      <td>1.447122</td>\n      <td>1.929497</td>\n      <td>2.411871</td>\n      <td>2.894245</td>\n      <td>3.376619</td>\n      <td>3.858993</td>\n      <td>4.341367</td>\n      <td>...</td>\n      <td>43.896047</td>\n      <td>44.378421</td>\n      <td>44.860795</td>\n      <td>45.343169</td>\n      <td>45.825543</td>\n      <td>46.307917</td>\n      <td>46.790291</td>\n      <td>47.272666</td>\n      <td>47.755040</td>\n      <td>48.237414</td>\n    </tr>\n    <tr>\n      <th>7</th>\n      <td>0.0</td>\n      <td>0.485406</td>\n      <td>0.970813</td>\n      <td>1.456219</td>\n      <td>1.941625</td>\n      <td>2.427032</td>\n      <td>2.912438</td>\n      <td>3.397844</td>\n      <td>3.883251</td>\n      <td>4.368657</td>\n      <td>...</td>\n      <td>44.171978</td>\n      <td>44.657385</td>\n      <td>45.142791</td>\n      <td>45.628198</td>\n      <td>46.113604</td>\n      <td>46.599010</td>\n      <td>47.084417</td>\n      <td>47.569823</td>\n      <td>48.055229</td>\n      <td>48.540636</td>\n    </tr>\n    <tr>\n      <th>8</th>\n      <td>0.0</td>\n      <td>0.459438</td>\n      <td>0.918876</td>\n      <td>1.378314</td>\n      <td>1.837753</td>\n      <td>2.297191</td>\n      <td>2.756629</td>\n      <td>3.216067</td>\n      <td>3.675505</td>\n      <td>4.134943</td>\n      <td>...</td>\n      <td>41.808873</td>\n      <td>42.268311</td>\n      <td>42.727749</td>\n      <td>43.187187</td>\n      <td>43.646625</td>\n      <td>44.106063</td>\n      <td>44.565502</td>\n      <td>45.024940</td>\n      <td>45.484378</td>\n      <td>45.943816</td>\n    </tr>\n    <tr>\n      <th>9</th>\n      <td>0.0</td>\n      <td>0.464053</td>\n      <td>0.928106</td>\n      <td>1.392159</td>\n      <td>1.856212</td>\n      <td>2.320265</td>\n      <td>2.784318</td>\n      <td>3.248370</td>\n      <td>3.712423</td>\n      <td>4.176476</td>\n      <td>...</td>\n      <td>42.228816</td>\n      <td>42.692869</td>\n      <td>43.156922</td>\n      <td>43.620975</td>\n      <td>44.085027</td>\n      <td>44.549080</td>\n      <td>45.013133</td>\n      <td>45.477186</td>\n      <td>45.941239</td>\n      <td>46.405292</td>\n    </tr>\n    <tr>\n      <th>10</th>\n      <td>0.0</td>\n      <td>0.451716</td>\n      <td>0.903432</td>\n      <td>1.355148</td>\n      <td>1.806864</td>\n      <td>2.258580</td>\n      <td>2.710296</td>\n      <td>3.162012</td>\n      <td>3.613728</td>\n      <td>4.065445</td>\n      <td>...</td>\n      <td>41.106162</td>\n      <td>41.557878</td>\n      <td>42.009594</td>\n      <td>42.461310</td>\n      <td>42.913026</td>\n      <td>43.364742</td>\n      <td>43.816458</td>\n      <td>44.268174</td>\n      <td>44.719890</td>\n      <td>45.171606</td>\n    </tr>\n    <tr>\n      <th>11</th>\n      <td>0.0</td>\n      <td>0.468654</td>\n      <td>0.937308</td>\n      <td>1.405962</td>\n      <td>1.874615</td>\n      <td>2.343269</td>\n      <td>2.811923</td>\n      <td>3.280577</td>\n      <td>3.749231</td>\n      <td>4.217885</td>\n      <td>...</td>\n      <td>42.647501</td>\n      <td>43.116155</td>\n      <td>43.584809</td>\n      <td>44.053463</td>\n      <td>44.522116</td>\n      <td>44.990770</td>\n      <td>45.459424</td>\n      <td>45.928078</td>\n      <td>46.396732</td>\n      <td>46.865386</td>\n    </tr>\n    <tr>\n      <th>12</th>\n      <td>0.0</td>\n      <td>0.407751</td>\n      <td>0.815503</td>\n      <td>1.223254</td>\n      <td>1.631006</td>\n      <td>2.038757</td>\n      <td>2.446509</td>\n      <td>2.854260</td>\n      <td>3.262012</td>\n      <td>3.669763</td>\n      <td>...</td>\n      <td>37.105385</td>\n      <td>37.513136</td>\n      <td>37.920888</td>\n      <td>38.328639</td>\n      <td>38.736391</td>\n      <td>39.144142</td>\n      <td>39.551894</td>\n      <td>39.959645</td>\n      <td>40.367397</td>\n      <td>40.775148</td>\n    </tr>\n    <tr>\n      <th>13</th>\n      <td>0.0</td>\n      <td>0.467122</td>\n      <td>0.934243</td>\n      <td>1.401365</td>\n      <td>1.868487</td>\n      <td>2.335609</td>\n      <td>2.802730</td>\n      <td>3.269852</td>\n      <td>3.736974</td>\n      <td>4.204096</td>\n      <td>...</td>\n      <td>42.508079</td>\n      <td>42.975201</td>\n      <td>43.442322</td>\n      <td>43.909444</td>\n      <td>44.376566</td>\n      <td>44.843688</td>\n      <td>45.310809</td>\n      <td>45.777931</td>\n      <td>46.245053</td>\n      <td>46.712174</td>\n    </tr>\n    <tr>\n      <th>14</th>\n      <td>0.0</td>\n      <td>0.476291</td>\n      <td>0.952583</td>\n      <td>1.428874</td>\n      <td>1.905166</td>\n      <td>2.381457</td>\n      <td>2.857749</td>\n      <td>3.334040</td>\n      <td>3.810332</td>\n      <td>4.286623</td>\n      <td>...</td>\n      <td>43.342524</td>\n      <td>43.818816</td>\n      <td>44.295107</td>\n      <td>44.771399</td>\n      <td>45.247690</td>\n      <td>45.723982</td>\n      <td>46.200273</td>\n      <td>46.676565</td>\n      <td>47.152856</td>\n      <td>47.629148</td>\n    </tr>\n  </tbody>\n</table>\n<p>15 rows × 101 columns</p>\n</div>"
     },
     "execution_count": 17,
     "metadata": {},
     "output_type": "execute_result"
    }
   ],
   "source": [
    "p_ij_grid = m_pij_grid_vectorised.main(recom_tract_len, lookup_table_rho_vals, merged_eq3_table.copy())\n",
    "p_ij_grid"
   ],
   "metadata": {
    "collapsed": false,
    "pycharm": {
     "name": "#%%\n"
    }
   }
  },
  {
   "cell_type": "markdown",
   "source": [
    "#### Get final pairwise (variant pairs) likelihoods"
   ],
   "metadata": {
    "collapsed": false
   }
  },
  {
   "cell_type": "code",
   "execution_count": 18,
   "outputs": [
    {
     "data": {
      "text/plain": "        0.0        1.0        2.0        3.0        4.0        5.0    \\\n0  -21.455557 -21.446942 -21.438328 -21.429713 -21.421098 -21.412484   \n1  -18.462363 -18.442118 -18.421874 -18.401629 -18.381385 -18.361140   \n2  -21.152079 -21.120870 -21.089662 -21.058453 -21.027244 -20.996036   \n3  -15.929185 -16.223509 -16.517833 -16.762873 -16.967187 -17.166808   \n4  -18.462363 -18.404765 -18.347168 -18.330852 -18.318431 -18.314659   \n5  -19.391391 -19.365226 -19.339061 -19.326311 -19.315389 -19.308456   \n6  -21.455557 -21.412107 -21.368656 -21.370729 -21.376391 -21.391902   \n7  -20.242070 -20.167844 -20.093619 -20.092057 -20.095144 -20.111797   \n8  -20.765645 -20.725843 -20.686042 -20.678451 -20.677768 -20.683286   \n9  -21.152079 -21.072971 -20.993863 -20.993037 -21.006562 -21.032212   \n10 -15.160071 -15.151218 -15.142366 -15.135340 -15.128811 -15.123312   \n11 -13.142671 -13.343596 -13.544522 -13.674065 -13.792584 -13.882430   \n12 -18.462363 -18.413367 -18.364371 -18.336417 -18.325851 -18.316130   \n13 -19.391391 -19.365481 -19.339570 -19.326630 -19.315814 -19.308732   \n14 -19.391391 -19.364972 -19.338553 -19.325993 -19.314965 -19.308181   \n\n        6.0        7.0        8.0        9.0    ...      91.0       92.0   \\\n0  -21.403869 -21.395254 -21.386639 -21.378025  ... -21.636033 -21.639237   \n1  -18.341920 -18.337554 -18.333189 -18.328823  ... -18.350220 -18.350474   \n2  -20.984476 -20.989811 -20.995147 -21.000483  ... -21.767598 -21.772990   \n3  -17.321754 -17.476700 -17.611535 -17.735182  ... -20.365523 -20.375673   \n4  -18.312689 -18.313025 -18.314166 -18.315910  ... -18.365265 -18.365339   \n5  -19.302782 -19.298636 -19.295347 -19.292712  ... -19.282439 -19.282454   \n6  -21.409100 -21.428637 -21.448830 -21.469204  ... -22.105697 -22.108126   \n7  -20.130303 -20.151517 -20.173328 -20.195030  ... -20.813371 -20.815812   \n8  -20.692190 -20.702383 -20.714029 -20.725829  ... -21.135843 -21.137565   \n9  -21.063307 -21.096196 -21.130643 -21.164828  ... -22.166007 -22.169805   \n10 -15.118583 -15.114277 -15.110728 -15.107293  ... -15.060595 -15.060486   \n11 -13.961802 -14.028067 -14.085546 -14.136719  ... -14.850847 -14.852674   \n12 -18.314454 -18.312778 -18.312803 -18.313773  ... -18.364024 -18.364117   \n13 -19.303114 -19.298860 -19.295603 -19.292890  ... -19.282426 -19.282441   \n14 -19.302452 -19.298412 -19.295092 -19.292534  ... -19.282452 -19.282467   \n\n        93.0       94.0       95.0       96.0       97.0       98.0   \\\n0  -21.642441 -21.645645 -21.648646 -21.651623 -21.654601 -21.657578   \n1  -18.350728 -18.350982 -18.351235 -18.351462 -18.351688 -18.351915   \n2  -21.778333 -21.783378 -21.788423 -21.793468 -21.798514 -21.803559   \n3  -20.385823 -20.395677 -20.405459 -20.415119 -20.424554 -20.433990   \n4  -18.365410 -18.365481 -18.365548 -18.365614 -18.365678 -18.365741   \n5  -19.282468 -19.282483 -19.282497 -19.282510 -19.282524 -19.282537   \n6  -22.110537 -22.112887 -22.115213 -22.117489 -22.119735 -22.121938   \n7  -20.818230 -20.820594 -20.822940 -20.825229 -20.827507 -20.829726   \n8  -21.139261 -21.140934 -21.142573 -21.144200 -21.145785 -21.147367   \n9  -22.173556 -22.177217 -22.180854 -22.184386 -22.187914 -22.191323   \n10 -15.060377 -15.060272 -15.060168 -15.060067 -15.059966 -15.059868   \n11 -14.854448 -14.856214 -14.857921 -14.859628 -14.861272 -14.862916   \n12 -18.364209 -18.364297 -18.364383 -18.364468 -18.364549 -18.364631   \n13 -19.282455 -19.282470 -19.282484 -19.282498 -19.282511 -19.282525   \n14 -19.282481 -19.282496 -19.282509 -19.282523 -19.282536 -19.282549   \n\n        99.0       100.0  \n0  -21.660555 -21.663532  \n1  -18.352142 -18.352369  \n2  -21.808391 -21.813121  \n3  -20.443129 -20.452235  \n4  -18.365801 -18.365861  \n5  -19.282550 -19.282563  \n6  -22.124109 -22.126243  \n7  -20.831937 -20.834089  \n8  -21.148901 -21.150434  \n9  -22.194732 -22.198040  \n10 -15.059772 -15.059678  \n11 -14.864509 -14.866093  \n12 -18.364707 -18.364784  \n13 -19.282538 -19.282550  \n14 -19.282562 -19.282575  \n\n[15 rows x 101 columns]",
      "text/html": "<div>\n<style scoped>\n    .dataframe tbody tr th:only-of-type {\n        vertical-align: middle;\n    }\n\n    .dataframe tbody tr th {\n        vertical-align: top;\n    }\n\n    .dataframe thead th {\n        text-align: right;\n    }\n</style>\n<table border=\"1\" class=\"dataframe\">\n  <thead>\n    <tr style=\"text-align: right;\">\n      <th></th>\n      <th>0.0</th>\n      <th>1.0</th>\n      <th>2.0</th>\n      <th>3.0</th>\n      <th>4.0</th>\n      <th>5.0</th>\n      <th>6.0</th>\n      <th>7.0</th>\n      <th>8.0</th>\n      <th>9.0</th>\n      <th>...</th>\n      <th>91.0</th>\n      <th>92.0</th>\n      <th>93.0</th>\n      <th>94.0</th>\n      <th>95.0</th>\n      <th>96.0</th>\n      <th>97.0</th>\n      <th>98.0</th>\n      <th>99.0</th>\n      <th>100.0</th>\n    </tr>\n  </thead>\n  <tbody>\n    <tr>\n      <th>0</th>\n      <td>-21.455557</td>\n      <td>-21.446942</td>\n      <td>-21.438328</td>\n      <td>-21.429713</td>\n      <td>-21.421098</td>\n      <td>-21.412484</td>\n      <td>-21.403869</td>\n      <td>-21.395254</td>\n      <td>-21.386639</td>\n      <td>-21.378025</td>\n      <td>...</td>\n      <td>-21.636033</td>\n      <td>-21.639237</td>\n      <td>-21.642441</td>\n      <td>-21.645645</td>\n      <td>-21.648646</td>\n      <td>-21.651623</td>\n      <td>-21.654601</td>\n      <td>-21.657578</td>\n      <td>-21.660555</td>\n      <td>-21.663532</td>\n    </tr>\n    <tr>\n      <th>1</th>\n      <td>-18.462363</td>\n      <td>-18.442118</td>\n      <td>-18.421874</td>\n      <td>-18.401629</td>\n      <td>-18.381385</td>\n      <td>-18.361140</td>\n      <td>-18.341920</td>\n      <td>-18.337554</td>\n      <td>-18.333189</td>\n      <td>-18.328823</td>\n      <td>...</td>\n      <td>-18.350220</td>\n      <td>-18.350474</td>\n      <td>-18.350728</td>\n      <td>-18.350982</td>\n      <td>-18.351235</td>\n      <td>-18.351462</td>\n      <td>-18.351688</td>\n      <td>-18.351915</td>\n      <td>-18.352142</td>\n      <td>-18.352369</td>\n    </tr>\n    <tr>\n      <th>2</th>\n      <td>-21.152079</td>\n      <td>-21.120870</td>\n      <td>-21.089662</td>\n      <td>-21.058453</td>\n      <td>-21.027244</td>\n      <td>-20.996036</td>\n      <td>-20.984476</td>\n      <td>-20.989811</td>\n      <td>-20.995147</td>\n      <td>-21.000483</td>\n      <td>...</td>\n      <td>-21.767598</td>\n      <td>-21.772990</td>\n      <td>-21.778333</td>\n      <td>-21.783378</td>\n      <td>-21.788423</td>\n      <td>-21.793468</td>\n      <td>-21.798514</td>\n      <td>-21.803559</td>\n      <td>-21.808391</td>\n      <td>-21.813121</td>\n    </tr>\n    <tr>\n      <th>3</th>\n      <td>-15.929185</td>\n      <td>-16.223509</td>\n      <td>-16.517833</td>\n      <td>-16.762873</td>\n      <td>-16.967187</td>\n      <td>-17.166808</td>\n      <td>-17.321754</td>\n      <td>-17.476700</td>\n      <td>-17.611535</td>\n      <td>-17.735182</td>\n      <td>...</td>\n      <td>-20.365523</td>\n      <td>-20.375673</td>\n      <td>-20.385823</td>\n      <td>-20.395677</td>\n      <td>-20.405459</td>\n      <td>-20.415119</td>\n      <td>-20.424554</td>\n      <td>-20.433990</td>\n      <td>-20.443129</td>\n      <td>-20.452235</td>\n    </tr>\n    <tr>\n      <th>4</th>\n      <td>-18.462363</td>\n      <td>-18.404765</td>\n      <td>-18.347168</td>\n      <td>-18.330852</td>\n      <td>-18.318431</td>\n      <td>-18.314659</td>\n      <td>-18.312689</td>\n      <td>-18.313025</td>\n      <td>-18.314166</td>\n      <td>-18.315910</td>\n      <td>...</td>\n      <td>-18.365265</td>\n      <td>-18.365339</td>\n      <td>-18.365410</td>\n      <td>-18.365481</td>\n      <td>-18.365548</td>\n      <td>-18.365614</td>\n      <td>-18.365678</td>\n      <td>-18.365741</td>\n      <td>-18.365801</td>\n      <td>-18.365861</td>\n    </tr>\n    <tr>\n      <th>5</th>\n      <td>-19.391391</td>\n      <td>-19.365226</td>\n      <td>-19.339061</td>\n      <td>-19.326311</td>\n      <td>-19.315389</td>\n      <td>-19.308456</td>\n      <td>-19.302782</td>\n      <td>-19.298636</td>\n      <td>-19.295347</td>\n      <td>-19.292712</td>\n      <td>...</td>\n      <td>-19.282439</td>\n      <td>-19.282454</td>\n      <td>-19.282468</td>\n      <td>-19.282483</td>\n      <td>-19.282497</td>\n      <td>-19.282510</td>\n      <td>-19.282524</td>\n      <td>-19.282537</td>\n      <td>-19.282550</td>\n      <td>-19.282563</td>\n    </tr>\n    <tr>\n      <th>6</th>\n      <td>-21.455557</td>\n      <td>-21.412107</td>\n      <td>-21.368656</td>\n      <td>-21.370729</td>\n      <td>-21.376391</td>\n      <td>-21.391902</td>\n      <td>-21.409100</td>\n      <td>-21.428637</td>\n      <td>-21.448830</td>\n      <td>-21.469204</td>\n      <td>...</td>\n      <td>-22.105697</td>\n      <td>-22.108126</td>\n      <td>-22.110537</td>\n      <td>-22.112887</td>\n      <td>-22.115213</td>\n      <td>-22.117489</td>\n      <td>-22.119735</td>\n      <td>-22.121938</td>\n      <td>-22.124109</td>\n      <td>-22.126243</td>\n    </tr>\n    <tr>\n      <th>7</th>\n      <td>-20.242070</td>\n      <td>-20.167844</td>\n      <td>-20.093619</td>\n      <td>-20.092057</td>\n      <td>-20.095144</td>\n      <td>-20.111797</td>\n      <td>-20.130303</td>\n      <td>-20.151517</td>\n      <td>-20.173328</td>\n      <td>-20.195030</td>\n      <td>...</td>\n      <td>-20.813371</td>\n      <td>-20.815812</td>\n      <td>-20.818230</td>\n      <td>-20.820594</td>\n      <td>-20.822940</td>\n      <td>-20.825229</td>\n      <td>-20.827507</td>\n      <td>-20.829726</td>\n      <td>-20.831937</td>\n      <td>-20.834089</td>\n    </tr>\n    <tr>\n      <th>8</th>\n      <td>-20.765645</td>\n      <td>-20.725843</td>\n      <td>-20.686042</td>\n      <td>-20.678451</td>\n      <td>-20.677768</td>\n      <td>-20.683286</td>\n      <td>-20.692190</td>\n      <td>-20.702383</td>\n      <td>-20.714029</td>\n      <td>-20.725829</td>\n      <td>...</td>\n      <td>-21.135843</td>\n      <td>-21.137565</td>\n      <td>-21.139261</td>\n      <td>-21.140934</td>\n      <td>-21.142573</td>\n      <td>-21.144200</td>\n      <td>-21.145785</td>\n      <td>-21.147367</td>\n      <td>-21.148901</td>\n      <td>-21.150434</td>\n    </tr>\n    <tr>\n      <th>9</th>\n      <td>-21.152079</td>\n      <td>-21.072971</td>\n      <td>-20.993863</td>\n      <td>-20.993037</td>\n      <td>-21.006562</td>\n      <td>-21.032212</td>\n      <td>-21.063307</td>\n      <td>-21.096196</td>\n      <td>-21.130643</td>\n      <td>-21.164828</td>\n      <td>...</td>\n      <td>-22.166007</td>\n      <td>-22.169805</td>\n      <td>-22.173556</td>\n      <td>-22.177217</td>\n      <td>-22.180854</td>\n      <td>-22.184386</td>\n      <td>-22.187914</td>\n      <td>-22.191323</td>\n      <td>-22.194732</td>\n      <td>-22.198040</td>\n    </tr>\n    <tr>\n      <th>10</th>\n      <td>-15.160071</td>\n      <td>-15.151218</td>\n      <td>-15.142366</td>\n      <td>-15.135340</td>\n      <td>-15.128811</td>\n      <td>-15.123312</td>\n      <td>-15.118583</td>\n      <td>-15.114277</td>\n      <td>-15.110728</td>\n      <td>-15.107293</td>\n      <td>...</td>\n      <td>-15.060595</td>\n      <td>-15.060486</td>\n      <td>-15.060377</td>\n      <td>-15.060272</td>\n      <td>-15.060168</td>\n      <td>-15.060067</td>\n      <td>-15.059966</td>\n      <td>-15.059868</td>\n      <td>-15.059772</td>\n      <td>-15.059678</td>\n    </tr>\n    <tr>\n      <th>11</th>\n      <td>-13.142671</td>\n      <td>-13.343596</td>\n      <td>-13.544522</td>\n      <td>-13.674065</td>\n      <td>-13.792584</td>\n      <td>-13.882430</td>\n      <td>-13.961802</td>\n      <td>-14.028067</td>\n      <td>-14.085546</td>\n      <td>-14.136719</td>\n      <td>...</td>\n      <td>-14.850847</td>\n      <td>-14.852674</td>\n      <td>-14.854448</td>\n      <td>-14.856214</td>\n      <td>-14.857921</td>\n      <td>-14.859628</td>\n      <td>-14.861272</td>\n      <td>-14.862916</td>\n      <td>-14.864509</td>\n      <td>-14.866093</td>\n    </tr>\n    <tr>\n      <th>12</th>\n      <td>-18.462363</td>\n      <td>-18.413367</td>\n      <td>-18.364371</td>\n      <td>-18.336417</td>\n      <td>-18.325851</td>\n      <td>-18.316130</td>\n      <td>-18.314454</td>\n      <td>-18.312778</td>\n      <td>-18.312803</td>\n      <td>-18.313773</td>\n      <td>...</td>\n      <td>-18.364024</td>\n      <td>-18.364117</td>\n      <td>-18.364209</td>\n      <td>-18.364297</td>\n      <td>-18.364383</td>\n      <td>-18.364468</td>\n      <td>-18.364549</td>\n      <td>-18.364631</td>\n      <td>-18.364707</td>\n      <td>-18.364784</td>\n    </tr>\n    <tr>\n      <th>13</th>\n      <td>-19.391391</td>\n      <td>-19.365481</td>\n      <td>-19.339570</td>\n      <td>-19.326630</td>\n      <td>-19.315814</td>\n      <td>-19.308732</td>\n      <td>-19.303114</td>\n      <td>-19.298860</td>\n      <td>-19.295603</td>\n      <td>-19.292890</td>\n      <td>...</td>\n      <td>-19.282426</td>\n      <td>-19.282441</td>\n      <td>-19.282455</td>\n      <td>-19.282470</td>\n      <td>-19.282484</td>\n      <td>-19.282498</td>\n      <td>-19.282511</td>\n      <td>-19.282525</td>\n      <td>-19.282538</td>\n      <td>-19.282550</td>\n    </tr>\n    <tr>\n      <th>14</th>\n      <td>-19.391391</td>\n      <td>-19.364972</td>\n      <td>-19.338553</td>\n      <td>-19.325993</td>\n      <td>-19.314965</td>\n      <td>-19.308181</td>\n      <td>-19.302452</td>\n      <td>-19.298412</td>\n      <td>-19.295092</td>\n      <td>-19.292534</td>\n      <td>...</td>\n      <td>-19.282452</td>\n      <td>-19.282467</td>\n      <td>-19.282481</td>\n      <td>-19.282496</td>\n      <td>-19.282509</td>\n      <td>-19.282523</td>\n      <td>-19.282536</td>\n      <td>-19.282549</td>\n      <td>-19.282562</td>\n      <td>-19.282575</td>\n    </tr>\n  </tbody>\n</table>\n<p>15 rows × 101 columns</p>\n</div>"
     },
     "execution_count": 18,
     "metadata": {},
     "output_type": "execute_result"
    }
   ],
   "source": [
    "interpolated_eq2_df = m_pairwise_rho_estimator_intp_rect_biv.main(merged_eq3_table.copy(),\n",
    "                                                                      table_ids_for_eq3.copy(),\n",
    "                                                                      p_ij_grid.copy(),\n",
    "                                                                      lookup_table,\n",
    "                                                                      depth)\n",
    "interpolated_eq2_df"
   ],
   "metadata": {
    "collapsed": false,
    "pycharm": {
     "name": "#%%\n"
    }
   }
  },
  {
   "cell_type": "markdown",
   "source": [
    "#### Apply weighting technique\n",
    "Step 1: Convert log-likelihoods to likelihoods"
   ],
   "metadata": {
    "collapsed": false,
    "pycharm": {
     "name": "#%% md\n"
    }
   }
  },
  {
   "cell_type": "code",
   "execution_count": 23,
   "outputs": [
    {
     "data": {
      "text/plain": "array([[4.80806137e-10, 4.84966026e-10, 4.89161906e-10, ...,\n        3.92856080e-10, 3.91688206e-10, 3.90523803e-10],\n       [9.59174940e-09, 9.78790834e-09, 9.98807889e-09, ...,\n        1.07118503e-08, 1.07094214e-08, 1.07069932e-08],\n       [6.51281571e-10, 6.71927714e-10, 6.93228356e-10, ...,\n        3.39496060e-10, 3.37859639e-10, 3.36265188e-10],\n       ...,\n       [9.59174940e-09, 1.00734078e-08, 1.05792530e-08, ...,\n        1.05765078e-08, 1.05756950e-08, 1.05748874e-08],\n       [3.78813758e-09, 3.88757308e-09, 3.98961869e-09, ...,\n        4.22382579e-09, 4.22377064e-09, 4.22371659e-09],\n       [3.78813758e-09, 3.88955093e-09, 3.99367925e-09, ...,\n        4.22372071e-09, 4.22366631e-09, 4.22361343e-09]], dtype=float128)"
     },
     "execution_count": 23,
     "metadata": {},
     "output_type": "execute_result"
    }
   ],
   "source": [
    "interpolated_eq2_np = interpolated_eq2_df.to_numpy(dtype=np.float128, copy=True)\n",
    "exp_np = np.exp(interpolated_eq2_np)\n",
    "exp_np"
   ],
   "metadata": {
    "collapsed": false,
    "pycharm": {
     "name": "#%%\n"
    }
   }
  },
  {
   "cell_type": "markdown",
   "source": [
    "Step 2: We normalise the likelihood values such that the values add up to 1. We do this by dividing each value by the sum of all values."
   ],
   "metadata": {
    "collapsed": false
   }
  },
  {
   "cell_type": "code",
   "execution_count": 24,
   "outputs": [
    {
     "data": {
      "text/plain": "array([[5.72716450e-06, 5.77671538e-06, 5.82669497e-06, ...,\n        4.67953968e-06, 4.66562844e-06, 4.65175856e-06],\n       [1.14252965e-04, 1.16589529e-04, 1.18973878e-04, ...,\n        1.27595144e-04, 1.27566213e-04, 1.27537289e-04],\n       [7.75779760e-06, 8.00372594e-06, 8.25745041e-06, ...,\n        4.04393712e-06, 4.02444474e-06, 4.00545230e-06],\n       ...,\n       [1.14252965e-04, 1.19990281e-04, 1.26015701e-04, ...,\n        1.25983001e-04, 1.25973320e-04, 1.25963700e-04],\n       [4.51227332e-05, 4.63071680e-05, 4.75226932e-05, ...,\n        5.03124716e-05, 5.03118147e-05, 5.03111709e-05],\n       [4.51227332e-05, 4.63307273e-05, 4.75710609e-05, ...,\n        5.03112200e-05, 5.03105720e-05, 5.03099421e-05]], dtype=float128)"
     },
     "execution_count": 24,
     "metadata": {},
     "output_type": "execute_result"
    }
   ],
   "source": [
    "exp_norm_np = exp_np / np.sum(exp_np)\n",
    "exp_norm_np"
   ],
   "metadata": {
    "collapsed": false,
    "pycharm": {
     "name": "#%%\n"
    }
   }
  },
  {
   "cell_type": "markdown",
   "source": [
    "Step 3: Multiply the values by the depth and the number of observations. This scaling is the “weighting” procedure, the higher the number of observations or depth the more it will be weighted for the final log sum calculation."
   ],
   "metadata": {
    "collapsed": false
   }
  },
  {
   "cell_type": "code",
   "execution_count": 31,
   "outputs": [
    {
     "data": {
      "text/plain": "array([[0.00085907, 0.00086651, 0.000874  , ..., 0.00070193, 0.00069984,\n        0.00069776],\n       [0.01713794, 0.01748843, 0.01784608, ..., 0.01913927, 0.01913493,\n        0.01913059],\n       [0.00116367, 0.00120056, 0.00123862, ..., 0.00060659, 0.00060367,\n        0.00060082],\n       ...,\n       [0.01713794, 0.01799854, 0.01890236, ..., 0.01889745, 0.018896  ,\n        0.01889455],\n       [0.00676841, 0.00694608, 0.0071284 , ..., 0.00754687, 0.00754677,\n        0.00754668],\n       [0.00676841, 0.00694961, 0.00713566, ..., 0.00754668, 0.00754659,\n        0.00754649]], dtype=float128)"
     },
     "execution_count": 31,
     "metadata": {},
     "output_type": "execute_result"
    }
   ],
   "source": [
    "observations = exp_norm_np.shape[0]\n",
    "exp_norm_scaled_np = depth * observations * exp_norm_np\n",
    "exp_norm_scaled_np"
   ],
   "metadata": {
    "collapsed": false,
    "pycharm": {
     "name": "#%%\n"
    }
   }
  },
  {
   "cell_type": "markdown",
   "source": [
    "Step 4: Following this weighting step, we convert back to log space by taking the log of the values"
   ],
   "metadata": {
    "collapsed": false
   }
  },
  {
   "cell_type": "code",
   "execution_count": 33,
   "outputs": [
    {
     "data": {
      "text/plain": "array([[-7.05965471, -7.05104002, -7.04242532, ..., -7.26167552,\n        -7.26465272, -7.26762993],\n       [-4.06646028, -4.04621579, -4.0259713 , ..., -3.95601295,\n        -3.95623971, -3.95646648],\n       [-6.75617678, -6.72496809, -6.69375939, ..., -7.40765651,\n        -7.41248832, -7.41721876],\n       ...,\n       [-4.06646028, -4.01746452, -3.96846875, ..., -3.96872828,\n        -3.96880513, -3.96888149],\n       [-4.99548908, -4.9695785 , -4.94366792, ..., -4.88662227,\n        -4.88663533, -4.88664813],\n       [-4.99548908, -4.96906987, -4.94265065, ..., -4.88664715,\n        -4.88666003, -4.88667255]], dtype=float128)"
     },
     "execution_count": 33,
     "metadata": {},
     "output_type": "execute_result"
    }
   ],
   "source": [
    "weighted_log_np = np.log(exp_norm_scaled_np)\n",
    "weighted_log_np"
   ],
   "metadata": {
    "collapsed": false,
    "pycharm": {
     "name": "#%%\n"
    }
   }
  },
  {
   "cell_type": "markdown",
   "source": [
    "#### ...Collect pairwise likelihoods across depths, bootstrap and perform final sums\n",
    "Here we are only looking at one depth"
   ],
   "metadata": {
    "collapsed": false,
    "pycharm": {
     "name": "#%% md\n"
    }
   }
  }
 ],
 "metadata": {
  "kernelspec": {
   "display_name": "Python 3",
   "language": "python",
   "name": "python3"
  },
  "language_info": {
   "codemirror_mode": {
    "name": "ipython",
    "version": 2
   },
   "file_extension": ".py",
   "mimetype": "text/x-python",
   "name": "python",
   "nbconvert_exporter": "python",
   "pygments_lexer": "ipython2",
   "version": "2.7.6"
  }
 },
 "nbformat": 4,
 "nbformat_minor": 0
}