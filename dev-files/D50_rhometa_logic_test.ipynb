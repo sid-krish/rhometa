{
 "cells": [
  {
   "cell_type": "markdown",
   "source": [
    "#### Test file parameters: rho_5 theta_0.01 sample_size_20 depth_4 genome_size_10000 seed_1\n",
    "#### The steps that follow the generation of a pairwise table:\n"
   ],
   "metadata": {
    "collapsed": false
   }
  },
  {
   "cell_type": "code",
   "execution_count": 78,
   "metadata": {
    "collapsed": true
   },
   "outputs": [],
   "source": [
    "#!/usr/bin/env python\n",
    "\n",
    "import numpy as np\n",
    "import pandas as pd\n",
    "from ldpop import rhos_from_string\n",
    "\n",
    "import m_isolate_by_depth\n",
    "import m_biallelic_filter_pairwise_table\n",
    "import m_pairwise_lookup_format_pyrho\n",
    "import m_custom_hap_sets_and_merge\n",
    "import m_pij_grid_vectorised\n",
    "import m_pairwise_rho_estimator_intp_rect_biv\n",
    "\n",
    "depth = 50 # Change to try different depths. Needs appropriate lookup tables though\n",
    "\n",
    "recom_tract_len = 500\n",
    "depth_range = \"3,200\"\n",
    "n_resamples = 50\n",
    "lookup_table_rho_range = \"101,100\"\n",
    "pairwise_table_file = \"../Recom_Est_Output/pairwise_table.pkl\"\n",
    "num_cores = 4\n",
    "lookup_table_rho_vals = rhos_from_string(lookup_table_rho_range)\n",
    "lookup_table = f\"/Volumes/Backup/Lookup_tables/Lookup_tables_m_0.01_r_0-100/lk_downsampled_{depth}.csv\""
   ]
  },
  {
   "cell_type": "markdown",
   "source": [
    "#### Load pairwise table"
   ],
   "metadata": {
    "collapsed": false,
    "pycharm": {
     "name": "#%% md\n"
    }
   }
  },
  {
   "cell_type": "code",
   "execution_count": 79,
   "outputs": [
    {
     "data": {
      "text/plain": "              AA  AC  AG  AT  CA  CC  CG  CT  GA  GC  GG  GT  TA  TC  TG  TT\n(42, 50)       0   0   0   0   0   1   0   3   0   0   0   0   0  10   0   0\n(42, 76)       0   0   0   0   0   1   3   0   0   0   0   0   0   0  10   0\n(42, 91)       0   0   0   0   0   1   0   3   0   0   0   0   0  10   0   0\n(42, 106)      0   0   0   0   0   1   3   0   0   0   0   0   0   0  10   0\n(42, 107)      0   0   0   0   3   0   1   0   0   0   0   0   0   0  10   0\n...           ..  ..  ..  ..  ..  ..  ..  ..  ..  ..  ..  ..  ..  ..  ..  ..\n(9908, 9950)   0   0   0   0   0   5   0   0   0   0   4   0   0   0   0   0\n(9908, 9968)   0   0   0   0   0   1   0   2   0   4   0   0   0   0   0   0\n(9946, 9950)   0   0   0   0   0   0   0   0   0   1   0   0   0   4   4   0\n(9946, 9968)   0   0   0   0   0   0   0   0   0   1   0   0   0   4   0   2\n(9950, 9968)   0   0   0   0   0   1   0   2   0   4   0   0   0   0   0   0\n\n[5968 rows x 16 columns]",
      "text/html": "<div>\n<style scoped>\n    .dataframe tbody tr th:only-of-type {\n        vertical-align: middle;\n    }\n\n    .dataframe tbody tr th {\n        vertical-align: top;\n    }\n\n    .dataframe thead th {\n        text-align: right;\n    }\n</style>\n<table border=\"1\" class=\"dataframe\">\n  <thead>\n    <tr style=\"text-align: right;\">\n      <th></th>\n      <th>AA</th>\n      <th>AC</th>\n      <th>AG</th>\n      <th>AT</th>\n      <th>CA</th>\n      <th>CC</th>\n      <th>CG</th>\n      <th>CT</th>\n      <th>GA</th>\n      <th>GC</th>\n      <th>GG</th>\n      <th>GT</th>\n      <th>TA</th>\n      <th>TC</th>\n      <th>TG</th>\n      <th>TT</th>\n    </tr>\n  </thead>\n  <tbody>\n    <tr>\n      <th>(42, 50)</th>\n      <td>0</td>\n      <td>0</td>\n      <td>0</td>\n      <td>0</td>\n      <td>0</td>\n      <td>1</td>\n      <td>0</td>\n      <td>3</td>\n      <td>0</td>\n      <td>0</td>\n      <td>0</td>\n      <td>0</td>\n      <td>0</td>\n      <td>10</td>\n      <td>0</td>\n      <td>0</td>\n    </tr>\n    <tr>\n      <th>(42, 76)</th>\n      <td>0</td>\n      <td>0</td>\n      <td>0</td>\n      <td>0</td>\n      <td>0</td>\n      <td>1</td>\n      <td>3</td>\n      <td>0</td>\n      <td>0</td>\n      <td>0</td>\n      <td>0</td>\n      <td>0</td>\n      <td>0</td>\n      <td>0</td>\n      <td>10</td>\n      <td>0</td>\n    </tr>\n    <tr>\n      <th>(42, 91)</th>\n      <td>0</td>\n      <td>0</td>\n      <td>0</td>\n      <td>0</td>\n      <td>0</td>\n      <td>1</td>\n      <td>0</td>\n      <td>3</td>\n      <td>0</td>\n      <td>0</td>\n      <td>0</td>\n      <td>0</td>\n      <td>0</td>\n      <td>10</td>\n      <td>0</td>\n      <td>0</td>\n    </tr>\n    <tr>\n      <th>(42, 106)</th>\n      <td>0</td>\n      <td>0</td>\n      <td>0</td>\n      <td>0</td>\n      <td>0</td>\n      <td>1</td>\n      <td>3</td>\n      <td>0</td>\n      <td>0</td>\n      <td>0</td>\n      <td>0</td>\n      <td>0</td>\n      <td>0</td>\n      <td>0</td>\n      <td>10</td>\n      <td>0</td>\n    </tr>\n    <tr>\n      <th>(42, 107)</th>\n      <td>0</td>\n      <td>0</td>\n      <td>0</td>\n      <td>0</td>\n      <td>3</td>\n      <td>0</td>\n      <td>1</td>\n      <td>0</td>\n      <td>0</td>\n      <td>0</td>\n      <td>0</td>\n      <td>0</td>\n      <td>0</td>\n      <td>0</td>\n      <td>10</td>\n      <td>0</td>\n    </tr>\n    <tr>\n      <th>...</th>\n      <td>...</td>\n      <td>...</td>\n      <td>...</td>\n      <td>...</td>\n      <td>...</td>\n      <td>...</td>\n      <td>...</td>\n      <td>...</td>\n      <td>...</td>\n      <td>...</td>\n      <td>...</td>\n      <td>...</td>\n      <td>...</td>\n      <td>...</td>\n      <td>...</td>\n      <td>...</td>\n    </tr>\n    <tr>\n      <th>(9908, 9950)</th>\n      <td>0</td>\n      <td>0</td>\n      <td>0</td>\n      <td>0</td>\n      <td>0</td>\n      <td>5</td>\n      <td>0</td>\n      <td>0</td>\n      <td>0</td>\n      <td>0</td>\n      <td>4</td>\n      <td>0</td>\n      <td>0</td>\n      <td>0</td>\n      <td>0</td>\n      <td>0</td>\n    </tr>\n    <tr>\n      <th>(9908, 9968)</th>\n      <td>0</td>\n      <td>0</td>\n      <td>0</td>\n      <td>0</td>\n      <td>0</td>\n      <td>1</td>\n      <td>0</td>\n      <td>2</td>\n      <td>0</td>\n      <td>4</td>\n      <td>0</td>\n      <td>0</td>\n      <td>0</td>\n      <td>0</td>\n      <td>0</td>\n      <td>0</td>\n    </tr>\n    <tr>\n      <th>(9946, 9950)</th>\n      <td>0</td>\n      <td>0</td>\n      <td>0</td>\n      <td>0</td>\n      <td>0</td>\n      <td>0</td>\n      <td>0</td>\n      <td>0</td>\n      <td>0</td>\n      <td>1</td>\n      <td>0</td>\n      <td>0</td>\n      <td>0</td>\n      <td>4</td>\n      <td>4</td>\n      <td>0</td>\n    </tr>\n    <tr>\n      <th>(9946, 9968)</th>\n      <td>0</td>\n      <td>0</td>\n      <td>0</td>\n      <td>0</td>\n      <td>0</td>\n      <td>0</td>\n      <td>0</td>\n      <td>0</td>\n      <td>0</td>\n      <td>1</td>\n      <td>0</td>\n      <td>0</td>\n      <td>0</td>\n      <td>4</td>\n      <td>0</td>\n      <td>2</td>\n    </tr>\n    <tr>\n      <th>(9950, 9968)</th>\n      <td>0</td>\n      <td>0</td>\n      <td>0</td>\n      <td>0</td>\n      <td>0</td>\n      <td>1</td>\n      <td>0</td>\n      <td>2</td>\n      <td>0</td>\n      <td>4</td>\n      <td>0</td>\n      <td>0</td>\n      <td>0</td>\n      <td>0</td>\n      <td>0</td>\n      <td>0</td>\n    </tr>\n  </tbody>\n</table>\n<p>5968 rows × 16 columns</p>\n</div>"
     },
     "execution_count": 79,
     "metadata": {},
     "output_type": "execute_result"
    }
   ],
   "source": [
    "pairwise_table = pd.read_pickle(pairwise_table_file)\n",
    "pairwise_table"
   ],
   "metadata": {
    "collapsed": false,
    "pycharm": {
     "name": "#%%\n"
    }
   }
  },
  {
   "cell_type": "markdown",
   "source": [
    "#### Isolate a single depth for testing"
   ],
   "metadata": {
    "collapsed": false
   }
  },
  {
   "cell_type": "code",
   "execution_count": 80,
   "outputs": [
    {
     "data": {
      "text/plain": "              AA  AC  AG  AT  CA  CC  CG  CT  GA  GC  GG  GT  TA  TC  TG  TT\n(564, 688)     4   0   0   0   1   0   0   0  22  23   0   0   0   0   0   0\n(709, 803)    23   0  18   0   9   0   0   0   0   0   0   0   0   0   0   0\n(803, 933)     0   0   0  36   0   0   0   0   0  12   0   2   0   0   0   0\n(2185, 2243)   0   0   0   0   0   0   0   0   0   0   0   0   8   0  42   0\n(2755, 2885)   0   0   0   0   0   2   8   0   0  40   0   0   0   0   0   0\n(3021, 3117)   0   0   0   0   0  37   0   0   0   3  10   0   0   0   0   0\n(3037, 3132)   0   0   0   0  15   1   0   0   0   0   0   0  10   0  24   0\n(3038, 3132)   0   0   0   0   0   0   0   0  19   1  24   0   6   0   0   0\n(3633, 3679)   0   0   0   0   0   0   0   4   0  33   0  13   0   0   0   0\n(4782, 4866)   0   0   0   0   1   0  25  15   0   0   0   0   0   0   0   9\n(5852, 5932)   0   0   0   0   0   1   2  39   0   0   0   8   0   0   0   0\n(5932, 6026)   0   0   0   0   0   0   0   0   0   0   2   0   0   0   7  41\n(6700, 6817)   1   0   0   0   0   0   0   0  15   0   0   0  11   0  23   0\n(6734, 6839)   0   0   0   0   0   0   7   0   0   0   0   0   1   1  41   0\n(6817, 6947)   0   0  30   1   0   0   0   0   0   0   0  19   0   0   0   0\n(6839, 6947)   0   0   0   5   0   0   1   0   0   0  28  16   0   0   0   0\n(7825, 7932)   4   0   0   0   0   0   0   0  33   0   0  13   0   0   0   0\n(8160, 8280)   0   0   0   0   3   0  24   0   0   0   0   0  23   0   0   0\n(8205, 8312)   0   0   0   0   3   0   0   0  13   0  34   0   0   0   0   0\n(8205, 8319)   0   0   0   0   0   3   0   0   1  23   0  23   0   0   0   0\n(8205, 8324)   0   0   0   0   3   0   0   0  41   0   1   5   0   0   0   0\n(8760, 8852)   0   3   0   0   0   0   0   0   0   3   0   0   0  35   0   9\n(9330, 9371)   0   0   0   0   0   0  14   0   0   0   0   0   0  11  25   0\n(9371, 9409)   0   0   0   0   0  11   1   0   0  36   0   2   0   0   0   0",
      "text/html": "<div>\n<style scoped>\n    .dataframe tbody tr th:only-of-type {\n        vertical-align: middle;\n    }\n\n    .dataframe tbody tr th {\n        vertical-align: top;\n    }\n\n    .dataframe thead th {\n        text-align: right;\n    }\n</style>\n<table border=\"1\" class=\"dataframe\">\n  <thead>\n    <tr style=\"text-align: right;\">\n      <th></th>\n      <th>AA</th>\n      <th>AC</th>\n      <th>AG</th>\n      <th>AT</th>\n      <th>CA</th>\n      <th>CC</th>\n      <th>CG</th>\n      <th>CT</th>\n      <th>GA</th>\n      <th>GC</th>\n      <th>GG</th>\n      <th>GT</th>\n      <th>TA</th>\n      <th>TC</th>\n      <th>TG</th>\n      <th>TT</th>\n    </tr>\n  </thead>\n  <tbody>\n    <tr>\n      <th>(564, 688)</th>\n      <td>4</td>\n      <td>0</td>\n      <td>0</td>\n      <td>0</td>\n      <td>1</td>\n      <td>0</td>\n      <td>0</td>\n      <td>0</td>\n      <td>22</td>\n      <td>23</td>\n      <td>0</td>\n      <td>0</td>\n      <td>0</td>\n      <td>0</td>\n      <td>0</td>\n      <td>0</td>\n    </tr>\n    <tr>\n      <th>(709, 803)</th>\n      <td>23</td>\n      <td>0</td>\n      <td>18</td>\n      <td>0</td>\n      <td>9</td>\n      <td>0</td>\n      <td>0</td>\n      <td>0</td>\n      <td>0</td>\n      <td>0</td>\n      <td>0</td>\n      <td>0</td>\n      <td>0</td>\n      <td>0</td>\n      <td>0</td>\n      <td>0</td>\n    </tr>\n    <tr>\n      <th>(803, 933)</th>\n      <td>0</td>\n      <td>0</td>\n      <td>0</td>\n      <td>36</td>\n      <td>0</td>\n      <td>0</td>\n      <td>0</td>\n      <td>0</td>\n      <td>0</td>\n      <td>12</td>\n      <td>0</td>\n      <td>2</td>\n      <td>0</td>\n      <td>0</td>\n      <td>0</td>\n      <td>0</td>\n    </tr>\n    <tr>\n      <th>(2185, 2243)</th>\n      <td>0</td>\n      <td>0</td>\n      <td>0</td>\n      <td>0</td>\n      <td>0</td>\n      <td>0</td>\n      <td>0</td>\n      <td>0</td>\n      <td>0</td>\n      <td>0</td>\n      <td>0</td>\n      <td>0</td>\n      <td>8</td>\n      <td>0</td>\n      <td>42</td>\n      <td>0</td>\n    </tr>\n    <tr>\n      <th>(2755, 2885)</th>\n      <td>0</td>\n      <td>0</td>\n      <td>0</td>\n      <td>0</td>\n      <td>0</td>\n      <td>2</td>\n      <td>8</td>\n      <td>0</td>\n      <td>0</td>\n      <td>40</td>\n      <td>0</td>\n      <td>0</td>\n      <td>0</td>\n      <td>0</td>\n      <td>0</td>\n      <td>0</td>\n    </tr>\n    <tr>\n      <th>(3021, 3117)</th>\n      <td>0</td>\n      <td>0</td>\n      <td>0</td>\n      <td>0</td>\n      <td>0</td>\n      <td>37</td>\n      <td>0</td>\n      <td>0</td>\n      <td>0</td>\n      <td>3</td>\n      <td>10</td>\n      <td>0</td>\n      <td>0</td>\n      <td>0</td>\n      <td>0</td>\n      <td>0</td>\n    </tr>\n    <tr>\n      <th>(3037, 3132)</th>\n      <td>0</td>\n      <td>0</td>\n      <td>0</td>\n      <td>0</td>\n      <td>15</td>\n      <td>1</td>\n      <td>0</td>\n      <td>0</td>\n      <td>0</td>\n      <td>0</td>\n      <td>0</td>\n      <td>0</td>\n      <td>10</td>\n      <td>0</td>\n      <td>24</td>\n      <td>0</td>\n    </tr>\n    <tr>\n      <th>(3038, 3132)</th>\n      <td>0</td>\n      <td>0</td>\n      <td>0</td>\n      <td>0</td>\n      <td>0</td>\n      <td>0</td>\n      <td>0</td>\n      <td>0</td>\n      <td>19</td>\n      <td>1</td>\n      <td>24</td>\n      <td>0</td>\n      <td>6</td>\n      <td>0</td>\n      <td>0</td>\n      <td>0</td>\n    </tr>\n    <tr>\n      <th>(3633, 3679)</th>\n      <td>0</td>\n      <td>0</td>\n      <td>0</td>\n      <td>0</td>\n      <td>0</td>\n      <td>0</td>\n      <td>0</td>\n      <td>4</td>\n      <td>0</td>\n      <td>33</td>\n      <td>0</td>\n      <td>13</td>\n      <td>0</td>\n      <td>0</td>\n      <td>0</td>\n      <td>0</td>\n    </tr>\n    <tr>\n      <th>(4782, 4866)</th>\n      <td>0</td>\n      <td>0</td>\n      <td>0</td>\n      <td>0</td>\n      <td>1</td>\n      <td>0</td>\n      <td>25</td>\n      <td>15</td>\n      <td>0</td>\n      <td>0</td>\n      <td>0</td>\n      <td>0</td>\n      <td>0</td>\n      <td>0</td>\n      <td>0</td>\n      <td>9</td>\n    </tr>\n    <tr>\n      <th>(5852, 5932)</th>\n      <td>0</td>\n      <td>0</td>\n      <td>0</td>\n      <td>0</td>\n      <td>0</td>\n      <td>1</td>\n      <td>2</td>\n      <td>39</td>\n      <td>0</td>\n      <td>0</td>\n      <td>0</td>\n      <td>8</td>\n      <td>0</td>\n      <td>0</td>\n      <td>0</td>\n      <td>0</td>\n    </tr>\n    <tr>\n      <th>(5932, 6026)</th>\n      <td>0</td>\n      <td>0</td>\n      <td>0</td>\n      <td>0</td>\n      <td>0</td>\n      <td>0</td>\n      <td>0</td>\n      <td>0</td>\n      <td>0</td>\n      <td>0</td>\n      <td>2</td>\n      <td>0</td>\n      <td>0</td>\n      <td>0</td>\n      <td>7</td>\n      <td>41</td>\n    </tr>\n    <tr>\n      <th>(6700, 6817)</th>\n      <td>1</td>\n      <td>0</td>\n      <td>0</td>\n      <td>0</td>\n      <td>0</td>\n      <td>0</td>\n      <td>0</td>\n      <td>0</td>\n      <td>15</td>\n      <td>0</td>\n      <td>0</td>\n      <td>0</td>\n      <td>11</td>\n      <td>0</td>\n      <td>23</td>\n      <td>0</td>\n    </tr>\n    <tr>\n      <th>(6734, 6839)</th>\n      <td>0</td>\n      <td>0</td>\n      <td>0</td>\n      <td>0</td>\n      <td>0</td>\n      <td>0</td>\n      <td>7</td>\n      <td>0</td>\n      <td>0</td>\n      <td>0</td>\n      <td>0</td>\n      <td>0</td>\n      <td>1</td>\n      <td>1</td>\n      <td>41</td>\n      <td>0</td>\n    </tr>\n    <tr>\n      <th>(6817, 6947)</th>\n      <td>0</td>\n      <td>0</td>\n      <td>30</td>\n      <td>1</td>\n      <td>0</td>\n      <td>0</td>\n      <td>0</td>\n      <td>0</td>\n      <td>0</td>\n      <td>0</td>\n      <td>0</td>\n      <td>19</td>\n      <td>0</td>\n      <td>0</td>\n      <td>0</td>\n      <td>0</td>\n    </tr>\n    <tr>\n      <th>(6839, 6947)</th>\n      <td>0</td>\n      <td>0</td>\n      <td>0</td>\n      <td>5</td>\n      <td>0</td>\n      <td>0</td>\n      <td>1</td>\n      <td>0</td>\n      <td>0</td>\n      <td>0</td>\n      <td>28</td>\n      <td>16</td>\n      <td>0</td>\n      <td>0</td>\n      <td>0</td>\n      <td>0</td>\n    </tr>\n    <tr>\n      <th>(7825, 7932)</th>\n      <td>4</td>\n      <td>0</td>\n      <td>0</td>\n      <td>0</td>\n      <td>0</td>\n      <td>0</td>\n      <td>0</td>\n      <td>0</td>\n      <td>33</td>\n      <td>0</td>\n      <td>0</td>\n      <td>13</td>\n      <td>0</td>\n      <td>0</td>\n      <td>0</td>\n      <td>0</td>\n    </tr>\n    <tr>\n      <th>(8160, 8280)</th>\n      <td>0</td>\n      <td>0</td>\n      <td>0</td>\n      <td>0</td>\n      <td>3</td>\n      <td>0</td>\n      <td>24</td>\n      <td>0</td>\n      <td>0</td>\n      <td>0</td>\n      <td>0</td>\n      <td>0</td>\n      <td>23</td>\n      <td>0</td>\n      <td>0</td>\n      <td>0</td>\n    </tr>\n    <tr>\n      <th>(8205, 8312)</th>\n      <td>0</td>\n      <td>0</td>\n      <td>0</td>\n      <td>0</td>\n      <td>3</td>\n      <td>0</td>\n      <td>0</td>\n      <td>0</td>\n      <td>13</td>\n      <td>0</td>\n      <td>34</td>\n      <td>0</td>\n      <td>0</td>\n      <td>0</td>\n      <td>0</td>\n      <td>0</td>\n    </tr>\n    <tr>\n      <th>(8205, 8319)</th>\n      <td>0</td>\n      <td>0</td>\n      <td>0</td>\n      <td>0</td>\n      <td>0</td>\n      <td>3</td>\n      <td>0</td>\n      <td>0</td>\n      <td>1</td>\n      <td>23</td>\n      <td>0</td>\n      <td>23</td>\n      <td>0</td>\n      <td>0</td>\n      <td>0</td>\n      <td>0</td>\n    </tr>\n    <tr>\n      <th>(8205, 8324)</th>\n      <td>0</td>\n      <td>0</td>\n      <td>0</td>\n      <td>0</td>\n      <td>3</td>\n      <td>0</td>\n      <td>0</td>\n      <td>0</td>\n      <td>41</td>\n      <td>0</td>\n      <td>1</td>\n      <td>5</td>\n      <td>0</td>\n      <td>0</td>\n      <td>0</td>\n      <td>0</td>\n    </tr>\n    <tr>\n      <th>(8760, 8852)</th>\n      <td>0</td>\n      <td>3</td>\n      <td>0</td>\n      <td>0</td>\n      <td>0</td>\n      <td>0</td>\n      <td>0</td>\n      <td>0</td>\n      <td>0</td>\n      <td>3</td>\n      <td>0</td>\n      <td>0</td>\n      <td>0</td>\n      <td>35</td>\n      <td>0</td>\n      <td>9</td>\n    </tr>\n    <tr>\n      <th>(9330, 9371)</th>\n      <td>0</td>\n      <td>0</td>\n      <td>0</td>\n      <td>0</td>\n      <td>0</td>\n      <td>0</td>\n      <td>14</td>\n      <td>0</td>\n      <td>0</td>\n      <td>0</td>\n      <td>0</td>\n      <td>0</td>\n      <td>0</td>\n      <td>11</td>\n      <td>25</td>\n      <td>0</td>\n    </tr>\n    <tr>\n      <th>(9371, 9409)</th>\n      <td>0</td>\n      <td>0</td>\n      <td>0</td>\n      <td>0</td>\n      <td>0</td>\n      <td>11</td>\n      <td>1</td>\n      <td>0</td>\n      <td>0</td>\n      <td>36</td>\n      <td>0</td>\n      <td>2</td>\n      <td>0</td>\n      <td>0</td>\n      <td>0</td>\n      <td>0</td>\n    </tr>\n  </tbody>\n</table>\n</div>"
     },
     "execution_count": 80,
     "metadata": {},
     "output_type": "execute_result"
    }
   ],
   "source": [
    "pairwise_table_slice = m_isolate_by_depth.main(pairwise_table, depth)\n",
    "pairwise_table_slice"
   ],
   "metadata": {
    "collapsed": false,
    "pycharm": {
     "name": "#%%\n"
    }
   }
  },
  {
   "cell_type": "markdown",
   "source": [
    "#### Perform bi-allelic filtering"
   ],
   "metadata": {
    "collapsed": false
   }
  },
  {
   "cell_type": "code",
   "execution_count": 81,
   "outputs": [
    {
     "data": {
      "text/plain": "              AA  AC  AG  AT  CA  CC  CG  CT  GA  GC  GG  GT  TA  TC  TG  TT\n(709, 803)    23   0  18   0   9   0   0   0   0   0   0   0   0   0   0   0\n(803, 933)     0   0   0  36   0   0   0   0   0  12   0   2   0   0   0   0\n(2755, 2885)   0   0   0   0   0   2   8   0   0  40   0   0   0   0   0   0\n(3021, 3117)   0   0   0   0   0  37   0   0   0   3  10   0   0   0   0   0\n(3633, 3679)   0   0   0   0   0   0   0   4   0  33   0  13   0   0   0   0\n(5932, 6026)   0   0   0   0   0   0   0   0   0   0   2   0   0   0   7  41\n(6817, 6947)   0   0  30   1   0   0   0   0   0   0   0  19   0   0   0   0\n(7825, 7932)   4   0   0   0   0   0   0   0  33   0   0  13   0   0   0   0\n(8160, 8280)   0   0   0   0   3   0  24   0   0   0   0   0  23   0   0   0\n(8205, 8312)   0   0   0   0   3   0   0   0  13   0  34   0   0   0   0   0\n(9330, 9371)   0   0   0   0   0   0  14   0   0   0   0   0   0  11  25   0",
      "text/html": "<div>\n<style scoped>\n    .dataframe tbody tr th:only-of-type {\n        vertical-align: middle;\n    }\n\n    .dataframe tbody tr th {\n        vertical-align: top;\n    }\n\n    .dataframe thead th {\n        text-align: right;\n    }\n</style>\n<table border=\"1\" class=\"dataframe\">\n  <thead>\n    <tr style=\"text-align: right;\">\n      <th></th>\n      <th>AA</th>\n      <th>AC</th>\n      <th>AG</th>\n      <th>AT</th>\n      <th>CA</th>\n      <th>CC</th>\n      <th>CG</th>\n      <th>CT</th>\n      <th>GA</th>\n      <th>GC</th>\n      <th>GG</th>\n      <th>GT</th>\n      <th>TA</th>\n      <th>TC</th>\n      <th>TG</th>\n      <th>TT</th>\n    </tr>\n  </thead>\n  <tbody>\n    <tr>\n      <th>(709, 803)</th>\n      <td>23</td>\n      <td>0</td>\n      <td>18</td>\n      <td>0</td>\n      <td>9</td>\n      <td>0</td>\n      <td>0</td>\n      <td>0</td>\n      <td>0</td>\n      <td>0</td>\n      <td>0</td>\n      <td>0</td>\n      <td>0</td>\n      <td>0</td>\n      <td>0</td>\n      <td>0</td>\n    </tr>\n    <tr>\n      <th>(803, 933)</th>\n      <td>0</td>\n      <td>0</td>\n      <td>0</td>\n      <td>36</td>\n      <td>0</td>\n      <td>0</td>\n      <td>0</td>\n      <td>0</td>\n      <td>0</td>\n      <td>12</td>\n      <td>0</td>\n      <td>2</td>\n      <td>0</td>\n      <td>0</td>\n      <td>0</td>\n      <td>0</td>\n    </tr>\n    <tr>\n      <th>(2755, 2885)</th>\n      <td>0</td>\n      <td>0</td>\n      <td>0</td>\n      <td>0</td>\n      <td>0</td>\n      <td>2</td>\n      <td>8</td>\n      <td>0</td>\n      <td>0</td>\n      <td>40</td>\n      <td>0</td>\n      <td>0</td>\n      <td>0</td>\n      <td>0</td>\n      <td>0</td>\n      <td>0</td>\n    </tr>\n    <tr>\n      <th>(3021, 3117)</th>\n      <td>0</td>\n      <td>0</td>\n      <td>0</td>\n      <td>0</td>\n      <td>0</td>\n      <td>37</td>\n      <td>0</td>\n      <td>0</td>\n      <td>0</td>\n      <td>3</td>\n      <td>10</td>\n      <td>0</td>\n      <td>0</td>\n      <td>0</td>\n      <td>0</td>\n      <td>0</td>\n    </tr>\n    <tr>\n      <th>(3633, 3679)</th>\n      <td>0</td>\n      <td>0</td>\n      <td>0</td>\n      <td>0</td>\n      <td>0</td>\n      <td>0</td>\n      <td>0</td>\n      <td>4</td>\n      <td>0</td>\n      <td>33</td>\n      <td>0</td>\n      <td>13</td>\n      <td>0</td>\n      <td>0</td>\n      <td>0</td>\n      <td>0</td>\n    </tr>\n    <tr>\n      <th>(5932, 6026)</th>\n      <td>0</td>\n      <td>0</td>\n      <td>0</td>\n      <td>0</td>\n      <td>0</td>\n      <td>0</td>\n      <td>0</td>\n      <td>0</td>\n      <td>0</td>\n      <td>0</td>\n      <td>2</td>\n      <td>0</td>\n      <td>0</td>\n      <td>0</td>\n      <td>7</td>\n      <td>41</td>\n    </tr>\n    <tr>\n      <th>(6817, 6947)</th>\n      <td>0</td>\n      <td>0</td>\n      <td>30</td>\n      <td>1</td>\n      <td>0</td>\n      <td>0</td>\n      <td>0</td>\n      <td>0</td>\n      <td>0</td>\n      <td>0</td>\n      <td>0</td>\n      <td>19</td>\n      <td>0</td>\n      <td>0</td>\n      <td>0</td>\n      <td>0</td>\n    </tr>\n    <tr>\n      <th>(7825, 7932)</th>\n      <td>4</td>\n      <td>0</td>\n      <td>0</td>\n      <td>0</td>\n      <td>0</td>\n      <td>0</td>\n      <td>0</td>\n      <td>0</td>\n      <td>33</td>\n      <td>0</td>\n      <td>0</td>\n      <td>13</td>\n      <td>0</td>\n      <td>0</td>\n      <td>0</td>\n      <td>0</td>\n    </tr>\n    <tr>\n      <th>(8160, 8280)</th>\n      <td>0</td>\n      <td>0</td>\n      <td>0</td>\n      <td>0</td>\n      <td>3</td>\n      <td>0</td>\n      <td>24</td>\n      <td>0</td>\n      <td>0</td>\n      <td>0</td>\n      <td>0</td>\n      <td>0</td>\n      <td>23</td>\n      <td>0</td>\n      <td>0</td>\n      <td>0</td>\n    </tr>\n    <tr>\n      <th>(8205, 8312)</th>\n      <td>0</td>\n      <td>0</td>\n      <td>0</td>\n      <td>0</td>\n      <td>3</td>\n      <td>0</td>\n      <td>0</td>\n      <td>0</td>\n      <td>13</td>\n      <td>0</td>\n      <td>34</td>\n      <td>0</td>\n      <td>0</td>\n      <td>0</td>\n      <td>0</td>\n      <td>0</td>\n    </tr>\n    <tr>\n      <th>(9330, 9371)</th>\n      <td>0</td>\n      <td>0</td>\n      <td>0</td>\n      <td>0</td>\n      <td>0</td>\n      <td>0</td>\n      <td>14</td>\n      <td>0</td>\n      <td>0</td>\n      <td>0</td>\n      <td>0</td>\n      <td>0</td>\n      <td>0</td>\n      <td>11</td>\n      <td>25</td>\n      <td>0</td>\n    </tr>\n  </tbody>\n</table>\n</div>"
     },
     "execution_count": 81,
     "metadata": {},
     "output_type": "execute_result"
    }
   ],
   "source": [
    "pairwise_biallelic_table = m_biallelic_filter_pairwise_table.main(pairwise_table_slice.copy())\n",
    "pairwise_biallelic_table"
   ],
   "metadata": {
    "collapsed": false,
    "pycharm": {
     "name": "#%%\n"
    }
   }
  },
  {
   "cell_type": "markdown",
   "source": [
    "#### Convert to lookup format to match against likelihood tables"
   ],
   "metadata": {
    "collapsed": false
   }
  },
  {
   "cell_type": "code",
   "execution_count": 82,
   "outputs": [
    {
     "data": {
      "text/plain": "                00    01    10    11\n(709, 803)     0.0   9.0  18.0  23.0\n(803, 933)     2.0  12.0  36.0   0.0\n(2755, 2885)   0.0  40.0   8.0   2.0\n(3021, 3117)  10.0   3.0   0.0  37.0\n(3633, 3679)  13.0  33.0   4.0   0.0\n(5932, 6026)  41.0   7.0   0.0   2.0\n(6817, 6947)  19.0   0.0   1.0  30.0\n(7825, 7932)  13.0  33.0   0.0   4.0\n(8160, 8280)   0.0  23.0  24.0   3.0\n(8205, 8312)  34.0  13.0   0.0   3.0\n(9330, 9371)  25.0  11.0  14.0   0.0",
      "text/html": "<div>\n<style scoped>\n    .dataframe tbody tr th:only-of-type {\n        vertical-align: middle;\n    }\n\n    .dataframe tbody tr th {\n        vertical-align: top;\n    }\n\n    .dataframe thead th {\n        text-align: right;\n    }\n</style>\n<table border=\"1\" class=\"dataframe\">\n  <thead>\n    <tr style=\"text-align: right;\">\n      <th></th>\n      <th>00</th>\n      <th>01</th>\n      <th>10</th>\n      <th>11</th>\n    </tr>\n  </thead>\n  <tbody>\n    <tr>\n      <th>(709, 803)</th>\n      <td>0.0</td>\n      <td>9.0</td>\n      <td>18.0</td>\n      <td>23.0</td>\n    </tr>\n    <tr>\n      <th>(803, 933)</th>\n      <td>2.0</td>\n      <td>12.0</td>\n      <td>36.0</td>\n      <td>0.0</td>\n    </tr>\n    <tr>\n      <th>(2755, 2885)</th>\n      <td>0.0</td>\n      <td>40.0</td>\n      <td>8.0</td>\n      <td>2.0</td>\n    </tr>\n    <tr>\n      <th>(3021, 3117)</th>\n      <td>10.0</td>\n      <td>3.0</td>\n      <td>0.0</td>\n      <td>37.0</td>\n    </tr>\n    <tr>\n      <th>(3633, 3679)</th>\n      <td>13.0</td>\n      <td>33.0</td>\n      <td>4.0</td>\n      <td>0.0</td>\n    </tr>\n    <tr>\n      <th>(5932, 6026)</th>\n      <td>41.0</td>\n      <td>7.0</td>\n      <td>0.0</td>\n      <td>2.0</td>\n    </tr>\n    <tr>\n      <th>(6817, 6947)</th>\n      <td>19.0</td>\n      <td>0.0</td>\n      <td>1.0</td>\n      <td>30.0</td>\n    </tr>\n    <tr>\n      <th>(7825, 7932)</th>\n      <td>13.0</td>\n      <td>33.0</td>\n      <td>0.0</td>\n      <td>4.0</td>\n    </tr>\n    <tr>\n      <th>(8160, 8280)</th>\n      <td>0.0</td>\n      <td>23.0</td>\n      <td>24.0</td>\n      <td>3.0</td>\n    </tr>\n    <tr>\n      <th>(8205, 8312)</th>\n      <td>34.0</td>\n      <td>13.0</td>\n      <td>0.0</td>\n      <td>3.0</td>\n    </tr>\n    <tr>\n      <th>(9330, 9371)</th>\n      <td>25.0</td>\n      <td>11.0</td>\n      <td>14.0</td>\n      <td>0.0</td>\n    </tr>\n  </tbody>\n</table>\n</div>"
     },
     "execution_count": 82,
     "metadata": {},
     "output_type": "execute_result"
    }
   ],
   "source": [
    "lookup_formatted_table = m_pairwise_lookup_format_pyrho.main(pairwise_biallelic_table.copy())\n",
    "lookup_formatted_table"
   ],
   "metadata": {
    "collapsed": false,
    "pycharm": {
     "name": "#%%\n"
    }
   }
  },
  {
   "cell_type": "markdown",
   "source": [
    "#### Merge lookup formatted table on likelihood table"
   ],
   "metadata": {
    "collapsed": false
   }
  },
  {
   "cell_type": "code",
   "execution_count": 83,
   "outputs": [
    {
     "data": {
      "text/plain": "          0.0        1.0        2.0        3.0        4.0        5.0  \\\n0  -63.407341 -63.450302 -63.522497 -63.601174 -63.680284 -63.757721   \n1  -48.602080 -48.141035 -48.447715 -48.823685 -49.196044 -49.549756   \n2  -43.123990 -42.730268 -42.916198 -43.160218 -43.403020 -43.632947   \n3  -48.702983 -48.407871 -48.634291 -48.918166 -49.201440 -49.471564   \n4  -53.223861 -53.219663 -53.265636 -53.321441 -53.378234 -53.433492   \n5  -40.280738 -40.234510 -40.246883 -40.270463 -40.295885 -40.320729   \n6  -51.028590 -50.302686 -50.864879 -51.507634 -52.138238 -52.738021   \n7  -52.296261 -52.300391 -52.310913 -52.324088 -52.338394 -52.353100   \n8  -57.104125 -56.751465 -57.172512 -57.678934 -58.192202 -58.692653   \n9  -50.828903 -50.817438 -50.845209 -50.881132 -50.918273 -50.954617   \n10 -63.463451 -63.507192 -63.575403 -63.649318 -63.723698 -63.796638   \n\n          6.0  7.000000000000001        8.0        9.0  ...       92.0  \\\n0  -63.832687         -63.904903 -63.974319 -64.040991  ... -66.056109   \n1  -49.882467         -50.195250 -50.490037 -50.768823  ... -60.091752   \n2  -43.848457         -44.050521 -44.240637 -44.420260  ... -50.564476   \n3  -49.726316         -49.966314 -50.192920 -50.407579  ... -57.711433   \n4  -53.486485         -53.537084 -53.585370 -53.631493  ... -55.188806   \n5  -40.344367         -40.366703 -40.387809 -40.407797  ... -41.084918   \n6  -53.304006         -53.837558 -54.341262 -54.817897  ... -69.190704   \n7  -52.367825         -52.382359 -52.396587 -52.410446  ... -52.861970   \n8  -59.174533         -59.636498 -60.078800 -60.502286  ... -73.019559   \n9  -50.989556         -51.022953 -51.054839 -51.085307  ... -52.122976   \n10 -63.867376         -63.935624 -64.001306 -64.064448  ... -65.944227   \n\n         93.0       94.0       95.0       96.0       97.0       98.0  \\\n0  -66.065108 -66.073972 -66.082705 -66.091308 -66.099786 -66.108141   \n1  -60.147231 -60.202079 -60.256303 -60.309915 -60.362922 -60.415335   \n2  -50.603554 -50.642259 -50.680597 -50.718575 -50.756198 -50.793471   \n3  -57.755634 -57.799351 -57.842591 -57.885361 -57.927670 -57.969523   \n4  -55.197601 -55.206291 -55.214880 -55.223369 -55.231759 -55.240052   \n5  -41.089108 -41.093256 -41.097363 -41.101430 -41.105458 -41.109447   \n6  -69.258878 -69.326017 -69.392143 -69.457276 -69.521440 -69.584653   \n7  -52.864087 -52.866174 -52.868231 -52.870258 -52.872257 -52.874228   \n8  -73.074320 -73.128266 -73.181416 -73.233786 -73.285396 -73.336261   \n9  -52.128956 -52.134867 -52.140712 -52.146490 -52.152205 -52.157856   \n10 -65.952364 -65.960377 -65.968268 -65.976041 -65.983699 -65.991243   \n\n         99.0      100.0  d_ij  \n0  -66.116374 -66.124490    94  \n1  -60.467162 -60.518410   130  \n2  -50.830400 -50.866989   130  \n3  -58.010927 -58.051891    96  \n4  -55.248250 -55.256354    46  \n5  -41.113398 -41.117311    94  \n6  -69.646938 -69.708312   130  \n7  -52.876171 -52.878088   107  \n8  -73.386397 -73.435820   120  \n9  -52.163444 -52.168971   107  \n10 -65.998676 -66.006000    41  \n\n[11 rows x 102 columns]",
      "text/html": "<div>\n<style scoped>\n    .dataframe tbody tr th:only-of-type {\n        vertical-align: middle;\n    }\n\n    .dataframe tbody tr th {\n        vertical-align: top;\n    }\n\n    .dataframe thead th {\n        text-align: right;\n    }\n</style>\n<table border=\"1\" class=\"dataframe\">\n  <thead>\n    <tr style=\"text-align: right;\">\n      <th></th>\n      <th>0.0</th>\n      <th>1.0</th>\n      <th>2.0</th>\n      <th>3.0</th>\n      <th>4.0</th>\n      <th>5.0</th>\n      <th>6.0</th>\n      <th>7.000000000000001</th>\n      <th>8.0</th>\n      <th>9.0</th>\n      <th>...</th>\n      <th>92.0</th>\n      <th>93.0</th>\n      <th>94.0</th>\n      <th>95.0</th>\n      <th>96.0</th>\n      <th>97.0</th>\n      <th>98.0</th>\n      <th>99.0</th>\n      <th>100.0</th>\n      <th>d_ij</th>\n    </tr>\n  </thead>\n  <tbody>\n    <tr>\n      <th>0</th>\n      <td>-63.407341</td>\n      <td>-63.450302</td>\n      <td>-63.522497</td>\n      <td>-63.601174</td>\n      <td>-63.680284</td>\n      <td>-63.757721</td>\n      <td>-63.832687</td>\n      <td>-63.904903</td>\n      <td>-63.974319</td>\n      <td>-64.040991</td>\n      <td>...</td>\n      <td>-66.056109</td>\n      <td>-66.065108</td>\n      <td>-66.073972</td>\n      <td>-66.082705</td>\n      <td>-66.091308</td>\n      <td>-66.099786</td>\n      <td>-66.108141</td>\n      <td>-66.116374</td>\n      <td>-66.124490</td>\n      <td>94</td>\n    </tr>\n    <tr>\n      <th>1</th>\n      <td>-48.602080</td>\n      <td>-48.141035</td>\n      <td>-48.447715</td>\n      <td>-48.823685</td>\n      <td>-49.196044</td>\n      <td>-49.549756</td>\n      <td>-49.882467</td>\n      <td>-50.195250</td>\n      <td>-50.490037</td>\n      <td>-50.768823</td>\n      <td>...</td>\n      <td>-60.091752</td>\n      <td>-60.147231</td>\n      <td>-60.202079</td>\n      <td>-60.256303</td>\n      <td>-60.309915</td>\n      <td>-60.362922</td>\n      <td>-60.415335</td>\n      <td>-60.467162</td>\n      <td>-60.518410</td>\n      <td>130</td>\n    </tr>\n    <tr>\n      <th>2</th>\n      <td>-43.123990</td>\n      <td>-42.730268</td>\n      <td>-42.916198</td>\n      <td>-43.160218</td>\n      <td>-43.403020</td>\n      <td>-43.632947</td>\n      <td>-43.848457</td>\n      <td>-44.050521</td>\n      <td>-44.240637</td>\n      <td>-44.420260</td>\n      <td>...</td>\n      <td>-50.564476</td>\n      <td>-50.603554</td>\n      <td>-50.642259</td>\n      <td>-50.680597</td>\n      <td>-50.718575</td>\n      <td>-50.756198</td>\n      <td>-50.793471</td>\n      <td>-50.830400</td>\n      <td>-50.866989</td>\n      <td>130</td>\n    </tr>\n    <tr>\n      <th>3</th>\n      <td>-48.702983</td>\n      <td>-48.407871</td>\n      <td>-48.634291</td>\n      <td>-48.918166</td>\n      <td>-49.201440</td>\n      <td>-49.471564</td>\n      <td>-49.726316</td>\n      <td>-49.966314</td>\n      <td>-50.192920</td>\n      <td>-50.407579</td>\n      <td>...</td>\n      <td>-57.711433</td>\n      <td>-57.755634</td>\n      <td>-57.799351</td>\n      <td>-57.842591</td>\n      <td>-57.885361</td>\n      <td>-57.927670</td>\n      <td>-57.969523</td>\n      <td>-58.010927</td>\n      <td>-58.051891</td>\n      <td>96</td>\n    </tr>\n    <tr>\n      <th>4</th>\n      <td>-53.223861</td>\n      <td>-53.219663</td>\n      <td>-53.265636</td>\n      <td>-53.321441</td>\n      <td>-53.378234</td>\n      <td>-53.433492</td>\n      <td>-53.486485</td>\n      <td>-53.537084</td>\n      <td>-53.585370</td>\n      <td>-53.631493</td>\n      <td>...</td>\n      <td>-55.188806</td>\n      <td>-55.197601</td>\n      <td>-55.206291</td>\n      <td>-55.214880</td>\n      <td>-55.223369</td>\n      <td>-55.231759</td>\n      <td>-55.240052</td>\n      <td>-55.248250</td>\n      <td>-55.256354</td>\n      <td>46</td>\n    </tr>\n    <tr>\n      <th>5</th>\n      <td>-40.280738</td>\n      <td>-40.234510</td>\n      <td>-40.246883</td>\n      <td>-40.270463</td>\n      <td>-40.295885</td>\n      <td>-40.320729</td>\n      <td>-40.344367</td>\n      <td>-40.366703</td>\n      <td>-40.387809</td>\n      <td>-40.407797</td>\n      <td>...</td>\n      <td>-41.084918</td>\n      <td>-41.089108</td>\n      <td>-41.093256</td>\n      <td>-41.097363</td>\n      <td>-41.101430</td>\n      <td>-41.105458</td>\n      <td>-41.109447</td>\n      <td>-41.113398</td>\n      <td>-41.117311</td>\n      <td>94</td>\n    </tr>\n    <tr>\n      <th>6</th>\n      <td>-51.028590</td>\n      <td>-50.302686</td>\n      <td>-50.864879</td>\n      <td>-51.507634</td>\n      <td>-52.138238</td>\n      <td>-52.738021</td>\n      <td>-53.304006</td>\n      <td>-53.837558</td>\n      <td>-54.341262</td>\n      <td>-54.817897</td>\n      <td>...</td>\n      <td>-69.190704</td>\n      <td>-69.258878</td>\n      <td>-69.326017</td>\n      <td>-69.392143</td>\n      <td>-69.457276</td>\n      <td>-69.521440</td>\n      <td>-69.584653</td>\n      <td>-69.646938</td>\n      <td>-69.708312</td>\n      <td>130</td>\n    </tr>\n    <tr>\n      <th>7</th>\n      <td>-52.296261</td>\n      <td>-52.300391</td>\n      <td>-52.310913</td>\n      <td>-52.324088</td>\n      <td>-52.338394</td>\n      <td>-52.353100</td>\n      <td>-52.367825</td>\n      <td>-52.382359</td>\n      <td>-52.396587</td>\n      <td>-52.410446</td>\n      <td>...</td>\n      <td>-52.861970</td>\n      <td>-52.864087</td>\n      <td>-52.866174</td>\n      <td>-52.868231</td>\n      <td>-52.870258</td>\n      <td>-52.872257</td>\n      <td>-52.874228</td>\n      <td>-52.876171</td>\n      <td>-52.878088</td>\n      <td>107</td>\n    </tr>\n    <tr>\n      <th>8</th>\n      <td>-57.104125</td>\n      <td>-56.751465</td>\n      <td>-57.172512</td>\n      <td>-57.678934</td>\n      <td>-58.192202</td>\n      <td>-58.692653</td>\n      <td>-59.174533</td>\n      <td>-59.636498</td>\n      <td>-60.078800</td>\n      <td>-60.502286</td>\n      <td>...</td>\n      <td>-73.019559</td>\n      <td>-73.074320</td>\n      <td>-73.128266</td>\n      <td>-73.181416</td>\n      <td>-73.233786</td>\n      <td>-73.285396</td>\n      <td>-73.336261</td>\n      <td>-73.386397</td>\n      <td>-73.435820</td>\n      <td>120</td>\n    </tr>\n    <tr>\n      <th>9</th>\n      <td>-50.828903</td>\n      <td>-50.817438</td>\n      <td>-50.845209</td>\n      <td>-50.881132</td>\n      <td>-50.918273</td>\n      <td>-50.954617</td>\n      <td>-50.989556</td>\n      <td>-51.022953</td>\n      <td>-51.054839</td>\n      <td>-51.085307</td>\n      <td>...</td>\n      <td>-52.122976</td>\n      <td>-52.128956</td>\n      <td>-52.134867</td>\n      <td>-52.140712</td>\n      <td>-52.146490</td>\n      <td>-52.152205</td>\n      <td>-52.157856</td>\n      <td>-52.163444</td>\n      <td>-52.168971</td>\n      <td>107</td>\n    </tr>\n    <tr>\n      <th>10</th>\n      <td>-63.463451</td>\n      <td>-63.507192</td>\n      <td>-63.575403</td>\n      <td>-63.649318</td>\n      <td>-63.723698</td>\n      <td>-63.796638</td>\n      <td>-63.867376</td>\n      <td>-63.935624</td>\n      <td>-64.001306</td>\n      <td>-64.064448</td>\n      <td>...</td>\n      <td>-65.944227</td>\n      <td>-65.952364</td>\n      <td>-65.960377</td>\n      <td>-65.968268</td>\n      <td>-65.976041</td>\n      <td>-65.983699</td>\n      <td>-65.991243</td>\n      <td>-65.998676</td>\n      <td>-66.006000</td>\n      <td>41</td>\n    </tr>\n  </tbody>\n</table>\n<p>11 rows × 102 columns</p>\n</div>"
     },
     "execution_count": 83,
     "metadata": {},
     "output_type": "execute_result"
    }
   ],
   "source": [
    "merged_eq3_table, table_ids_for_eq3 = m_custom_hap_sets_and_merge.main(pairwise_biallelic_table.copy(),\n",
    "                                                                           lookup_formatted_table.copy(),\n",
    "                                                                           lookup_table_rho_vals,\n",
    "                                                                           lookup_table)\n",
    "merged_eq3_table"
   ],
   "metadata": {
    "collapsed": false,
    "pycharm": {
     "name": "#%%\n"
    }
   }
  },
  {
   "cell_type": "markdown",
   "source": [
    "#### Calculate p_ij values for variant pairs"
   ],
   "metadata": {
    "collapsed": false
   }
  },
  {
   "cell_type": "code",
   "execution_count": 84,
   "outputs": [
    {
     "data": {
      "text/plain": "    0.0       1.0       2.0       3.0       4.0       5.0       6.0    \\\n0     0.0  0.342771  0.685541  1.028312  1.371082  1.713853  2.056624   \n1     0.0  0.457897  0.915794  1.373690  1.831587  2.289484  2.747381   \n2     0.0  0.457897  0.915794  1.373690  1.831587  2.289484  2.747381   \n3     0.0  0.349386  0.698773  1.048159  1.397545  1.746931  2.096318   \n4     0.0  0.175790  0.351579  0.527369  0.703159  0.878949  1.054738   \n5     0.0  0.342771  0.685541  1.028312  1.371082  1.713853  2.056624   \n6     0.0  0.457897  0.915794  1.373690  1.831587  2.289484  2.747381   \n7     0.0  0.385303  0.770606  1.155910  1.541213  1.926516  2.311819   \n8     0.0  0.426744  0.853489  1.280233  1.706977  2.133721  2.560466   \n9     0.0  0.385303  0.770606  1.155910  1.541213  1.926516  2.311819   \n10    0.0  0.157456  0.314912  0.472368  0.629824  0.787280  0.944736   \n\n       7.0       8.0       9.0    ...      91.0       92.0       93.0   \\\n0   2.399394  2.742165  3.084935  ...  31.192123  31.534894  31.877664   \n1   3.205278  3.663175  4.121071  ...  41.668611  42.126508  42.584405   \n2   3.205278  3.663175  4.121071  ...  41.668611  42.126508  42.584405   \n3   2.445704  2.795090  3.144476  ...  31.794150  32.143536  32.492922   \n4   1.230528  1.406318  1.582107  ...  15.996863  16.172652  16.348442   \n5   2.399394  2.742165  3.084935  ...  31.192123  31.534894  31.877664   \n6   3.205278  3.663175  4.121071  ...  41.668611  42.126508  42.584405   \n7   2.697123  3.082426  3.467729  ...  35.062594  35.447897  35.833200   \n8   2.987210  3.413954  3.840699  ...  38.833729  39.260474  39.687218   \n9   2.697123  3.082426  3.467729  ...  35.062594  35.447897  35.833200   \n10  1.102193  1.259649  1.417105  ...  14.328504  14.485960  14.643416   \n\n        94.0       95.0       96.0       97.0       98.0       99.0   \\\n0   32.220435  32.563206  32.905976  33.248747  33.591517  33.934288   \n1   43.042302  43.500199  43.958096  44.415992  44.873889  45.331786   \n2   43.042302  43.500199  43.958096  44.415992  44.873889  45.331786   \n3   32.842309  33.191695  33.541081  33.890468  34.239854  34.589240   \n4   16.524232  16.700022  16.875811  17.051601  17.227391  17.403180   \n5   32.220435  32.563206  32.905976  33.248747  33.591517  33.934288   \n6   43.042302  43.500199  43.958096  44.415992  44.873889  45.331786   \n7   36.218504  36.603807  36.989110  37.374413  37.759717  38.145020   \n8   40.113962  40.540706  40.967451  41.394195  41.820939  42.247684   \n9   36.218504  36.603807  36.989110  37.374413  37.759717  38.145020   \n10  14.800872  14.958328  15.115784  15.273240  15.430696  15.588152   \n\n        100.0  \n0   34.277059  \n1   45.789683  \n2   45.789683  \n3   34.938626  \n4   17.578970  \n5   34.277059  \n6   45.789683  \n7   38.530323  \n8   42.674428  \n9   38.530323  \n10  15.745608  \n\n[11 rows x 101 columns]",
      "text/html": "<div>\n<style scoped>\n    .dataframe tbody tr th:only-of-type {\n        vertical-align: middle;\n    }\n\n    .dataframe tbody tr th {\n        vertical-align: top;\n    }\n\n    .dataframe thead th {\n        text-align: right;\n    }\n</style>\n<table border=\"1\" class=\"dataframe\">\n  <thead>\n    <tr style=\"text-align: right;\">\n      <th></th>\n      <th>0.0</th>\n      <th>1.0</th>\n      <th>2.0</th>\n      <th>3.0</th>\n      <th>4.0</th>\n      <th>5.0</th>\n      <th>6.0</th>\n      <th>7.0</th>\n      <th>8.0</th>\n      <th>9.0</th>\n      <th>...</th>\n      <th>91.0</th>\n      <th>92.0</th>\n      <th>93.0</th>\n      <th>94.0</th>\n      <th>95.0</th>\n      <th>96.0</th>\n      <th>97.0</th>\n      <th>98.0</th>\n      <th>99.0</th>\n      <th>100.0</th>\n    </tr>\n  </thead>\n  <tbody>\n    <tr>\n      <th>0</th>\n      <td>0.0</td>\n      <td>0.342771</td>\n      <td>0.685541</td>\n      <td>1.028312</td>\n      <td>1.371082</td>\n      <td>1.713853</td>\n      <td>2.056624</td>\n      <td>2.399394</td>\n      <td>2.742165</td>\n      <td>3.084935</td>\n      <td>...</td>\n      <td>31.192123</td>\n      <td>31.534894</td>\n      <td>31.877664</td>\n      <td>32.220435</td>\n      <td>32.563206</td>\n      <td>32.905976</td>\n      <td>33.248747</td>\n      <td>33.591517</td>\n      <td>33.934288</td>\n      <td>34.277059</td>\n    </tr>\n    <tr>\n      <th>1</th>\n      <td>0.0</td>\n      <td>0.457897</td>\n      <td>0.915794</td>\n      <td>1.373690</td>\n      <td>1.831587</td>\n      <td>2.289484</td>\n      <td>2.747381</td>\n      <td>3.205278</td>\n      <td>3.663175</td>\n      <td>4.121071</td>\n      <td>...</td>\n      <td>41.668611</td>\n      <td>42.126508</td>\n      <td>42.584405</td>\n      <td>43.042302</td>\n      <td>43.500199</td>\n      <td>43.958096</td>\n      <td>44.415992</td>\n      <td>44.873889</td>\n      <td>45.331786</td>\n      <td>45.789683</td>\n    </tr>\n    <tr>\n      <th>2</th>\n      <td>0.0</td>\n      <td>0.457897</td>\n      <td>0.915794</td>\n      <td>1.373690</td>\n      <td>1.831587</td>\n      <td>2.289484</td>\n      <td>2.747381</td>\n      <td>3.205278</td>\n      <td>3.663175</td>\n      <td>4.121071</td>\n      <td>...</td>\n      <td>41.668611</td>\n      <td>42.126508</td>\n      <td>42.584405</td>\n      <td>43.042302</td>\n      <td>43.500199</td>\n      <td>43.958096</td>\n      <td>44.415992</td>\n      <td>44.873889</td>\n      <td>45.331786</td>\n      <td>45.789683</td>\n    </tr>\n    <tr>\n      <th>3</th>\n      <td>0.0</td>\n      <td>0.349386</td>\n      <td>0.698773</td>\n      <td>1.048159</td>\n      <td>1.397545</td>\n      <td>1.746931</td>\n      <td>2.096318</td>\n      <td>2.445704</td>\n      <td>2.795090</td>\n      <td>3.144476</td>\n      <td>...</td>\n      <td>31.794150</td>\n      <td>32.143536</td>\n      <td>32.492922</td>\n      <td>32.842309</td>\n      <td>33.191695</td>\n      <td>33.541081</td>\n      <td>33.890468</td>\n      <td>34.239854</td>\n      <td>34.589240</td>\n      <td>34.938626</td>\n    </tr>\n    <tr>\n      <th>4</th>\n      <td>0.0</td>\n      <td>0.175790</td>\n      <td>0.351579</td>\n      <td>0.527369</td>\n      <td>0.703159</td>\n      <td>0.878949</td>\n      <td>1.054738</td>\n      <td>1.230528</td>\n      <td>1.406318</td>\n      <td>1.582107</td>\n      <td>...</td>\n      <td>15.996863</td>\n      <td>16.172652</td>\n      <td>16.348442</td>\n      <td>16.524232</td>\n      <td>16.700022</td>\n      <td>16.875811</td>\n      <td>17.051601</td>\n      <td>17.227391</td>\n      <td>17.403180</td>\n      <td>17.578970</td>\n    </tr>\n    <tr>\n      <th>5</th>\n      <td>0.0</td>\n      <td>0.342771</td>\n      <td>0.685541</td>\n      <td>1.028312</td>\n      <td>1.371082</td>\n      <td>1.713853</td>\n      <td>2.056624</td>\n      <td>2.399394</td>\n      <td>2.742165</td>\n      <td>3.084935</td>\n      <td>...</td>\n      <td>31.192123</td>\n      <td>31.534894</td>\n      <td>31.877664</td>\n      <td>32.220435</td>\n      <td>32.563206</td>\n      <td>32.905976</td>\n      <td>33.248747</td>\n      <td>33.591517</td>\n      <td>33.934288</td>\n      <td>34.277059</td>\n    </tr>\n    <tr>\n      <th>6</th>\n      <td>0.0</td>\n      <td>0.457897</td>\n      <td>0.915794</td>\n      <td>1.373690</td>\n      <td>1.831587</td>\n      <td>2.289484</td>\n      <td>2.747381</td>\n      <td>3.205278</td>\n      <td>3.663175</td>\n      <td>4.121071</td>\n      <td>...</td>\n      <td>41.668611</td>\n      <td>42.126508</td>\n      <td>42.584405</td>\n      <td>43.042302</td>\n      <td>43.500199</td>\n      <td>43.958096</td>\n      <td>44.415992</td>\n      <td>44.873889</td>\n      <td>45.331786</td>\n      <td>45.789683</td>\n    </tr>\n    <tr>\n      <th>7</th>\n      <td>0.0</td>\n      <td>0.385303</td>\n      <td>0.770606</td>\n      <td>1.155910</td>\n      <td>1.541213</td>\n      <td>1.926516</td>\n      <td>2.311819</td>\n      <td>2.697123</td>\n      <td>3.082426</td>\n      <td>3.467729</td>\n      <td>...</td>\n      <td>35.062594</td>\n      <td>35.447897</td>\n      <td>35.833200</td>\n      <td>36.218504</td>\n      <td>36.603807</td>\n      <td>36.989110</td>\n      <td>37.374413</td>\n      <td>37.759717</td>\n      <td>38.145020</td>\n      <td>38.530323</td>\n    </tr>\n    <tr>\n      <th>8</th>\n      <td>0.0</td>\n      <td>0.426744</td>\n      <td>0.853489</td>\n      <td>1.280233</td>\n      <td>1.706977</td>\n      <td>2.133721</td>\n      <td>2.560466</td>\n      <td>2.987210</td>\n      <td>3.413954</td>\n      <td>3.840699</td>\n      <td>...</td>\n      <td>38.833729</td>\n      <td>39.260474</td>\n      <td>39.687218</td>\n      <td>40.113962</td>\n      <td>40.540706</td>\n      <td>40.967451</td>\n      <td>41.394195</td>\n      <td>41.820939</td>\n      <td>42.247684</td>\n      <td>42.674428</td>\n    </tr>\n    <tr>\n      <th>9</th>\n      <td>0.0</td>\n      <td>0.385303</td>\n      <td>0.770606</td>\n      <td>1.155910</td>\n      <td>1.541213</td>\n      <td>1.926516</td>\n      <td>2.311819</td>\n      <td>2.697123</td>\n      <td>3.082426</td>\n      <td>3.467729</td>\n      <td>...</td>\n      <td>35.062594</td>\n      <td>35.447897</td>\n      <td>35.833200</td>\n      <td>36.218504</td>\n      <td>36.603807</td>\n      <td>36.989110</td>\n      <td>37.374413</td>\n      <td>37.759717</td>\n      <td>38.145020</td>\n      <td>38.530323</td>\n    </tr>\n    <tr>\n      <th>10</th>\n      <td>0.0</td>\n      <td>0.157456</td>\n      <td>0.314912</td>\n      <td>0.472368</td>\n      <td>0.629824</td>\n      <td>0.787280</td>\n      <td>0.944736</td>\n      <td>1.102193</td>\n      <td>1.259649</td>\n      <td>1.417105</td>\n      <td>...</td>\n      <td>14.328504</td>\n      <td>14.485960</td>\n      <td>14.643416</td>\n      <td>14.800872</td>\n      <td>14.958328</td>\n      <td>15.115784</td>\n      <td>15.273240</td>\n      <td>15.430696</td>\n      <td>15.588152</td>\n      <td>15.745608</td>\n    </tr>\n  </tbody>\n</table>\n<p>11 rows × 101 columns</p>\n</div>"
     },
     "execution_count": 84,
     "metadata": {},
     "output_type": "execute_result"
    }
   ],
   "source": [
    "p_ij_grid = m_pij_grid_vectorised.main(recom_tract_len, lookup_table_rho_vals, merged_eq3_table.copy())\n",
    "p_ij_grid"
   ],
   "metadata": {
    "collapsed": false,
    "pycharm": {
     "name": "#%%\n"
    }
   }
  },
  {
   "cell_type": "markdown",
   "source": [
    "#### Get final pairwise (variant pairs) likelihoods"
   ],
   "metadata": {
    "collapsed": false
   }
  },
  {
   "cell_type": "code",
   "execution_count": 85,
   "outputs": [
    {
     "data": {
      "text/plain": "        0.0        1.0        2.0        3.0        4.0        5.0    \\\n0  -63.407341 -63.422067 -63.436793 -63.452346 -63.477093 -63.501839   \n1  -48.602080 -48.390969 -48.179858 -48.255638 -48.396066 -48.556552   \n2  -43.123990 -42.943706 -42.763422 -42.799748 -42.884885 -42.986838   \n3  -48.702983 -48.599875 -48.496767 -48.418775 -48.497884 -48.576992   \n4  -53.223861 -53.223123 -53.222385 -53.221647 -53.220909 -53.220171   \n5  -40.280738 -40.264893 -40.249047 -40.234860 -40.239101 -40.243343   \n6  -51.028590 -50.696201 -50.363812 -50.512772 -50.770199 -51.050946   \n7  -52.296261 -52.297852 -52.299443 -52.302031 -52.306086 -52.310140   \n8  -57.104125 -56.953630 -56.803134 -56.869456 -57.049136 -57.240231   \n9  -50.828903 -50.824486 -50.820068 -50.821768 -50.832468 -50.843168   \n10 -63.463451 -63.470338 -63.477225 -63.484112 -63.491000 -63.497887   \n\n        6.0        7.0        8.0        9.0    ...      91.0       92.0   \\\n0  -63.526952 -63.553920 -63.580888 -63.607893  ... -65.036863 -65.047368   \n1  -48.728708 -48.900122 -49.070624 -49.238869  ... -56.154402 -56.204892   \n2  -43.098574 -43.210060 -43.321238 -43.430858  ... -47.910164 -47.943299   \n3  -48.661634 -48.760816 -48.859998 -48.959093  ... -53.665635 -53.701983   \n4  -53.222179 -53.230261 -53.238342 -53.246424  ... -53.906490 -53.912459   \n5  -40.248218 -40.256301 -40.264384 -40.272623  ... -40.703714 -40.707033   \n6  -51.345262 -51.637083 -51.925834 -52.210855  ... -63.684077 -63.761942   \n7  -52.315021 -52.320097 -52.325267 -52.330779  ... -52.653839 -52.656230   \n8  -57.456344 -57.672457 -57.891403 -58.110437  ... -68.088163 -68.154476   \n9  -50.856410 -50.870252 -50.884194 -50.898504  ... -51.605119 -51.610481   \n10 -63.504774 -63.514162 -63.524903 -63.535643  ... -64.361771 -64.369641   \n\n        93.0       94.0       95.0       96.0       97.0       98.0   \\\n0  -65.057873 -65.068195 -65.078416 -65.088636 -65.098658 -65.108606   \n1  -56.254754 -56.304539 -56.353562 -56.402585 -56.450869 -56.499079   \n2  -47.976044 -48.008740 -48.040962 -48.073183 -48.104946 -48.136663   \n3  -53.737893 -53.773804 -53.809324 -53.844524 -53.879723 -53.914454   \n4  -53.918424 -53.924389 -53.930354 -53.936319 -53.942229 -53.948006   \n5  -40.710352 -40.713627 -40.716878 -40.720129 -40.723333 -40.726520   \n6  -63.838615 -63.915140 -63.990215 -64.065289 -64.138955 -64.212480   \n7  -52.658621 -52.660979 -52.663310 -52.665642 -52.667919 -52.670194   \n8  -68.220118 -68.285319 -68.349307 -68.413295 -68.475812 -68.538206   \n9  -51.615844 -51.621145 -51.626400 -51.631656 -51.636810 -51.641962   \n10 -64.377511 -64.385381 -64.393251 -64.400910 -64.408494 -64.416077   \n\n        99.0       100.0  \n0  -65.118553 -65.128288  \n1  -56.546717 -56.594138  \n2  -48.168024 -48.199251  \n3  -53.948970 -53.983487  \n4  -53.953783 -53.959560  \n5  -40.729706 -40.732843  \n6  -64.284914 -64.356933  \n7  -52.672449 -52.674669  \n8  -68.599710 -68.660570  \n9  -51.647077 -51.652129  \n10 -64.423660 -64.431244  \n\n[11 rows x 101 columns]",
      "text/html": "<div>\n<style scoped>\n    .dataframe tbody tr th:only-of-type {\n        vertical-align: middle;\n    }\n\n    .dataframe tbody tr th {\n        vertical-align: top;\n    }\n\n    .dataframe thead th {\n        text-align: right;\n    }\n</style>\n<table border=\"1\" class=\"dataframe\">\n  <thead>\n    <tr style=\"text-align: right;\">\n      <th></th>\n      <th>0.0</th>\n      <th>1.0</th>\n      <th>2.0</th>\n      <th>3.0</th>\n      <th>4.0</th>\n      <th>5.0</th>\n      <th>6.0</th>\n      <th>7.0</th>\n      <th>8.0</th>\n      <th>9.0</th>\n      <th>...</th>\n      <th>91.0</th>\n      <th>92.0</th>\n      <th>93.0</th>\n      <th>94.0</th>\n      <th>95.0</th>\n      <th>96.0</th>\n      <th>97.0</th>\n      <th>98.0</th>\n      <th>99.0</th>\n      <th>100.0</th>\n    </tr>\n  </thead>\n  <tbody>\n    <tr>\n      <th>0</th>\n      <td>-63.407341</td>\n      <td>-63.422067</td>\n      <td>-63.436793</td>\n      <td>-63.452346</td>\n      <td>-63.477093</td>\n      <td>-63.501839</td>\n      <td>-63.526952</td>\n      <td>-63.553920</td>\n      <td>-63.580888</td>\n      <td>-63.607893</td>\n      <td>...</td>\n      <td>-65.036863</td>\n      <td>-65.047368</td>\n      <td>-65.057873</td>\n      <td>-65.068195</td>\n      <td>-65.078416</td>\n      <td>-65.088636</td>\n      <td>-65.098658</td>\n      <td>-65.108606</td>\n      <td>-65.118553</td>\n      <td>-65.128288</td>\n    </tr>\n    <tr>\n      <th>1</th>\n      <td>-48.602080</td>\n      <td>-48.390969</td>\n      <td>-48.179858</td>\n      <td>-48.255638</td>\n      <td>-48.396066</td>\n      <td>-48.556552</td>\n      <td>-48.728708</td>\n      <td>-48.900122</td>\n      <td>-49.070624</td>\n      <td>-49.238869</td>\n      <td>...</td>\n      <td>-56.154402</td>\n      <td>-56.204892</td>\n      <td>-56.254754</td>\n      <td>-56.304539</td>\n      <td>-56.353562</td>\n      <td>-56.402585</td>\n      <td>-56.450869</td>\n      <td>-56.499079</td>\n      <td>-56.546717</td>\n      <td>-56.594138</td>\n    </tr>\n    <tr>\n      <th>2</th>\n      <td>-43.123990</td>\n      <td>-42.943706</td>\n      <td>-42.763422</td>\n      <td>-42.799748</td>\n      <td>-42.884885</td>\n      <td>-42.986838</td>\n      <td>-43.098574</td>\n      <td>-43.210060</td>\n      <td>-43.321238</td>\n      <td>-43.430858</td>\n      <td>...</td>\n      <td>-47.910164</td>\n      <td>-47.943299</td>\n      <td>-47.976044</td>\n      <td>-48.008740</td>\n      <td>-48.040962</td>\n      <td>-48.073183</td>\n      <td>-48.104946</td>\n      <td>-48.136663</td>\n      <td>-48.168024</td>\n      <td>-48.199251</td>\n    </tr>\n    <tr>\n      <th>3</th>\n      <td>-48.702983</td>\n      <td>-48.599875</td>\n      <td>-48.496767</td>\n      <td>-48.418775</td>\n      <td>-48.497884</td>\n      <td>-48.576992</td>\n      <td>-48.661634</td>\n      <td>-48.760816</td>\n      <td>-48.859998</td>\n      <td>-48.959093</td>\n      <td>...</td>\n      <td>-53.665635</td>\n      <td>-53.701983</td>\n      <td>-53.737893</td>\n      <td>-53.773804</td>\n      <td>-53.809324</td>\n      <td>-53.844524</td>\n      <td>-53.879723</td>\n      <td>-53.914454</td>\n      <td>-53.948970</td>\n      <td>-53.983487</td>\n    </tr>\n    <tr>\n      <th>4</th>\n      <td>-53.223861</td>\n      <td>-53.223123</td>\n      <td>-53.222385</td>\n      <td>-53.221647</td>\n      <td>-53.220909</td>\n      <td>-53.220171</td>\n      <td>-53.222179</td>\n      <td>-53.230261</td>\n      <td>-53.238342</td>\n      <td>-53.246424</td>\n      <td>...</td>\n      <td>-53.906490</td>\n      <td>-53.912459</td>\n      <td>-53.918424</td>\n      <td>-53.924389</td>\n      <td>-53.930354</td>\n      <td>-53.936319</td>\n      <td>-53.942229</td>\n      <td>-53.948006</td>\n      <td>-53.953783</td>\n      <td>-53.959560</td>\n    </tr>\n    <tr>\n      <th>5</th>\n      <td>-40.280738</td>\n      <td>-40.264893</td>\n      <td>-40.249047</td>\n      <td>-40.234860</td>\n      <td>-40.239101</td>\n      <td>-40.243343</td>\n      <td>-40.248218</td>\n      <td>-40.256301</td>\n      <td>-40.264384</td>\n      <td>-40.272623</td>\n      <td>...</td>\n      <td>-40.703714</td>\n      <td>-40.707033</td>\n      <td>-40.710352</td>\n      <td>-40.713627</td>\n      <td>-40.716878</td>\n      <td>-40.720129</td>\n      <td>-40.723333</td>\n      <td>-40.726520</td>\n      <td>-40.729706</td>\n      <td>-40.732843</td>\n    </tr>\n    <tr>\n      <th>6</th>\n      <td>-51.028590</td>\n      <td>-50.696201</td>\n      <td>-50.363812</td>\n      <td>-50.512772</td>\n      <td>-50.770199</td>\n      <td>-51.050946</td>\n      <td>-51.345262</td>\n      <td>-51.637083</td>\n      <td>-51.925834</td>\n      <td>-52.210855</td>\n      <td>...</td>\n      <td>-63.684077</td>\n      <td>-63.761942</td>\n      <td>-63.838615</td>\n      <td>-63.915140</td>\n      <td>-63.990215</td>\n      <td>-64.065289</td>\n      <td>-64.138955</td>\n      <td>-64.212480</td>\n      <td>-64.284914</td>\n      <td>-64.356933</td>\n    </tr>\n    <tr>\n      <th>7</th>\n      <td>-52.296261</td>\n      <td>-52.297852</td>\n      <td>-52.299443</td>\n      <td>-52.302031</td>\n      <td>-52.306086</td>\n      <td>-52.310140</td>\n      <td>-52.315021</td>\n      <td>-52.320097</td>\n      <td>-52.325267</td>\n      <td>-52.330779</td>\n      <td>...</td>\n      <td>-52.653839</td>\n      <td>-52.656230</td>\n      <td>-52.658621</td>\n      <td>-52.660979</td>\n      <td>-52.663310</td>\n      <td>-52.665642</td>\n      <td>-52.667919</td>\n      <td>-52.670194</td>\n      <td>-52.672449</td>\n      <td>-52.674669</td>\n    </tr>\n    <tr>\n      <th>8</th>\n      <td>-57.104125</td>\n      <td>-56.953630</td>\n      <td>-56.803134</td>\n      <td>-56.869456</td>\n      <td>-57.049136</td>\n      <td>-57.240231</td>\n      <td>-57.456344</td>\n      <td>-57.672457</td>\n      <td>-57.891403</td>\n      <td>-58.110437</td>\n      <td>...</td>\n      <td>-68.088163</td>\n      <td>-68.154476</td>\n      <td>-68.220118</td>\n      <td>-68.285319</td>\n      <td>-68.349307</td>\n      <td>-68.413295</td>\n      <td>-68.475812</td>\n      <td>-68.538206</td>\n      <td>-68.599710</td>\n      <td>-68.660570</td>\n    </tr>\n    <tr>\n      <th>9</th>\n      <td>-50.828903</td>\n      <td>-50.824486</td>\n      <td>-50.820068</td>\n      <td>-50.821768</td>\n      <td>-50.832468</td>\n      <td>-50.843168</td>\n      <td>-50.856410</td>\n      <td>-50.870252</td>\n      <td>-50.884194</td>\n      <td>-50.898504</td>\n      <td>...</td>\n      <td>-51.605119</td>\n      <td>-51.610481</td>\n      <td>-51.615844</td>\n      <td>-51.621145</td>\n      <td>-51.626400</td>\n      <td>-51.631656</td>\n      <td>-51.636810</td>\n      <td>-51.641962</td>\n      <td>-51.647077</td>\n      <td>-51.652129</td>\n    </tr>\n    <tr>\n      <th>10</th>\n      <td>-63.463451</td>\n      <td>-63.470338</td>\n      <td>-63.477225</td>\n      <td>-63.484112</td>\n      <td>-63.491000</td>\n      <td>-63.497887</td>\n      <td>-63.504774</td>\n      <td>-63.514162</td>\n      <td>-63.524903</td>\n      <td>-63.535643</td>\n      <td>...</td>\n      <td>-64.361771</td>\n      <td>-64.369641</td>\n      <td>-64.377511</td>\n      <td>-64.385381</td>\n      <td>-64.393251</td>\n      <td>-64.400910</td>\n      <td>-64.408494</td>\n      <td>-64.416077</td>\n      <td>-64.423660</td>\n      <td>-64.431244</td>\n    </tr>\n  </tbody>\n</table>\n<p>11 rows × 101 columns</p>\n</div>"
     },
     "execution_count": 85,
     "metadata": {},
     "output_type": "execute_result"
    }
   ],
   "source": [
    "interpolated_eq2_df = m_pairwise_rho_estimator_intp_rect_biv.main(merged_eq3_table.copy(),\n",
    "                                                                      table_ids_for_eq3.copy(),\n",
    "                                                                      p_ij_grid.copy(),\n",
    "                                                                      lookup_table,\n",
    "                                                                      depth)\n",
    "interpolated_eq2_df"
   ],
   "metadata": {
    "collapsed": false,
    "pycharm": {
     "name": "#%%\n"
    }
   }
  },
  {
   "cell_type": "markdown",
   "source": [
    "#### ...Collect pairwise likelihoods across depths, bootstrap and perform final sums\n",
    "Here we are only looking at one depth"
   ],
   "metadata": {
    "collapsed": false,
    "pycharm": {
     "name": "#%% md\n"
    }
   }
  }
 ],
 "metadata": {
  "kernelspec": {
   "display_name": "Python 3",
   "language": "python",
   "name": "python3"
  },
  "language_info": {
   "codemirror_mode": {
    "name": "ipython",
    "version": 2
   },
   "file_extension": ".py",
   "mimetype": "text/x-python",
   "name": "python",
   "nbconvert_exporter": "python",
   "pygments_lexer": "ipython2",
   "version": "2.7.6"
  }
 },
 "nbformat": 4,
 "nbformat_minor": 0
}