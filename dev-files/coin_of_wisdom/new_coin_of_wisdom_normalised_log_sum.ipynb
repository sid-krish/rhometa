{
 "cells": [
  {
   "cell_type": "markdown",
   "metadata": {},
   "source": [
    "## Reverend Bayes' legendary coin of wisdom\n",
    "### A parable\n",
    "\n",
    "An eminent Professor of History at your university has recently discovered a relic that was once owned by the venerable Reverend Bayes. The item is the legendary \"coin of wisdom\", said to impart those who possess it with powerful knowledge of statistics. Legend has it that despite appearing to be a fair coin, the coin is biased, with an unequal probability of producing heads or tails. As the Professor of History could barely muster an addition if his life depended on it, he has reached out for collaborative assistance from our group to either confirm or deny the legend.\n",
    "\n",
    "The coin flipping problem is of course a well-known problem from statistics, and when probabilities of heads or tails (or \"probability of success\" if we define success to be either heads or tails) are unequal the process can be modeled using the binomial distribution.\n",
    "\n",
    "You have been tasked with estimating the probability that a flip of the coin produces tails (lets define tails as \"success\"). To do so, you collect a dataset of three sets of coin flips:\n",
    "1. Your professor flips the coin five times, producing 1 tails and 4 heads, before realising he is late to an important meeting and handing the coin to a postdoc in the group.\n",
    "2. The postdoc in the group flips the coin ten times, producing 5 tails and 5 heads, before realising it's time to collect the child from daycare and giving you the coin.\n",
    "3. You flip the coin 100 times, producing 66 tails and 34 heads, before noticing how hungry you are and setting out to have dinner.\n",
    "\n",
    "Because each person may have slight different biases in how they flip coins you decide not to pool all of the results, but instead to treat them as independent estimates under the binomial distribution. And for no particular reason, you decide to take the maximum likelihood computed under the binomial at fixed probabilities of tails/success rather than using analytical estimation or some kind of gradient optimisation.\n",
    "\n",
    "Therefore, you calculate the likelihood of the three observations above when probability of tails ranges from 0.05, 0.1 ... 0.95 in increments of 0.05.\n",
    "\n",
    "What is the maximum likelihood value of the probability of tails, p_t?\n",
    "\n",
    "The likelihood that an arbitrary value p_t produced an observed set of coin flips can be calculated using the probability mass function of the binomial.\n"
   ]
  },
  {
   "cell_type": "code",
   "execution_count": 3,
   "metadata": {
    "pycharm": {
     "name": "#%%\n"
    }
   },
   "outputs": [
    {
     "name": "stdout",
     "output_type": "stream",
     "text": [
      "Professor:\n",
      "\tp_t = 0.05, likelihood=0.20362656249999997\n",
      "\tp_t = 0.1, likelihood=0.3280499999999999\n",
      "\tp_t = 0.15, likelihood=0.3915046874999999\n",
      "\tp_t = 0.2, likelihood=0.4095999999999999\n",
      "\tp_t = 0.25, likelihood=0.39550781249999994\n",
      "\tp_t = 0.3, likelihood=0.3601499999999999\n",
      "\tp_t = 0.35, likelihood=0.3123859374999999\n",
      "\tp_t = 0.4, likelihood=0.2591999999999999\n",
      "\tp_t = 0.45, likelihood=0.20588906249999994\n",
      "\tp_t = 0.5, likelihood=0.15624999999999994\n",
      "\tp_t = 0.55, likelihood=0.11276718749999994\n",
      "\tp_t = 0.6, likelihood=0.07680000000000001\n",
      "\tp_t = 0.65, likelihood=0.04877031249999996\n",
      "\tp_t = 0.7, likelihood=0.02835\n",
      "\tp_t = 0.75, likelihood=0.014648437499999993\n",
      "\tp_t = 0.8, likelihood=0.006399999999999998\n",
      "\tp_t = 0.85, likelihood=0.002151562500000002\n",
      "\tp_t = 0.9, likelihood=0.00044999999999999945\n",
      "\tp_t = 0.95, likelihood=2.9687500000000112e-05\n",
      "Postdoc:\n",
      "\tp_t = 0.05, likelihood=6.0935248828125136e-05\n",
      "\tp_t = 0.1, likelihood=0.0014880348000000042\n",
      "\tp_t = 0.15, likelihood=0.008490855786328131\n",
      "\tp_t = 0.2, likelihood=0.02642411520000004\n",
      "\tp_t = 0.25, likelihood=0.058399200439453194\n",
      "\tp_t = 0.3, likelihood=0.10291934520000007\n",
      "\tp_t = 0.35, likelihood=0.15357041070820318\n",
      "\tp_t = 0.4, likelihood=0.20065812480000034\n",
      "\tp_t = 0.45, likelihood=0.2340327075925783\n",
      "\tp_t = 0.5, likelihood=0.24609375000000025\n",
      "\tp_t = 0.55, likelihood=0.2340327075925782\n",
      "\tp_t = 0.6, likelihood=0.20065812480000034\n",
      "\tp_t = 0.65, likelihood=0.15357041070820318\n",
      "\tp_t = 0.7, likelihood=0.10291934520000011\n",
      "\tp_t = 0.75, likelihood=0.05839920043945317\n",
      "\tp_t = 0.8, likelihood=0.02642411520000004\n",
      "\tp_t = 0.85, likelihood=0.008490855786328147\n",
      "\tp_t = 0.9, likelihood=0.0014880347999999988\n",
      "\tp_t = 0.95, likelihood=6.093524882812535e-05\n",
      "Student:\n",
      "\tp_t = 0.05, likelihood=1.375902713626292e-60\n",
      "\tp_t = 0.1, likelihood=1.6151400345015226e-41\n",
      "\tp_t = 0.15, likelihood=9.687939837461305e-31\n",
      "\tp_t = 0.2, likelihood=2.1727218543710134e-23\n",
      "\tp_t = 0.25, likelihood=6.026822332210481e-18\n",
      "\tp_t = 0.3, likelihood=9.711829138028295e-14\n",
      "\tp_t = 0.35, likelihood=2.048848820993619e-10\n",
      "\tp_t = 0.4, likelihood=9.05871928704545e-08\n",
      "\tp_t = 0.45, likelihood=1.1176921820504028e-05\n",
      "\tp_t = 0.5, likelihood=0.00045810527728724286\n",
      "\tp_t = 0.55, likelihood=0.0068727071090161325\n",
      "\tp_t = 0.6, likelihood=0.0390829279181471\n",
      "\tp_t = 0.65, likelihood=0.08214098520943462\n",
      "\tp_t = 0.7, likelihood=0.057883950385953564\n",
      "\tp_t = 0.75, likelihood=0.011167823456209033\n",
      "\tp_t = 0.8, likelihood=0.0004007964399093766\n",
      "\tp_t = 0.85, likelihood=1.2379889441291445e-06\n",
      "\tp_t = 0.9, likelihood=5.5458802039745616e-11\n",
      "\tp_t = 0.95, likelihood=1.144729718323797e-19\n"
     ]
    }
   ],
   "source": [
    "import scipy.stats as stats\n",
    "# compute probability mass at each level of fairness for \n",
    "# the professor's coin flips\n",
    "print(\"Professor:\")\n",
    "for i in range(1,20):\n",
    "  print(\"\\tp_t = \"+str(i/20)+\", likelihood=\"+str(stats.binom.pmf(1, 5, i/20)))\n",
    "\n",
    "# now do the same for the postdoc's coin flips\n",
    "print(\"Postdoc:\")\n",
    "for i in range(1,20):\n",
    "  print(\"\\tp_t = \"+str(i/20)+\", likelihood=\"+str(stats.binom.pmf(5, 10, i/20)))\n",
    "\n",
    "# and for the student's coin flips\n",
    "print(\"Student:\")\n",
    "for i in range(1,20):\n",
    "  print(\"\\tp_t = \"+str(i/20)+\", likelihood=\"+str(stats.binom.pmf(66, 100, i/20)))\n"
   ]
  },
  {
   "cell_type": "markdown",
   "metadata": {},
   "source": [
    "## combining information from the separate trials\n",
    "\n",
    "We have now obtained the likelihoods of different p_t for each of the three independent coin flip trials. How do we combine them? One approach would be to sum the (log) likelihoods across trials and take the maximum. Does it produce the correct result? Which trial contributes the most to the estimate of p_t?\n",
    "\n",
    "\n",
    "\n",
    "## A further correspondence from the historian\n",
    "\n",
    "The historian has come into contact with a colleague in Europe who is in possession of a letter written by the reverend that describes the manufacture of the coin. In it, the reverend indicates the shape and weight of the coin were designed to produce tails 60% of the time. How does that compare to your estimate? How does it compare to the student's estimate?"
   ]
  },
  {
   "cell_type": "code",
   "execution_count": 4,
   "metadata": {
    "collapsed": false,
    "pycharm": {
     "name": "#%%\n"
    }
   },
   "outputs": [
    {
     "name": "stderr",
     "output_type": "stream",
     "text": [
      "<ipython-input-4-32a4cec05fdb>:12: RuntimeWarning: divide by zero encountered in log\n",
      "  prof_lk_norm_log = np.log(prof_lk_norm) # natural log\n",
      "<ipython-input-4-32a4cec05fdb>:13: RuntimeWarning: divide by zero encountered in log\n",
      "  postdoc_lk_norm_log = np.log(postdoc_lk_norm)\n",
      "<ipython-input-4-32a4cec05fdb>:14: RuntimeWarning: divide by zero encountered in log\n",
      "  student_lk_norm_log = np.log(student_lk_norm)\n"
     ]
    },
    {
     "data": {
      "text/plain": [
       "array([0.49709871, 0.80088889, 0.95581879, 1.        , 0.96559275,\n",
       "       0.87926371, 0.76264378, 0.63278588, 0.50262279, 0.38142489,\n",
       "       0.27525799, 0.18744111, 0.11900429, 0.0691464 , 0.03569289,\n",
       "       0.01555365, 0.00518073, 0.00102623, 0.        ])"
      ]
     },
     "execution_count": 4,
     "metadata": {},
     "output_type": "execute_result"
    }
   ],
   "source": [
    "import pandas as pd\n",
    "import numpy as np\n",
    "probabilities = [i/20 for i in range(1,20)]\n",
    "prof_lk = np.array([stats.binom.pmf(1, 5, i/20) for i in range(1,20)])\n",
    "postdoc_lk = np.array([stats.binom.pmf(5, 10, i/20) for i in range(1,20)])\n",
    "student_lk = np.array([stats.binom.pmf(66, 100, i/20) for i in range(1,20)])\n",
    "#normalise\n",
    "prof_lk_norm = (prof_lk - np.min(prof_lk)) / (np.max(prof_lk) - np.min(prof_lk))\n",
    "postdoc_lk_norm = (postdoc_lk - np.min(postdoc_lk)) / (np.max(postdoc_lk) - np.min(postdoc_lk))\n",
    "student_lk_norm = (student_lk - np.min(student_lk)) / (np.max(student_lk) - np.min(student_lk))\n",
    "# convert to log\n",
    "prof_lk_norm_log = np.log(prof_lk_norm) # natural log\n",
    "postdoc_lk_norm_log = np.log(postdoc_lk_norm)\n",
    "student_lk_norm_log = np.log(student_lk_norm)\n",
    "# get series\n",
    "prof_vals = pd.Series(prof_lk_norm_log,probabilities)\n",
    "postdoc_vals = pd.Series(postdoc_lk_norm_log,probabilities)\n",
    "student_vals = pd.Series(student_lk_norm_log,probabilities)\n",
    "prof_lk_norm"
   ]
  },
  {
   "cell_type": "code",
   "execution_count": null,
   "metadata": {
    "collapsed": false,
    "pycharm": {
     "name": "#%%\n"
    }
   },
   "outputs": [],
   "source": [
    "collected_df = pd.concat([prof_vals,postdoc_vals,student_vals], axis=1)\n",
    "collected_df"
   ]
  },
  {
   "cell_type": "code",
   "execution_count": null,
   "metadata": {
    "collapsed": false,
    "pycharm": {
     "name": "#%%\n"
    }
   },
   "outputs": [],
   "source": [
    "collected_df_sum = collected_df.sum(axis=1)\n",
    "collected_df_sum"
   ]
  },
  {
   "cell_type": "code",
   "execution_count": 7,
   "metadata": {},
   "outputs": [
    {
     "name": "stdout",
     "output_type": "stream",
     "text": [
      "Combined:\n",
      "\tp_t = 0.05, score=0.5033493340911449\n",
      "\tp_t = 0.1, score=0.637644619203657\n",
      "\tp_t = 0.15, score=0.7635910005674413\n",
      "\tp_t = 0.2, score=0.9181830025090298\n",
      "\tp_t = 0.25, score=1.109674101177159\n",
      "\tp_t = 0.3, score=1.31615914018216\n",
      "\tp_t = 0.35, score=1.4949073944265314\n",
      "\tp_t = 0.4, score=1.6035976797458766\n",
      "\tp_t = 0.45, score=1.8207060752467685\n",
      "\tp_t = 0.5, score=4.928110437014295\n",
      "\tp_t = 0.55, score=20.95642213162671\n",
      "\tp_t = 0.6, score=42.3994500331629\n",
      "\tp_t = 0.65, score=29.84024364498622\n",
      "\tp_t = 0.7, score=5.983057207915847\n",
      "\tp_t = 0.75, score=0.35739517106290675\n",
      "\tp_t = 0.8, score=0.05057251774712528\n",
      "\tp_t = 0.85, score=0.008863461021435037\n",
      "\tp_t = 0.9, score=0.0003799548787536089\n"
     ]
    }
   ],
   "source": [
    "#\n",
    "# demonstrating the approach of normalisation followed by weighting\n",
    "#\n",
    "probabilities = [i/20 for i in range(1,20)]\n",
    "prof_lk = np.array([stats.binom.pmf(1, 5, i/20) for i in range(1,20)])\n",
    "postdoc_lk = np.array([stats.binom.pmf(5, 10, i/20) for i in range(1,20)])\n",
    "student_lk = np.array([stats.binom.pmf(66, 100, i/20) for i in range(1,20)])\n",
    "# normalise so likelihood values sum to 1 per trial, then weight by the number of independent draws per trial (5, 10 or 100) \n",
    "prof_lk_norm = 5 * prof_lk / np.sum(prof_lk)\n",
    "postdoc_lk_norm = 10 * postdoc_lk / np.sum(postdoc_lk)\n",
    "student_lk_norm = 100 * student_lk / np.sum(student_lk)\n",
    "# sum all \"weighted scores\"\n",
    "norm_sum = prof_lk_norm + postdoc_lk_norm + student_lk_norm\n",
    "norm_sum\n",
    "# select the max weighted score (should be 0.6)\n",
    "print(\"Combined:\")\n",
    "for i in range(1,19):\n",
    "  print(\"\\tp_t = \"+str(i/20)+\", score=\"+str(norm_sum[i]))\n"
   ]
  }
 ],
 "metadata": {
  "interpreter": {
   "hash": "31f2aee4e71d21fbe5cf8b01ff0e069b9275f58929596ceb00d14d90e3e16cd6"
  },
  "kernelspec": {
   "display_name": "Python 3.8.10 64-bit",
   "language": "python",
   "name": "python3"
  },
  "language_info": {
   "codemirror_mode": {
    "name": "ipython",
    "version": 3
   },
   "file_extension": ".py",
   "mimetype": "text/x-python",
   "name": "python",
   "nbconvert_exporter": "python",
   "pygments_lexer": "ipython3",
   "version": "3.8.10"
  },
  "orig_nbformat": 4
 },
 "nbformat": 4,
 "nbformat_minor": 2
}
