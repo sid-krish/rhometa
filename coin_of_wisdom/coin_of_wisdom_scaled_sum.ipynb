{
 "cells": [
  {
   "cell_type": "markdown",
   "metadata": {},
   "source": [
    "## Reverend Bayes' legendary coin of wisdom\n",
    "### A parable\n",
    "\n",
    "An eminent Professor of History at your university has recently discovered a relic that was once owned by the venerable Reverend Bayes. The item is the legendary \"coin of wisdom\", said to impart those who possess it with powerful knowledge of statistics. Legend has it that despite appearing to be a fair coin, the coin is biased, with an unequal probability of producing heads or tails. As the Professor of History could barely muster an addition if his life depended on it, he has reached out for collaborative assistance from our group to either confirm or deny the legend.\n",
    "\n",
    "The coin flipping problem is of course a well-known problem from statistics, and when probabilities of heads or tails (or \"probability of success\" if we define success to be either heads or tails) are unequal the process can be modeled using the binomial distribution.\n",
    "\n",
    "You have been tasked with estimating the probability that a flip of the coin produces tails (lets define tails as \"success\"). To do so, you collect a dataset of three sets of coin flips:\n",
    "1. Your professor flips the coin five times, producing 1 tails and 4 heads, before realising he is late to an important meeting and handing the coin to a postdoc in the group.\n",
    "2. The postdoc in the group flips the coin ten times, producing 5 tails and 5 heads, before realising it's time to collect the child from daycare and giving you the coin.\n",
    "3. You flip the coin 100 times, producing 66 tails and 34 heads, before noticing how hungry you are and setting out to have dinner.\n",
    "\n",
    "Because each person may have slight different biases in how they flip coins you decide not to pool all of the results, but instead to treat them as independent estimates under the binomial distribution. And for no particular reason, you decide to take the maximum likelihood computed under the binomial at fixed probabilities of tails/success rather than using analytical estimation or some kind of gradient optimisation.\n",
    "\n",
    "Therefore, you calculate the likelihood of the three observations above when probability of tails ranges from 0.05, 0.1 ... 0.95 in increments of 0.05.\n",
    "\n",
    "What is the maximum likelihood value of the probability of tails, p_t?\n",
    "\n",
    "The likelihood that an arbitrary value p_t produced an observed set of coin flips can be calculated using the probability mass function of the binomial.\n"
   ]
  },
  {
   "cell_type": "code",
   "metadata": {
    "pycharm": {
     "name": "#%%\n"
    }
   },
   "source": [
    "import scipy.stats as stats\n",
    "# compute probability mass at each level of fairness for \n",
    "# the professor's coin flips\n",
    "print(\"Professor:\")\n",
    "for i in range(1,20):\n",
    "  print(\"\\tp_t = \"+str(i/20)+\", likelihood=\"+str(stats.binom.pmf(1, 5, i/20)))\n",
    "\n",
    "# now do the same for the postdoc's coin flips\n",
    "print(\"Postdoc:\")\n",
    "for i in range(1,20):\n",
    "  print(\"\\tp_t = \"+str(i/20)+\", likelihood=\"+str(stats.binom.pmf(5, 10, i/20)))\n",
    "\n",
    "# and for the student's coin flips\n",
    "print(\"Student:\")\n",
    "for i in range(1,20):\n",
    "  print(\"\\tp_t = \"+str(i/20)+\", likelihood=\"+str(stats.binom.pmf(66, 100, i/20)))\n"
   ],
   "execution_count": 30,
   "outputs": [
    {
     "name": "stdout",
     "output_type": "stream",
     "text": [
      "Professor:\n",
      "\tp_t = 0.05, likelihood=0.20362656250000014\n",
      "\tp_t = 0.1, likelihood=0.32804999999999995\n",
      "\tp_t = 0.15, likelihood=0.39150468749999984\n",
      "\tp_t = 0.2, likelihood=0.4095999999999999\n",
      "\tp_t = 0.25, likelihood=0.39550781250000006\n",
      "\tp_t = 0.3, likelihood=0.3601499999999999\n",
      "\tp_t = 0.35, likelihood=0.31238593750000004\n",
      "\tp_t = 0.4, likelihood=0.2592000000000001\n",
      "\tp_t = 0.45, likelihood=0.20588906250000005\n",
      "\tp_t = 0.5, likelihood=0.15624999999999997\n",
      "\tp_t = 0.55, likelihood=0.11276718749999998\n",
      "\tp_t = 0.6, likelihood=0.0768\n",
      "\tp_t = 0.65, likelihood=0.048770312499999996\n",
      "\tp_t = 0.7, likelihood=0.02834999999999999\n",
      "\tp_t = 0.75, likelihood=0.014648437499999998\n",
      "\tp_t = 0.8, likelihood=0.006399999999999999\n",
      "\tp_t = 0.85, likelihood=0.0021515624999999994\n",
      "\tp_t = 0.9, likelihood=0.0004499999999999999\n",
      "\tp_t = 0.95, likelihood=2.968750000000011e-05\n",
      "Postdoc:\n",
      "\tp_t = 0.05, likelihood=6.093524882812493e-05\n",
      "\tp_t = 0.1, likelihood=0.0014880347999999995\n",
      "\tp_t = 0.15, likelihood=0.008490855786328114\n",
      "\tp_t = 0.2, likelihood=0.026424115199999983\n",
      "\tp_t = 0.25, likelihood=0.058399200439453146\n",
      "\tp_t = 0.3, likelihood=0.10291934519999989\n",
      "\tp_t = 0.35, likelihood=0.15357041070820307\n",
      "\tp_t = 0.4, likelihood=0.20065812479999992\n",
      "\tp_t = 0.45, likelihood=0.23403270759257816\n",
      "\tp_t = 0.5, likelihood=0.24609375000000003\n",
      "\tp_t = 0.55, likelihood=0.23403270759257822\n",
      "\tp_t = 0.6, likelihood=0.20065812479999992\n",
      "\tp_t = 0.65, likelihood=0.15357041070820307\n",
      "\tp_t = 0.7, likelihood=0.10291934520000007\n",
      "\tp_t = 0.75, likelihood=0.058399200439453146\n",
      "\tp_t = 0.8, likelihood=0.026424115199999956\n",
      "\tp_t = 0.85, likelihood=0.008490855786328126\n",
      "\tp_t = 0.9, likelihood=0.0014880347999999982\n",
      "\tp_t = 0.95, likelihood=6.0935248828125204e-05\n",
      "Student:\n",
      "\tp_t = 0.05, likelihood=1.3759027136263122e-60\n",
      "\tp_t = 0.1, likelihood=1.615140034501527e-41\n",
      "\tp_t = 0.15, likelihood=9.687939837461297e-31\n",
      "\tp_t = 0.2, likelihood=2.172721854371014e-23\n",
      "\tp_t = 0.25, likelihood=6.026822332210419e-18\n",
      "\tp_t = 0.3, likelihood=9.711829138028317e-14\n",
      "\tp_t = 0.35, likelihood=2.0488488209936218e-10\n",
      "\tp_t = 0.4, likelihood=9.058719287045428e-08\n",
      "\tp_t = 0.45, likelihood=1.1176921820504125e-05\n",
      "\tp_t = 0.5, likelihood=0.0004581052772872398\n",
      "\tp_t = 0.55, likelihood=0.006872707109016188\n",
      "\tp_t = 0.6, likelihood=0.03908292791814707\n",
      "\tp_t = 0.65, likelihood=0.08214098520943502\n",
      "\tp_t = 0.7, likelihood=0.05788395038595346\n",
      "\tp_t = 0.75, likelihood=0.0111678234562091\n",
      "\tp_t = 0.8, likelihood=0.00040079643990937475\n",
      "\tp_t = 0.85, likelihood=1.2379889441291375e-06\n",
      "\tp_t = 0.9, likelihood=5.545880203974579e-11\n",
      "\tp_t = 0.95, likelihood=1.144729718323783e-19\n"
     ]
    }
   ]
  },
  {
   "cell_type": "markdown",
   "metadata": {},
   "source": [
    "## combining information from the separate trials\n",
    "\n",
    "We have now obtained the likelihoods of different p_t for each of the three independent coin flip trials. How do we combine them? One approach would be to sum the (log) likelihoods across trials and take the maximum. Does it produce the correct result? Which trial contributes the most to the estimate of p_t?\n",
    "\n",
    "\n",
    "\n",
    "## A further correspondence from the historian\n",
    "\n",
    "The historian has come into contact with a colleague in Europe who is in possession of a letter written by the reverend that describes the manufacture of the coin. In it, the reverend indicates the shape and weight of the coin were designed to produce tails 60% of the time. How does that compare to your estimate? How does it compare to the student's estimate?"
   ]
  },
  {
   "cell_type": "code",
   "execution_count": 31,
   "outputs": [
    {
     "name": "stdout",
     "output_type": "stream",
     "text": [
      "0.17434375 0.09569374787109375 0.010422094818650304\n",
      "1.8218927973732764 16.728282848474226\n"
     ]
    }
   ],
   "source": [
    "# scale factor\n",
    "import numpy as np\n",
    "prof_lk = [stats.binom.pmf(1, 5, i/20) for i in range(1,20)]\n",
    "postdoc_lk = [stats.binom.pmf(5, 10, i/20) for i in range(1,20)]\n",
    "student_lk = [stats.binom.pmf(66, 100, i/20) for i in range(1,20)]\n",
    "avg_prof_lk = np.average(prof_lk)\n",
    "avg_postdoc_lk = np.average(postdoc_lk)\n",
    "avg_student_lk = np.average(student_lk)\n",
    "print(avg_prof_lk,avg_postdoc_lk,avg_student_lk)\n",
    "print(avg_prof_lk/avg_postdoc_lk, avg_prof_lk/avg_student_lk) # scaling factor"
   ],
   "metadata": {
    "collapsed": false,
    "pycharm": {
     "name": "#%%\n"
    }
   }
  },
  {
   "cell_type": "code",
   "execution_count": 32,
   "outputs": [
    {
     "data": {
      "text/plain": "0.17434374999999996"
     },
     "execution_count": 32,
     "metadata": {},
     "output_type": "execute_result"
    }
   ],
   "source": [
    "0.010422094818650304*16.728282848474226"
   ],
   "metadata": {
    "collapsed": false,
    "pycharm": {
     "name": "#%%\n"
    }
   }
  },
  {
   "cell_type": "code",
   "execution_count": 33,
   "outputs": [],
   "source": [
    "postdoc_lk_scaled = np.array(postdoc_lk) * (avg_prof_lk/avg_postdoc_lk)\n",
    "student_lk_scaled = np.array(student_lk) * (avg_prof_lk/avg_student_lk)"
   ],
   "metadata": {
    "collapsed": false,
    "pycharm": {
     "name": "#%%\n"
    }
   }
  },
  {
   "cell_type": "code",
   "execution_count": 34,
   "outputs": [
    {
     "data": {
      "text/plain": "0.05    0.000111\n0.10    0.002711\n0.15    0.015469\n0.20    0.048142\n0.25    0.106397\n0.30    0.187508\n0.35    0.279789\n0.40    0.365578\n0.45    0.426383\n0.50    0.448356\n0.55    0.426383\n0.60    0.365578\n0.65    0.279789\n0.70    0.187508\n0.75    0.106397\n0.80    0.048142\n0.85    0.015469\n0.90    0.002711\n0.95    0.000111\ndtype: float64"
     },
     "execution_count": 34,
     "metadata": {},
     "output_type": "execute_result"
    }
   ],
   "source": [
    "import pandas as pd\n",
    "probabilities = [i/20 for i in range(1,20)]\n",
    "prof_vals = pd.Series(prof_lk,probabilities)\n",
    "postdoc_vals = pd.Series(postdoc_lk_scaled,probabilities)\n",
    "student_vals = pd.Series(student_lk_scaled,probabilities)\n",
    "postdoc_vals"
   ],
   "metadata": {
    "collapsed": false,
    "pycharm": {
     "name": "#%%\n"
    }
   }
  },
  {
   "cell_type": "code",
   "execution_count": 35,
   "outputs": [
    {
     "data": {
      "text/plain": "             0         1             2\n0.05  0.203627  0.000111  2.301649e-59\n0.10  0.328050  0.002711  2.701852e-40\n0.15  0.391505  0.015469  1.620626e-29\n0.20  0.409600  0.048142  3.634591e-22\n0.25  0.395508  0.106397  1.008184e-16\n0.30  0.360150  0.187508  1.624622e-12\n0.35  0.312386  0.279789  3.427372e-09\n0.40  0.259200  0.365578  1.515368e-06\n0.45  0.205889  0.426383  1.869707e-04\n0.50  0.156250  0.448356  7.663315e-03\n0.55  0.112767  0.426383  1.149686e-01\n0.60  0.076800  0.365578  6.537903e-01\n0.65  0.048770  0.279789  1.374078e+00\n0.70  0.028350  0.187508  9.682991e-01\n0.75  0.014648  0.106397  1.868185e-01\n0.80  0.006400  0.048142  6.704636e-03\n0.85  0.002152  0.015469  2.070943e-05\n0.90  0.000450  0.002711  9.277305e-10\n0.95  0.000030  0.000111  1.914936e-18",
      "text/html": "<div>\n<style scoped>\n    .dataframe tbody tr th:only-of-type {\n        vertical-align: middle;\n    }\n\n    .dataframe tbody tr th {\n        vertical-align: top;\n    }\n\n    .dataframe thead th {\n        text-align: right;\n    }\n</style>\n<table border=\"1\" class=\"dataframe\">\n  <thead>\n    <tr style=\"text-align: right;\">\n      <th></th>\n      <th>0</th>\n      <th>1</th>\n      <th>2</th>\n    </tr>\n  </thead>\n  <tbody>\n    <tr>\n      <th>0.05</th>\n      <td>0.203627</td>\n      <td>0.000111</td>\n      <td>2.301649e-59</td>\n    </tr>\n    <tr>\n      <th>0.10</th>\n      <td>0.328050</td>\n      <td>0.002711</td>\n      <td>2.701852e-40</td>\n    </tr>\n    <tr>\n      <th>0.15</th>\n      <td>0.391505</td>\n      <td>0.015469</td>\n      <td>1.620626e-29</td>\n    </tr>\n    <tr>\n      <th>0.20</th>\n      <td>0.409600</td>\n      <td>0.048142</td>\n      <td>3.634591e-22</td>\n    </tr>\n    <tr>\n      <th>0.25</th>\n      <td>0.395508</td>\n      <td>0.106397</td>\n      <td>1.008184e-16</td>\n    </tr>\n    <tr>\n      <th>0.30</th>\n      <td>0.360150</td>\n      <td>0.187508</td>\n      <td>1.624622e-12</td>\n    </tr>\n    <tr>\n      <th>0.35</th>\n      <td>0.312386</td>\n      <td>0.279789</td>\n      <td>3.427372e-09</td>\n    </tr>\n    <tr>\n      <th>0.40</th>\n      <td>0.259200</td>\n      <td>0.365578</td>\n      <td>1.515368e-06</td>\n    </tr>\n    <tr>\n      <th>0.45</th>\n      <td>0.205889</td>\n      <td>0.426383</td>\n      <td>1.869707e-04</td>\n    </tr>\n    <tr>\n      <th>0.50</th>\n      <td>0.156250</td>\n      <td>0.448356</td>\n      <td>7.663315e-03</td>\n    </tr>\n    <tr>\n      <th>0.55</th>\n      <td>0.112767</td>\n      <td>0.426383</td>\n      <td>1.149686e-01</td>\n    </tr>\n    <tr>\n      <th>0.60</th>\n      <td>0.076800</td>\n      <td>0.365578</td>\n      <td>6.537903e-01</td>\n    </tr>\n    <tr>\n      <th>0.65</th>\n      <td>0.048770</td>\n      <td>0.279789</td>\n      <td>1.374078e+00</td>\n    </tr>\n    <tr>\n      <th>0.70</th>\n      <td>0.028350</td>\n      <td>0.187508</td>\n      <td>9.682991e-01</td>\n    </tr>\n    <tr>\n      <th>0.75</th>\n      <td>0.014648</td>\n      <td>0.106397</td>\n      <td>1.868185e-01</td>\n    </tr>\n    <tr>\n      <th>0.80</th>\n      <td>0.006400</td>\n      <td>0.048142</td>\n      <td>6.704636e-03</td>\n    </tr>\n    <tr>\n      <th>0.85</th>\n      <td>0.002152</td>\n      <td>0.015469</td>\n      <td>2.070943e-05</td>\n    </tr>\n    <tr>\n      <th>0.90</th>\n      <td>0.000450</td>\n      <td>0.002711</td>\n      <td>9.277305e-10</td>\n    </tr>\n    <tr>\n      <th>0.95</th>\n      <td>0.000030</td>\n      <td>0.000111</td>\n      <td>1.914936e-18</td>\n    </tr>\n  </tbody>\n</table>\n</div>"
     },
     "execution_count": 35,
     "metadata": {},
     "output_type": "execute_result"
    }
   ],
   "source": [
    "collected_df = pd.concat([prof_vals,postdoc_vals,student_vals], axis=1)\n",
    "collected_df"
   ],
   "metadata": {
    "collapsed": false,
    "pycharm": {
     "name": "#%%\n"
    }
   }
  },
  {
   "cell_type": "code",
   "execution_count": 36,
   "outputs": [
    {
     "data": {
      "text/plain": "0.05    0.203738\n0.10    0.330761\n0.15    0.406974\n0.20    0.457742\n0.25    0.501905\n0.30    0.547658\n0.35    0.592175\n0.40    0.624779\n0.45    0.632459\n0.50    0.612270\n0.55    0.654118\n0.60    1.096168\n0.65    1.702637\n0.70    1.184157\n0.75    0.307864\n0.80    0.061247\n0.85    0.017642\n0.90    0.003161\n0.95    0.000141\ndtype: float64"
     },
     "execution_count": 36,
     "metadata": {},
     "output_type": "execute_result"
    }
   ],
   "source": [
    "collected_df_sum = collected_df.sum(axis=1)\n",
    "collected_df_sum"
   ],
   "metadata": {
    "collapsed": false,
    "pycharm": {
     "name": "#%%\n"
    }
   }
  }
 ],
 "metadata": {
  "interpreter": {
   "hash": "31f2aee4e71d21fbe5cf8b01ff0e069b9275f58929596ceb00d14d90e3e16cd6"
  },
  "kernelspec": {
   "display_name": "Python 3.8.10 64-bit",
   "language": "python",
   "name": "python3"
  },
  "language_info": {
   "codemirror_mode": {
    "name": "ipython",
    "version": 3
   },
   "file_extension": ".py",
   "mimetype": "text/x-python",
   "name": "python",
   "nbconvert_exporter": "python",
   "pygments_lexer": "ipython3",
   "version": "3.8.10"
  },
  "orig_nbformat": 4
 },
 "nbformat": 4,
 "nbformat_minor": 2
}